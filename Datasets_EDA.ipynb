{
 "cells": [
  {
   "cell_type": "code",
   "execution_count": 1,
   "id": "84949252-2fee-46c0-8af2-dbfe7544d7bd",
   "metadata": {},
   "outputs": [],
   "source": [
    "import pandas as pd\n",
    "import os\n",
    "import json"
   ]
  },
  {
   "cell_type": "markdown",
   "id": "2bb958f3-2ea7-4707-92aa-e354a036d058",
   "metadata": {},
   "source": [
    "## 1. AFND Dataset"
   ]
  },
  {
   "cell_type": "code",
   "execution_count": 5,
   "id": "2ce6f9c8-2646-4c52-9d54-99d57ff0d65e",
   "metadata": {},
   "outputs": [
    {
     "name": "stdout",
     "output_type": "stream",
     "text": [
      "credible undecided\n"
     ]
    }
   ],
   "source": [
    "dataset_path = 'datasets/text datasets/AFND/Dataset'\n",
    "sources_file = 'datasets/text datasets/AFND/sources.json'\n",
    "\n",
    "# Load sources credibility info\n",
    "with open(sources_file, 'r') as f:\n",
    "    sources_info = json.load(f)\n",
    "\n",
    "print(sources_info['source_1'], sources_info['source_2'])"
   ]
  },
  {
   "cell_type": "code",
   "execution_count": 6,
   "id": "e483c687-c408-4fe1-b48c-6ca6d7a8a14e",
   "metadata": {},
   "outputs": [
    {
     "name": "stdout",
     "output_type": "stream",
     "text": [
      "title المنتخب الوطني المغربي لأقل من 20 سنة يخوض تجمعا اعداديا بالمعمورة\n",
      "text يخوض المنتخب الوطني المغربي لكرة القدم لأقل من 20 سنة، ما بين 24 و28 ماي الجاري تجمعا إعداديا مغلقا بمركب محمد السادس لكرة القدم بالمعمورة.\n",
      "\n",
      "وذكر بلاغ للجامعة الملكية المغربية لكرة القدم، أن هذا التجمع الاعدادي يدخل في إطار استعدادات النخبة الوطنية للمشاركة في البطولة العربية التي ستحتضنها مصر في الفترة المتراوحة ما بين 19 يونيو و3 يوليوز 2021.\n",
      "\n",
      "ولهذا الغرض، وجه السيد فتحي جمال، المشرف العام على المنتخب الوطني الدعوة إلى 24 لاعبا ويتعلق الأمر بكل من :\n",
      "\n",
      "1- عبد الله بنتيك ......... أكاديمية محمد السادس\n",
      "\n",
      "2- اسماعيل لغزالي ..... أكاديمية محمد السادس\n",
      "\n",
      "3- أنس نناح ............... أكاديمية محمد السادس\n",
      "\n",
      "4- محمد أمين السهل .. أكاديمية محمد السادس\n",
      "\n",
      "5- حسن أكبوب ........... أكاديمية محمد السادس\n",
      "\n",
      "6- عمر صادق .............. أكاديمية محمد السادس\n",
      "\n",
      "7- عثمان شرايبي ........ أكاديمية محمد السادس\n",
      "\n",
      "8- محمد راديد ............. أكاديمية محمد السادس\n",
      "\n",
      "9- بدر أوهامي ............. النسمة السطاتية\n",
      "\n",
      "10- عبد اللطيف المتطوع .... شباب الصخور السوداء\n",
      "\n",
      "11- حسام بولاينين ........... الجيش الملكي\n",
      "\n",
      "12- نوفل طاهيري ............ الجيش الملكي\n",
      "\n",
      "13- أشرف لعزيري ........... الفتح الرياضي\n",
      "\n",
      "14- مختار فريطس ........... الفتح الرياضي\n",
      "\n",
      "15- المهدي موهوب ........ الفتح الرياضي\n",
      "\n",
      "16- محمد كاسو ............. أولمبيك خريبكة\n",
      "\n",
      "17- أنس عزيز ................ أولمبيك الدشيرة\n",
      "\n",
      "18- حاتم السواح ............ الرجاء الرياضي\n",
      "\n",
      "19- عبد الله أزرور............. الرجاء الرياضي\n",
      "\n",
      "20- حمزة ولد الحاج ........ نهضة بركان\n",
      "\n",
      "21- محمد مجاهيد .......... نهضة بركان\n",
      "\n",
      "22- حمزة بارودي ........... نهضة بركان\n",
      "\n",
      "23- ريان سيدي أحمد ..... اتحاد تواركة\n",
      "\n",
      "24- نسيم زيبوك ............وداد فاس\n"
     ]
    }
   ],
   "source": [
    "# loading individual source file\n",
    "source_path = os.path.join(dataset_path, 'source_1', 'scraped_articles.json')\n",
    "with open(source_path, 'r') as f:\n",
    "    data = json.load(f)\n",
    "    articles = data.get('articles', [])\n",
    "\n",
    "print('title', articles[0]['title'])\n",
    "print('text', articles[0]['text'])"
   ]
  },
  {
   "cell_type": "markdown",
   "id": "66e4a8a2-ff9c-40d7-be43-b51320f91bce",
   "metadata": {},
   "source": [
    "### 2. All-Data Dataset"
   ]
  },
  {
   "cell_type": "code",
   "execution_count": 4,
   "id": "1a29f920-d026-402e-9234-94c391b3df49",
   "metadata": {},
   "outputs": [],
   "source": [
    "all_data = pd.read_csv('datasets/text+image/text+image/all_data.csv')"
   ]
  },
  {
   "cell_type": "code",
   "execution_count": 14,
   "id": "cd130dcb-ae7d-4fa7-85e0-6538bc6674a3",
   "metadata": {},
   "outputs": [
    {
     "data": {
      "text/html": [
       "<div>\n",
       "<style scoped>\n",
       "    .dataframe tbody tr th:only-of-type {\n",
       "        vertical-align: middle;\n",
       "    }\n",
       "\n",
       "    .dataframe tbody tr th {\n",
       "        vertical-align: top;\n",
       "    }\n",
       "\n",
       "    .dataframe thead th {\n",
       "        text-align: right;\n",
       "    }\n",
       "</style>\n",
       "<table border=\"1\" class=\"dataframe\">\n",
       "  <thead>\n",
       "    <tr style=\"text-align: right;\">\n",
       "      <th></th>\n",
       "      <th>Unnamed: 0.1</th>\n",
       "      <th>Unnamed: 0</th>\n",
       "      <th>author</th>\n",
       "      <th>comments</th>\n",
       "      <th>country</th>\n",
       "      <th>crawled</th>\n",
       "      <th>domain_rank</th>\n",
       "      <th>id</th>\n",
       "      <th>language</th>\n",
       "      <th>likes</th>\n",
       "      <th>...</th>\n",
       "      <th>fear</th>\n",
       "      <th>joy</th>\n",
       "      <th>sadness</th>\n",
       "      <th>surprise</th>\n",
       "      <th>trust</th>\n",
       "      <th>negative</th>\n",
       "      <th>positive</th>\n",
       "      <th>first_all</th>\n",
       "      <th>second_all</th>\n",
       "      <th>third_all</th>\n",
       "    </tr>\n",
       "  </thead>\n",
       "  <tbody>\n",
       "    <tr>\n",
       "      <th>0</th>\n",
       "      <td>1</td>\n",
       "      <td>NaN</td>\n",
       "      <td>JEREMY W. PETERS</td>\n",
       "      <td>0.0</td>\n",
       "      <td>US</td>\n",
       "      <td>2017-03-14 08:25:04</td>\n",
       "      <td>0</td>\n",
       "      <td>3.0</td>\n",
       "      <td>english</td>\n",
       "      <td>0.0</td>\n",
       "      <td>...</td>\n",
       "      <td>6</td>\n",
       "      <td>20</td>\n",
       "      <td>5</td>\n",
       "      <td>14</td>\n",
       "      <td>30</td>\n",
       "      <td>14</td>\n",
       "      <td>52</td>\n",
       "      <td>409</td>\n",
       "      <td>150</td>\n",
       "      <td>45</td>\n",
       "    </tr>\n",
       "    <tr>\n",
       "      <th>1</th>\n",
       "      <td>2</td>\n",
       "      <td>NaN</td>\n",
       "      <td>STEVE EDER</td>\n",
       "      <td>0.0</td>\n",
       "      <td>US</td>\n",
       "      <td>2017-03-14 08:25:36</td>\n",
       "      <td>0</td>\n",
       "      <td>4.0</td>\n",
       "      <td>english</td>\n",
       "      <td>0.0</td>\n",
       "      <td>...</td>\n",
       "      <td>4</td>\n",
       "      <td>4</td>\n",
       "      <td>4</td>\n",
       "      <td>5</td>\n",
       "      <td>9</td>\n",
       "      <td>8</td>\n",
       "      <td>15</td>\n",
       "      <td>145</td>\n",
       "      <td>38</td>\n",
       "      <td>28</td>\n",
       "    </tr>\n",
       "    <tr>\n",
       "      <th>2</th>\n",
       "      <td>3</td>\n",
       "      <td>NaN</td>\n",
       "      <td>MAGGIE HABERMAN ASHLEY PARKER</td>\n",
       "      <td>0.0</td>\n",
       "      <td>US</td>\n",
       "      <td>2017-03-14 08:25:36</td>\n",
       "      <td>0</td>\n",
       "      <td>5.0</td>\n",
       "      <td>english</td>\n",
       "      <td>0.0</td>\n",
       "      <td>...</td>\n",
       "      <td>8</td>\n",
       "      <td>15</td>\n",
       "      <td>8</td>\n",
       "      <td>6</td>\n",
       "      <td>26</td>\n",
       "      <td>15</td>\n",
       "      <td>34</td>\n",
       "      <td>440</td>\n",
       "      <td>168</td>\n",
       "      <td>68</td>\n",
       "    </tr>\n",
       "    <tr>\n",
       "      <th>3</th>\n",
       "      <td>4</td>\n",
       "      <td>NaN</td>\n",
       "      <td>NELSON D. SCHWARTZ SUI-LEE WEE</td>\n",
       "      <td>0.0</td>\n",
       "      <td>US</td>\n",
       "      <td>2017-03-14 08:25:36</td>\n",
       "      <td>0</td>\n",
       "      <td>6.0</td>\n",
       "      <td>english</td>\n",
       "      <td>0.0</td>\n",
       "      <td>...</td>\n",
       "      <td>10</td>\n",
       "      <td>10</td>\n",
       "      <td>10</td>\n",
       "      <td>6</td>\n",
       "      <td>32</td>\n",
       "      <td>24</td>\n",
       "      <td>43</td>\n",
       "      <td>592</td>\n",
       "      <td>136</td>\n",
       "      <td>71</td>\n",
       "    </tr>\n",
       "    <tr>\n",
       "      <th>4</th>\n",
       "      <td>5</td>\n",
       "      <td>NaN</td>\n",
       "      <td>MAGGIE HABERMAN</td>\n",
       "      <td>0.0</td>\n",
       "      <td>US</td>\n",
       "      <td>2017-03-14 08:25:37</td>\n",
       "      <td>0</td>\n",
       "      <td>7.0</td>\n",
       "      <td>english</td>\n",
       "      <td>0.0</td>\n",
       "      <td>...</td>\n",
       "      <td>3</td>\n",
       "      <td>6</td>\n",
       "      <td>2</td>\n",
       "      <td>4</td>\n",
       "      <td>14</td>\n",
       "      <td>4</td>\n",
       "      <td>25</td>\n",
       "      <td>223</td>\n",
       "      <td>82</td>\n",
       "      <td>28</td>\n",
       "    </tr>\n",
       "  </tbody>\n",
       "</table>\n",
       "<p>5 rows × 54 columns</p>\n",
       "</div>"
      ],
      "text/plain": [
       "   Unnamed: 0.1  Unnamed: 0                          author  comments country  \\\n",
       "0             1         NaN                JEREMY W. PETERS       0.0      US   \n",
       "1             2         NaN                      STEVE EDER       0.0      US   \n",
       "2             3         NaN   MAGGIE HABERMAN ASHLEY PARKER       0.0      US   \n",
       "3             4         NaN  NELSON D. SCHWARTZ SUI-LEE WEE       0.0      US   \n",
       "4             5         NaN                 MAGGIE HABERMAN       0.0      US   \n",
       "\n",
       "               crawled  domain_rank   id language  likes  ... fear  joy  \\\n",
       "0  2017-03-14 08:25:04            0  3.0  english    0.0  ...    6   20   \n",
       "1  2017-03-14 08:25:36            0  4.0  english    0.0  ...    4    4   \n",
       "2  2017-03-14 08:25:36            0  5.0  english    0.0  ...    8   15   \n",
       "3  2017-03-14 08:25:36            0  6.0  english    0.0  ...   10   10   \n",
       "4  2017-03-14 08:25:37            0  7.0  english    0.0  ...    3    6   \n",
       "\n",
       "   sadness surprise  trust  negative positive  first_all second_all third_all  \n",
       "0        5       14     30        14       52        409        150        45  \n",
       "1        4        5      9         8       15        145         38        28  \n",
       "2        8        6     26        15       34        440        168        68  \n",
       "3       10        6     32        24       43        592        136        71  \n",
       "4        2        4     14         4       25        223         82        28  \n",
       "\n",
       "[5 rows x 54 columns]"
      ]
     },
     "execution_count": 14,
     "metadata": {},
     "output_type": "execute_result"
    }
   ],
   "source": [
    "all_data.head()"
   ]
  },
  {
   "cell_type": "code",
   "execution_count": 9,
   "id": "e387736e-ade2-4569-aa13-b373a9f40dc3",
   "metadata": {},
   "outputs": [
    {
     "data": {
      "text/plain": [
       "array(['real', 'fake'], dtype=object)"
      ]
     },
     "execution_count": 9,
     "metadata": {},
     "output_type": "execute_result"
    }
   ],
   "source": [
    "all_data['type'].unique()"
   ]
  },
  {
   "cell_type": "markdown",
   "id": "7fd63c4a-06ca-45c2-b2a5-672a4d62a7b4",
   "metadata": {},
   "source": [
    "## 3- ANS-Arabic-Satirical-News"
   ]
  },
  {
   "cell_type": "code",
   "execution_count": 3,
   "id": "b9b75f1e-70d6-4c27-93db-40b17c9b8373",
   "metadata": {},
   "outputs": [
    {
     "data": {
      "text/html": [
       "<div>\n",
       "<style scoped>\n",
       "    .dataframe tbody tr th:only-of-type {\n",
       "        vertical-align: middle;\n",
       "    }\n",
       "\n",
       "    .dataframe tbody tr th {\n",
       "        vertical-align: top;\n",
       "    }\n",
       "\n",
       "    .dataframe thead th {\n",
       "        text-align: right;\n",
       "    }\n",
       "</style>\n",
       "<table border=\"1\" class=\"dataframe\">\n",
       "  <thead>\n",
       "    <tr style=\"text-align: right;\">\n",
       "      <th></th>\n",
       "      <th>claim_s</th>\n",
       "      <th>fake_flag</th>\n",
       "    </tr>\n",
       "  </thead>\n",
       "  <tbody>\n",
       "    <tr>\n",
       "      <th>0</th>\n",
       "      <td>تراجع التضخم النصف سنوي في الجزائر</td>\n",
       "      <td>1</td>\n",
       "    </tr>\n",
       "    <tr>\n",
       "      <th>1</th>\n",
       "      <td>صكوك من الكويت بملياري دولار</td>\n",
       "      <td>1</td>\n",
       "    </tr>\n",
       "    <tr>\n",
       "      <th>2</th>\n",
       "      <td>الحرب في سوريا: قافلة الإغاثة المرتقبة لن تتمك...</td>\n",
       "      <td>0</td>\n",
       "    </tr>\n",
       "    <tr>\n",
       "      <th>3</th>\n",
       "      <td>الأساطير المحيطة بالممثلين المجوس في مصر تتحطم...</td>\n",
       "      <td>1</td>\n",
       "    </tr>\n",
       "    <tr>\n",
       "      <th>4</th>\n",
       "      <td>مصر: مجلس النواب يقر حصانة قضائية لضباط كبار ب...</td>\n",
       "      <td>0</td>\n",
       "    </tr>\n",
       "  </tbody>\n",
       "</table>\n",
       "</div>"
      ],
      "text/plain": [
       "                                             claim_s  fake_flag\n",
       "0                 تراجع التضخم النصف سنوي في الجزائر          1\n",
       "1                       صكوك من الكويت بملياري دولار          1\n",
       "2  الحرب في سوريا: قافلة الإغاثة المرتقبة لن تتمك...          0\n",
       "3  الأساطير المحيطة بالممثلين المجوس في مصر تتحطم...          1\n",
       "4  مصر: مجلس النواب يقر حصانة قضائية لضباط كبار ب...          0"
      ]
     },
     "execution_count": 3,
     "metadata": {},
     "output_type": "execute_result"
    }
   ],
   "source": [
    "ans_arabic_train = pd.read_csv('datasets/text datasets/ANS-Arabic-Satirical-News/ans-master/data/claim/train.csv')\n",
    "ans_arabic_train.head()"
   ]
  },
  {
   "cell_type": "markdown",
   "id": "6645fd57-d08b-4de1-a195-e14816c9bdb3",
   "metadata": {},
   "source": [
    "## 4- Arabic-Satirical-News"
   ]
  },
  {
   "cell_type": "code",
   "execution_count": 5,
   "id": "a3aad667-b861-4f08-84b6-b072d7dcf4aa",
   "metadata": {},
   "outputs": [
    {
     "name": "stdout",
     "output_type": "stream",
     "text": [
      "3185\n"
     ]
    }
   ],
   "source": [
    "folder_path = 'datasets/text datasets/Arabic-Satirical-News/Arabic-Satirical-Fake-News-Dataset-master/fake_news'\n",
    "\n",
    "# Initialize lists to store data\n",
    "news_texts = []\n",
    "labels = []\n",
    "\n",
    "# Iterate through all text files in the folder\n",
    "for filename in os.listdir(folder_path):\n",
    "    if filename.endswith('.txt'):\n",
    "        file_path = os.path.join(folder_path, filename)\n",
    "        with open(file_path, 'r', encoding='utf-8') as file:\n",
    "            content = file.read().strip()\n",
    "            news_texts.append(content)\n",
    "            labels.append('fake')\n",
    "\n",
    "# Create a DataFrame\n",
    "df = pd.DataFrame({\n",
    "    'text': news_texts,\n",
    "    'label': labels\n",
    "})\n",
    "\n",
    "print(len(df))"
   ]
  },
  {
   "cell_type": "markdown",
   "id": "a6b1d78a-a133-4064-adcb-bd4bf13d0f3d",
   "metadata": {},
   "source": [
    "## 5- Ax-to-Grind-Urdu"
   ]
  },
  {
   "cell_type": "code",
   "execution_count": 8,
   "id": "40a9913a-2a22-4edb-81b1-b3bee48aacc2",
   "metadata": {},
   "outputs": [
    {
     "data": {
      "text/html": [
       "<div>\n",
       "<style scoped>\n",
       "    .dataframe tbody tr th:only-of-type {\n",
       "        vertical-align: middle;\n",
       "    }\n",
       "\n",
       "    .dataframe tbody tr th {\n",
       "        vertical-align: top;\n",
       "    }\n",
       "\n",
       "    .dataframe thead th {\n",
       "        text-align: right;\n",
       "    }\n",
       "</style>\n",
       "<table border=\"1\" class=\"dataframe\">\n",
       "  <thead>\n",
       "    <tr style=\"text-align: right;\">\n",
       "      <th></th>\n",
       "      <th>News Items</th>\n",
       "      <th>Label</th>\n",
       "    </tr>\n",
       "    <tr>\n",
       "      <th>Sr. No.</th>\n",
       "      <th></th>\n",
       "      <th></th>\n",
       "    </tr>\n",
       "  </thead>\n",
       "  <tbody>\n",
       "    <tr>\n",
       "      <th>1</th>\n",
       "      <td>ٹی ٹی پی نے پنجاب حکومت کے ہیلی کاپٹر کے عملے ...</td>\n",
       "      <td>FAKE</td>\n",
       "    </tr>\n",
       "    <tr>\n",
       "      <th>2</th>\n",
       "      <td>مارک زکربرگ سیاست میں آنے کا سوچ رہے ہیں۔</td>\n",
       "      <td>FAKE</td>\n",
       "    </tr>\n",
       "    <tr>\n",
       "      <th>3</th>\n",
       "      <td>فریدہ جلال نے اپنی موت کی افواہوں پر تنقید کی۔</td>\n",
       "      <td>FAKE</td>\n",
       "    </tr>\n",
       "    <tr>\n",
       "      <th>4</th>\n",
       "      <td>جعلی خبریں: پاپ اسٹار حدیقہ کیانی نے جعلی منشی...</td>\n",
       "      <td>FAKE</td>\n",
       "    </tr>\n",
       "    <tr>\n",
       "      <th>5</th>\n",
       "      <td>صنم ماروی نے میڈیا پر گردش کرنے والی زیادتی او...</td>\n",
       "      <td>FAKE</td>\n",
       "    </tr>\n",
       "  </tbody>\n",
       "</table>\n",
       "</div>"
      ],
      "text/plain": [
       "                                                News Items Label\n",
       "Sr. No.                                                         \n",
       "1        ٹی ٹی پی نے پنجاب حکومت کے ہیلی کاپٹر کے عملے ...  FAKE\n",
       "2                مارک زکربرگ سیاست میں آنے کا سوچ رہے ہیں۔  FAKE\n",
       "3           فریدہ جلال نے اپنی موت کی افواہوں پر تنقید کی۔  FAKE\n",
       "4        جعلی خبریں: پاپ اسٹار حدیقہ کیانی نے جعلی منشی...  FAKE\n",
       "5        صنم ماروی نے میڈیا پر گردش کرنے والی زیادتی او...  FAKE"
      ]
     },
     "execution_count": 8,
     "metadata": {},
     "output_type": "execute_result"
    }
   ],
   "source": [
    "ax_to_grind = pd.read_csv('datasets/text datasets/Ax-to-Grind-Urdu/Ax-to-Grind-Urdu-Dataset-main/Combined .csv', index_col='Sr. No.')\n",
    "ax_to_grind.head()"
   ]
  },
  {
   "cell_type": "code",
   "execution_count": 10,
   "id": "1e3a351e-ced2-4741-bc92-3b752b572f16",
   "metadata": {},
   "outputs": [
    {
     "data": {
      "text/plain": [
       "Label\n",
       "FAKE     5039\n",
       "TRUE     4997\n",
       "TRUE       33\n",
       "FAKE       14\n",
       "Label       1\n",
       "Name: count, dtype: int64"
      ]
     },
     "execution_count": 10,
     "metadata": {},
     "output_type": "execute_result"
    }
   ],
   "source": [
    "ax_to_grind.Label.value_counts()"
   ]
  },
  {
   "cell_type": "markdown",
   "id": "ea46bb32-ac6b-4965-beef-5acd6e3ce579",
   "metadata": {},
   "source": [
    "## 6- BAAI_biendata2019"
   ]
  },
  {
   "cell_type": "code",
   "execution_count": 11,
   "id": "763d2858-2c7c-42e5-88c6-043bf6e07379",
   "metadata": {},
   "outputs": [],
   "source": [
    "baai = pd.read_csv('datasets/text datasets/BAAI_biendata2019 (10).csv')"
   ]
  },
  {
   "cell_type": "code",
   "execution_count": 12,
   "id": "7b737a55-0251-4e61-ac60-64b7aa5b7a20",
   "metadata": {},
   "outputs": [
    {
     "data": {
      "text/html": [
       "<div>\n",
       "<style scoped>\n",
       "    .dataframe tbody tr th:only-of-type {\n",
       "        vertical-align: middle;\n",
       "    }\n",
       "\n",
       "    .dataframe tbody tr th {\n",
       "        vertical-align: top;\n",
       "    }\n",
       "\n",
       "    .dataframe thead th {\n",
       "        text-align: right;\n",
       "    }\n",
       "</style>\n",
       "<table border=\"1\" class=\"dataframe\">\n",
       "  <thead>\n",
       "    <tr style=\"text-align: right;\">\n",
       "      <th></th>\n",
       "      <th>id</th>\n",
       "      <th>text</th>\n",
       "      <th>label</th>\n",
       "    </tr>\n",
       "  </thead>\n",
       "  <tbody>\n",
       "    <tr>\n",
       "      <th>0</th>\n",
       "      <td>09766d6ec92a9eff7f8763f9f9fee14f</td>\n",
       "      <td>＂李的76人律师团领队、法律大学副校长张爱国教授对媒体表示，李天一因第一个与被害女子发生性关...</td>\n",
       "      <td>1</td>\n",
       "    </tr>\n",
       "    <tr>\n",
       "      <th>1</th>\n",
       "      <td>1cdf439752d339b45fc848984c609899</td>\n",
       "      <td>【男子捏造“周浦滴滴司机砍死乘客”谣言被刑拘称只是觉得好玩】</td>\n",
       "      <td>0</td>\n",
       "    </tr>\n",
       "    <tr>\n",
       "      <th>2</th>\n",
       "      <td>d3aa07cc41ab42fa5c8718bd655abb1c</td>\n",
       "      <td>【善良的大桥】金沙江大桥在没车行走的时候自我坍塌，这桥通人性，未伤一车一人，太善良了。应该当...</td>\n",
       "      <td>1</td>\n",
       "    </tr>\n",
       "    <tr>\n",
       "      <th>3</th>\n",
       "      <td>e940e98292b76024dfbcbcff378c9d2f</td>\n",
       "      <td>幼儿园都发通知了，家长们注意啦：现在得白血病的小孩越来越多，妇幼保健院提示您，请不要给宝宝喝...</td>\n",
       "      <td>1</td>\n",
       "    </tr>\n",
       "    <tr>\n",
       "      <th>4</th>\n",
       "      <td>21b667ed6784407bf5562a400c72bb3f</td>\n",
       "      <td>上海4000吨垃圾偷倒苏州太湖西山岛(图)（分享自@新浪新闻）</td>\n",
       "      <td>0</td>\n",
       "    </tr>\n",
       "  </tbody>\n",
       "</table>\n",
       "</div>"
      ],
      "text/plain": [
       "                                 id  \\\n",
       "0  09766d6ec92a9eff7f8763f9f9fee14f   \n",
       "1  1cdf439752d339b45fc848984c609899   \n",
       "2  d3aa07cc41ab42fa5c8718bd655abb1c   \n",
       "3  e940e98292b76024dfbcbcff378c9d2f   \n",
       "4  21b667ed6784407bf5562a400c72bb3f   \n",
       "\n",
       "                                                text  label  \n",
       "0  ＂李的76人律师团领队、法律大学副校长张爱国教授对媒体表示，李天一因第一个与被害女子发生性关...      1  \n",
       "1                     【男子捏造“周浦滴滴司机砍死乘客”谣言被刑拘称只是觉得好玩】      0  \n",
       "2  【善良的大桥】金沙江大桥在没车行走的时候自我坍塌，这桥通人性，未伤一车一人，太善良了。应该当...      1  \n",
       "3  幼儿园都发通知了，家长们注意啦：现在得白血病的小孩越来越多，妇幼保健院提示您，请不要给宝宝喝...      1  \n",
       "4                    上海4000吨垃圾偷倒苏州太湖西山岛(图)（分享自@新浪新闻）      0  "
      ]
     },
     "execution_count": 12,
     "metadata": {},
     "output_type": "execute_result"
    }
   ],
   "source": [
    "baai.head()"
   ]
  },
  {
   "cell_type": "code",
   "execution_count": 13,
   "id": "330cce0c-f1c7-4d2a-9a07-a4334724a58f",
   "metadata": {},
   "outputs": [
    {
     "data": {
      "text/plain": [
       "label\n",
       "1    19285\n",
       "0    19186\n",
       "Name: count, dtype: int64"
      ]
     },
     "execution_count": 13,
     "metadata": {},
     "output_type": "execute_result"
    }
   ],
   "source": [
    "baai.label.value_counts()"
   ]
  },
  {
   "cell_type": "markdown",
   "id": "fbb57300-e74b-44ae-8d67-826d2bbd5484",
   "metadata": {},
   "source": [
    "## 7- BadBot"
   ]
  },
  {
   "cell_type": "code",
   "execution_count": 14,
   "id": "b040709c-7e58-4579-bcf2-0278cb20a6db",
   "metadata": {},
   "outputs": [],
   "source": [
    "badbot = pd.read_csv('datasets/text datasets/badbot.csv')"
   ]
  },
  {
   "cell_type": "code",
   "execution_count": 15,
   "id": "d99c23a9-be62-4017-bd67-8ef519ecccc0",
   "metadata": {},
   "outputs": [
    {
     "data": {
      "text/html": [
       "<div>\n",
       "<style scoped>\n",
       "    .dataframe tbody tr th:only-of-type {\n",
       "        vertical-align: middle;\n",
       "    }\n",
       "\n",
       "    .dataframe tbody tr th {\n",
       "        vertical-align: top;\n",
       "    }\n",
       "\n",
       "    .dataframe thead th {\n",
       "        text-align: right;\n",
       "    }\n",
       "</style>\n",
       "<table border=\"1\" class=\"dataframe\">\n",
       "  <thead>\n",
       "    <tr style=\"text-align: right;\">\n",
       "      <th></th>\n",
       "      <th>ID</th>\n",
       "      <th>URLs</th>\n",
       "      <th>Headline</th>\n",
       "      <th>Body</th>\n",
       "      <th>Label</th>\n",
       "      <th>Category</th>\n",
       "    </tr>\n",
       "  </thead>\n",
       "  <tbody>\n",
       "    <tr>\n",
       "      <th>0</th>\n",
       "      <td>0</td>\n",
       "      <td>http://www.bbc.com/news/world-us-canada-414191...</td>\n",
       "      <td>Four ways Bob Corker skewered Donald Trump</td>\n",
       "      <td>Image copyright Getty Images\\nOn Sunday mornin...</td>\n",
       "      <td>1</td>\n",
       "      <td>C</td>\n",
       "    </tr>\n",
       "    <tr>\n",
       "      <th>1</th>\n",
       "      <td>1</td>\n",
       "      <td>https://www.reuters.com/article/us-filmfestiva...</td>\n",
       "      <td>Linklater's war veteran comedy speaks to moder...</td>\n",
       "      <td>LONDON (Reuters) - “Last Flag Flying”, a comed...</td>\n",
       "      <td>1</td>\n",
       "      <td>E</td>\n",
       "    </tr>\n",
       "    <tr>\n",
       "      <th>2</th>\n",
       "      <td>2</td>\n",
       "      <td>https://www.nytimes.com/2017/10/09/us/politics...</td>\n",
       "      <td>Trump’s Fight With Corker Jeopardizes His Legi...</td>\n",
       "      <td>The feud broke into public view last week when...</td>\n",
       "      <td>1</td>\n",
       "      <td>D</td>\n",
       "    </tr>\n",
       "    <tr>\n",
       "      <th>3</th>\n",
       "      <td>3</td>\n",
       "      <td>https://www.reuters.com/article/us-mexico-oil-...</td>\n",
       "      <td>Egypt's Cheiron wins tie-up with Pemex for Mex...</td>\n",
       "      <td>MEXICO CITY (Reuters) - Egypt’s Cheiron Holdin...</td>\n",
       "      <td>1</td>\n",
       "      <td>A</td>\n",
       "    </tr>\n",
       "    <tr>\n",
       "      <th>4</th>\n",
       "      <td>4</td>\n",
       "      <td>http://www.cnn.com/videos/cnnmoney/2017/10/08/...</td>\n",
       "      <td>Jason Aldean opens 'SNL' with Vegas tribute</td>\n",
       "      <td>Country singer Jason Aldean, who was performin...</td>\n",
       "      <td>1</td>\n",
       "      <td>C</td>\n",
       "    </tr>\n",
       "  </tbody>\n",
       "</table>\n",
       "</div>"
      ],
      "text/plain": [
       "   ID                                               URLs  \\\n",
       "0   0  http://www.bbc.com/news/world-us-canada-414191...   \n",
       "1   1  https://www.reuters.com/article/us-filmfestiva...   \n",
       "2   2  https://www.nytimes.com/2017/10/09/us/politics...   \n",
       "3   3  https://www.reuters.com/article/us-mexico-oil-...   \n",
       "4   4  http://www.cnn.com/videos/cnnmoney/2017/10/08/...   \n",
       "\n",
       "                                            Headline  \\\n",
       "0         Four ways Bob Corker skewered Donald Trump   \n",
       "1  Linklater's war veteran comedy speaks to moder...   \n",
       "2  Trump’s Fight With Corker Jeopardizes His Legi...   \n",
       "3  Egypt's Cheiron wins tie-up with Pemex for Mex...   \n",
       "4        Jason Aldean opens 'SNL' with Vegas tribute   \n",
       "\n",
       "                                                Body  Label Category  \n",
       "0  Image copyright Getty Images\\nOn Sunday mornin...      1        C  \n",
       "1  LONDON (Reuters) - “Last Flag Flying”, a comed...      1        E  \n",
       "2  The feud broke into public view last week when...      1        D  \n",
       "3  MEXICO CITY (Reuters) - Egypt’s Cheiron Holdin...      1        A  \n",
       "4  Country singer Jason Aldean, who was performin...      1        C  "
      ]
     },
     "execution_count": 15,
     "metadata": {},
     "output_type": "execute_result"
    }
   ],
   "source": [
    "badbot.head()"
   ]
  },
  {
   "cell_type": "code",
   "execution_count": 16,
   "id": "dbf7a508-ddc7-4961-93b5-242ab7896164",
   "metadata": {},
   "outputs": [
    {
     "data": {
      "text/plain": [
       "Label\n",
       "0    2118\n",
       "1    1866\n",
       "Name: count, dtype: int64"
      ]
     },
     "execution_count": 16,
     "metadata": {},
     "output_type": "execute_result"
    }
   ],
   "source": [
    "badbot.Label.value_counts()"
   ]
  },
  {
   "cell_type": "markdown",
   "id": "e949fbcf-e4a4-49f6-9757-a03ad5fcb867",
   "metadata": {},
   "source": [
    "## 8- BanFakeNews-2.0"
   ]
  },
  {
   "cell_type": "code",
   "execution_count": 20,
   "id": "bf66de4a-184a-4c6d-a020-daced44bfa9a",
   "metadata": {},
   "outputs": [],
   "source": [
    "ban_fake_news = pd.read_csv('datasets/text datasets/BanFakeNews-2.0.csv', index_col='Unnamed: 0')"
   ]
  },
  {
   "cell_type": "code",
   "execution_count": 21,
   "id": "184e1926-6fdb-47c4-9580-062c515f0aaf",
   "metadata": {},
   "outputs": [
    {
     "data": {
      "text/html": [
       "<div>\n",
       "<style scoped>\n",
       "    .dataframe tbody tr th:only-of-type {\n",
       "        vertical-align: middle;\n",
       "    }\n",
       "\n",
       "    .dataframe tbody tr th {\n",
       "        vertical-align: top;\n",
       "    }\n",
       "\n",
       "    .dataframe thead th {\n",
       "        text-align: right;\n",
       "    }\n",
       "</style>\n",
       "<table border=\"1\" class=\"dataframe\">\n",
       "  <thead>\n",
       "    <tr style=\"text-align: right;\">\n",
       "      <th></th>\n",
       "      <th>Headline</th>\n",
       "      <th>Content</th>\n",
       "      <th>Label</th>\n",
       "    </tr>\n",
       "  </thead>\n",
       "  <tbody>\n",
       "    <tr>\n",
       "      <th>0</th>\n",
       "      <td>হট্টগোল করায় বাকৃবিতে দুইজন বরখাস্ত, ৬ জনকে শোকজ</td>\n",
       "      <td>গত ১৭ সেপ্টেম্বর বাংলাদেশ কৃষি বিশ্ববিদ্যালয়ে ...</td>\n",
       "      <td>1</td>\n",
       "    </tr>\n",
       "    <tr>\n",
       "      <th>1</th>\n",
       "      <td>মালয়েশিয়ায় কর্মী পাঠানোর ব্যবস্থা নেয়ার সুপারিশ</td>\n",
       "      <td>বাংলাদেশের বৃহৎ শ্রমবাজার মালয়েশিয়ায় আবার শ্রম...</td>\n",
       "      <td>1</td>\n",
       "    </tr>\n",
       "    <tr>\n",
       "      <th>2</th>\n",
       "      <td>প্রেমের প্রস্তাবে রাজি না হওয়ায় স্কুলছাত্রীকে ...</td>\n",
       "      <td>নরসিংদীর মনোহরদীতে প্রেমের প্রস্তাবে রাজি না হ...</td>\n",
       "      <td>1</td>\n",
       "    </tr>\n",
       "    <tr>\n",
       "      <th>3</th>\n",
       "      <td>মেডিয়েশনই মামলাজট নিরসনের পথ : বিচারপতি আহমেদ ...</td>\n",
       "      <td>সুপ্রিম কোর্টের হাইকোর্ট বিভাগের বিচারপতি আহমে...</td>\n",
       "      <td>1</td>\n",
       "    </tr>\n",
       "    <tr>\n",
       "      <th>4</th>\n",
       "      <td>টকশোতে বক্তব্য দিতে গিয়ে জাপা নেতার মৃত্যু</td>\n",
       "      <td>মাদারীপুর সদরের উপজেলার লেকেরপাড়ে একটি বেসরকার...</td>\n",
       "      <td>1</td>\n",
       "    </tr>\n",
       "  </tbody>\n",
       "</table>\n",
       "</div>"
      ],
      "text/plain": [
       "                                            Headline  \\\n",
       "0   হট্টগোল করায় বাকৃবিতে দুইজন বরখাস্ত, ৬ জনকে শোকজ   \n",
       "1    মালয়েশিয়ায় কর্মী পাঠানোর ব্যবস্থা নেয়ার সুপারিশ   \n",
       "2  প্রেমের প্রস্তাবে রাজি না হওয়ায় স্কুলছাত্রীকে ...   \n",
       "3  মেডিয়েশনই মামলাজট নিরসনের পথ : বিচারপতি আহমেদ ...   \n",
       "4         টকশোতে বক্তব্য দিতে গিয়ে জাপা নেতার মৃত্যু   \n",
       "\n",
       "                                             Content  Label  \n",
       "0  গত ১৭ সেপ্টেম্বর বাংলাদেশ কৃষি বিশ্ববিদ্যালয়ে ...      1  \n",
       "1  বাংলাদেশের বৃহৎ শ্রমবাজার মালয়েশিয়ায় আবার শ্রম...      1  \n",
       "2  নরসিংদীর মনোহরদীতে প্রেমের প্রস্তাবে রাজি না হ...      1  \n",
       "3  সুপ্রিম কোর্টের হাইকোর্ট বিভাগের বিচারপতি আহমে...      1  \n",
       "4  মাদারীপুর সদরের উপজেলার লেকেরপাড়ে একটি বেসরকার...      1  "
      ]
     },
     "execution_count": 21,
     "metadata": {},
     "output_type": "execute_result"
    }
   ],
   "source": [
    "ban_fake_news.head()"
   ]
  },
  {
   "cell_type": "code",
   "execution_count": 19,
   "id": "58628106-26ec-4829-bc2d-9fa88c97be57",
   "metadata": {},
   "outputs": [
    {
     "data": {
      "text/plain": [
       "Label\n",
       "1    48678\n",
       "0    12903\n",
       "Name: count, dtype: int64"
      ]
     },
     "execution_count": 19,
     "metadata": {},
     "output_type": "execute_result"
    }
   ],
   "source": [
    "ban_fake_news.Label.value_counts()"
   ]
  },
  {
   "cell_type": "markdown",
   "id": "cbdd7119-7c7d-4749-a656-ccb613b88c1f",
   "metadata": {},
   "source": [
    "## 9 - Bend the Truth"
   ]
  },
  {
   "cell_type": "code",
   "execution_count": 25,
   "id": "b3c02290-8411-414c-8fef-6dfa2f89f5a6",
   "metadata": {},
   "outputs": [
    {
     "data": {
      "text/html": [
       "<div>\n",
       "<style scoped>\n",
       "    .dataframe tbody tr th:only-of-type {\n",
       "        vertical-align: middle;\n",
       "    }\n",
       "\n",
       "    .dataframe tbody tr th {\n",
       "        vertical-align: top;\n",
       "    }\n",
       "\n",
       "    .dataframe thead th {\n",
       "        text-align: right;\n",
       "    }\n",
       "</style>\n",
       "<table border=\"1\" class=\"dataframe\">\n",
       "  <thead>\n",
       "    <tr style=\"text-align: right;\">\n",
       "      <th></th>\n",
       "      <th>text</th>\n",
       "      <th>label</th>\n",
       "    </tr>\n",
       "  </thead>\n",
       "  <tbody>\n",
       "    <tr>\n",
       "      <th>0</th>\n",
       "      <td>کراچی فارورڈیواےجی جرمنی کے صف اول کا وہ ادارہ...</td>\n",
       "      <td>fake</td>\n",
       "    </tr>\n",
       "    <tr>\n",
       "      <th>1</th>\n",
       "      <td>﻿ڈیسک: سام سنگ کی جانب سے اپريل کے شروع میں ني...</td>\n",
       "      <td>fake</td>\n",
       "    </tr>\n",
       "    <tr>\n",
       "      <th>2</th>\n",
       "      <td>کراچی (اُردو پوائنٹ اخبارتازہ ترین 05 دسمبر201...</td>\n",
       "      <td>fake</td>\n",
       "    </tr>\n",
       "    <tr>\n",
       "      <th>3</th>\n",
       "      <td>نیویارک (مانیٹرنگ ڈیسک) امریکہ میں ہونے والی ا...</td>\n",
       "      <td>fake</td>\n",
       "    </tr>\n",
       "    <tr>\n",
       "      <th>4</th>\n",
       "      <td>جکارتہ 23 اگست (سیاست ڈاٹ کام) پاکستان ہاکی ٹی...</td>\n",
       "      <td>fake</td>\n",
       "    </tr>\n",
       "  </tbody>\n",
       "</table>\n",
       "</div>"
      ],
      "text/plain": [
       "                                                text label\n",
       "0  کراچی فارورڈیواےجی جرمنی کے صف اول کا وہ ادارہ...  fake\n",
       "1  ﻿ڈیسک: سام سنگ کی جانب سے اپريل کے شروع میں ني...  fake\n",
       "2  کراچی (اُردو پوائنٹ اخبارتازہ ترین 05 دسمبر201...  fake\n",
       "3  نیویارک (مانیٹرنگ ڈیسک) امریکہ میں ہونے والی ا...  fake\n",
       "4  جکارتہ 23 اگست (سیاست ڈاٹ کام) پاکستان ہاکی ٹی...  fake"
      ]
     },
     "execution_count": 25,
     "metadata": {},
     "output_type": "execute_result"
    }
   ],
   "source": [
    "def load_data_from_folder(root_folder):\n",
    "    data = []\n",
    "\n",
    "    # Walk through train and test folders\n",
    "    for split in ['Train', 'Test']:\n",
    "        for label in ['Fake', 'Real']:\n",
    "            folder_path = os.path.join(root_folder, split, label)\n",
    "            for filename in os.listdir(folder_path):\n",
    "                if filename.endswith('.txt'):\n",
    "                    file_path = os.path.join(folder_path, filename)\n",
    "                    with open(file_path, 'r', encoding='utf-8') as file:\n",
    "                        content = file.read().strip()\n",
    "                        data.append({\n",
    "                            'text': content,\n",
    "                            'label': label.lower(),  # 'fake' or 'real'\n",
    "                        })\n",
    "\n",
    "    return pd.DataFrame(data)\n",
    "\n",
    "# Replace with the path to your root directory\n",
    "folder_path = 'datasets/text datasets/BET-Bend-the-Truth/1.Corpus'\n",
    "df = load_data_from_folder(folder_path)\n",
    "df.head()"
   ]
  },
  {
   "cell_type": "code",
   "execution_count": 27,
   "id": "a9fe0651-5c41-4e72-a9fb-89cd1fb9424a",
   "metadata": {},
   "outputs": [
    {
     "data": {
      "text/plain": [
       "label\n",
       "real    500\n",
       "fake    400\n",
       "Name: count, dtype: int64"
      ]
     },
     "execution_count": 27,
     "metadata": {},
     "output_type": "execute_result"
    }
   ],
   "source": [
    "df.label.value_counts()"
   ]
  },
  {
   "cell_type": "markdown",
   "id": "1814a95a-50a9-4ace-8f6b-5f2fa67188ae",
   "metadata": {},
   "source": [
    "## 10- BuzzFeed-2017"
   ]
  },
  {
   "cell_type": "code",
   "execution_count": 30,
   "id": "c08c1e72-2ea0-4622-91a6-e06d9802aef8",
   "metadata": {},
   "outputs": [
    {
     "data": {
      "text/html": [
       "<div>\n",
       "<style scoped>\n",
       "    .dataframe tbody tr th:only-of-type {\n",
       "        vertical-align: middle;\n",
       "    }\n",
       "\n",
       "    .dataframe tbody tr th {\n",
       "        vertical-align: top;\n",
       "    }\n",
       "\n",
       "    .dataframe thead th {\n",
       "        text-align: right;\n",
       "    }\n",
       "</style>\n",
       "<table border=\"1\" class=\"dataframe\">\n",
       "  <thead>\n",
       "    <tr style=\"text-align: right;\">\n",
       "      <th></th>\n",
       "      <th>title</th>\n",
       "      <th>maintext</th>\n",
       "      <th>veracity</th>\n",
       "    </tr>\n",
       "  </thead>\n",
       "  <tbody>\n",
       "    <tr>\n",
       "      <th>0</th>\n",
       "      <td>The Impact of Debates? It's Debatable</td>\n",
       "      <td>With the Hillary Clinton-Donald Trump debates ...</td>\n",
       "      <td>mostly true</td>\n",
       "    </tr>\n",
       "    <tr>\n",
       "      <th>1</th>\n",
       "      <td>Details Emerge About NYC Bomb Suspect Ahmad Kh...</td>\n",
       "      <td>As police today captured the man wanted for qu...</td>\n",
       "      <td>mostly true</td>\n",
       "    </tr>\n",
       "    <tr>\n",
       "      <th>2</th>\n",
       "      <td>Donald Trump Repeats Calls for Police Profilin...</td>\n",
       "      <td>One day after explosive devices were discovere...</td>\n",
       "      <td>mostly true</td>\n",
       "    </tr>\n",
       "    <tr>\n",
       "      <th>3</th>\n",
       "      <td>NY, NJ Bombings Suspect Charged With Attempted...</td>\n",
       "      <td>Ahmad Khan Rahami, earlier named a person of i...</td>\n",
       "      <td>mostly true</td>\n",
       "    </tr>\n",
       "    <tr>\n",
       "      <th>4</th>\n",
       "      <td>Trump Surrogates Push Narrative That Clinton S...</td>\n",
       "      <td>Donald Trump's surrogates and leading supporte...</td>\n",
       "      <td>mostly true</td>\n",
       "    </tr>\n",
       "  </tbody>\n",
       "</table>\n",
       "</div>"
      ],
      "text/plain": [
       "                                               title  \\\n",
       "0              The Impact of Debates? It's Debatable   \n",
       "1  Details Emerge About NYC Bomb Suspect Ahmad Kh...   \n",
       "2  Donald Trump Repeats Calls for Police Profilin...   \n",
       "3  NY, NJ Bombings Suspect Charged With Attempted...   \n",
       "4  Trump Surrogates Push Narrative That Clinton S...   \n",
       "\n",
       "                                            maintext     veracity  \n",
       "0  With the Hillary Clinton-Donald Trump debates ...  mostly true  \n",
       "1  As police today captured the man wanted for qu...  mostly true  \n",
       "2  One day after explosive devices were discovere...  mostly true  \n",
       "3  Ahmad Khan Rahami, earlier named a person of i...  mostly true  \n",
       "4  Donald Trump's surrogates and leading supporte...  mostly true  "
      ]
     },
     "execution_count": 30,
     "metadata": {},
     "output_type": "execute_result"
    }
   ],
   "source": [
    "import pandas as pd\n",
    "import os\n",
    "import xml.etree.ElementTree as ET\n",
    "\n",
    "# Paths\n",
    "csv_path = 'datasets/text datasets/BuzzFeed-2017/overview.csv'         # <- Change this\n",
    "articles_folder = 'datasets/text datasets/BuzzFeed-2017/articles'    # <- Change this\n",
    "\n",
    "# Load CSV\n",
    "df_csv = pd.read_csv(csv_path)\n",
    "\n",
    "# To store the final data\n",
    "data = []\n",
    "\n",
    "for _, row in df_csv.iterrows():\n",
    "    xml_filename = row['XML']\n",
    "    veracity = row['veracity']\n",
    "    xml_path = os.path.join(articles_folder, xml_filename)\n",
    "\n",
    "    try:\n",
    "        tree = ET.parse(xml_path)\n",
    "        root = tree.getroot()\n",
    "\n",
    "        title = root.findtext('title', default='').strip()\n",
    "        maintext = root.findtext('mainText', default='').strip()\n",
    "\n",
    "        data.append({\n",
    "            'title': title,\n",
    "            'maintext': maintext,\n",
    "            'veracity': veracity\n",
    "        })\n",
    "\n",
    "    except Exception as e:\n",
    "        print(f\"Error parsing {xml_filename}: {e}\")\n",
    "\n",
    "# Create DataFrame\n",
    "df = pd.DataFrame(data)\n",
    "df.head()"
   ]
  },
  {
   "cell_type": "code",
   "execution_count": 31,
   "id": "68b624b4-c28f-4753-9297-afddc5215825",
   "metadata": {},
   "outputs": [
    {
     "data": {
      "text/plain": [
       "1627"
      ]
     },
     "execution_count": 31,
     "metadata": {},
     "output_type": "execute_result"
    }
   ],
   "source": [
    "len(df)"
   ]
  },
  {
   "cell_type": "code",
   "execution_count": 32,
   "id": "78570c71-ccea-4f41-bfeb-f771eb891b03",
   "metadata": {},
   "outputs": [
    {
     "data": {
      "text/plain": [
       "veracity\n",
       "mostly true                  1264\n",
       "mixture of true and false     212\n",
       "mostly false                   87\n",
       "no factual content             64\n",
       "Name: count, dtype: int64"
      ]
     },
     "execution_count": 32,
     "metadata": {},
     "output_type": "execute_result"
    }
   ],
   "source": [
    "df.veracity.value_counts()"
   ]
  },
  {
   "cell_type": "markdown",
   "id": "14d720fb-06fa-4d9c-a0e3-4fb7037eeec7",
   "metadata": {},
   "source": [
    "## 11- BuzzFeed-Political-News"
   ]
  },
  {
   "cell_type": "code",
   "execution_count": 15,
   "id": "63dc52be-5c84-4a9f-8233-60e0fc126b6a",
   "metadata": {},
   "outputs": [
    {
     "name": "stdout",
     "output_type": "stream",
     "text": [
      "                                               title  \\\n",
      "0  Longtime mistress says Bill Clinton had 2000 s...   \n",
      "1  An error occurred: 'charmap' codec can't decod...   \n",
      "2  IT'S OVER Hillary's ISIS Email Just Leaked & I...   \n",
      "3  BREAKING Another Clinton Associate Set To Test...   \n",
      "4  Robertson Said He Had Vision of Trump Seated A...   \n",
      "\n",
      "                                                body label  \n",
      "0  Another long-time “lover” of Bill Clinton has ...  Fake  \n",
      "1  PHOENIX A.Z. (AP) — For months now, rumors hav...  Fake  \n",
      "2  Today Wikileaks released what is, by far, the ...  Fake  \n",
      "3  Americans have trouble trusting the Clintons f...  Fake  \n",
      "4  By Michael Hoult\\nSome Evangelical Christians ...  Fake  \n"
     ]
    }
   ],
   "source": [
    "import os\n",
    "import pandas as pd\n",
    "\n",
    "def read_text_file(filepath):\n",
    "    try:\n",
    "        with open(filepath, 'r', encoding='windows-1252') as file:\n",
    "            return file.read().strip()\n",
    "    except Exception as e:\n",
    "        return f\"An error occurred: {e}\"\n",
    "\n",
    "def build_dataset(base_folder):\n",
    "    data = []\n",
    "\n",
    "    for label in ['Fake', 'Real']:\n",
    "        body_folder = os.path.join(base_folder, label)\n",
    "        title_folder = os.path.join(base_folder, f\"{label}_titles\")\n",
    "\n",
    "        for filename in os.listdir(body_folder):\n",
    "            if filename.endswith('.txt'):\n",
    "                file_number = filename.split('_')[0].replace('.txt', '')\n",
    "                body_path = os.path.join(body_folder, filename)\n",
    "                title_path = os.path.join(title_folder, f\"{file_number}_{label}.txt\")\n",
    "\n",
    "                body = read_text_file(body_path)\n",
    "                title = read_text_file(title_path)\n",
    "\n",
    "                data.append({\n",
    "                    'title': title,\n",
    "                    'body': body,\n",
    "                    'label': label\n",
    "                })\n",
    "\n",
    "    return pd.DataFrame(data)\n",
    "\n",
    "# Usage\n",
    "dataset_folder = 'datasets/text datasets/Buzzfeed Political News Dataset'  # <- change this\n",
    "df = build_dataset(dataset_folder)\n",
    "print(df.head())\n",
    "\n",
    "# Optional: save to CSV\n",
    "# df.to_csv(\"news_dataset.csv\", index=False)"
   ]
  },
  {
   "cell_type": "code",
   "execution_count": 17,
   "id": "06cce9f3-b9ee-4bb1-9123-41b6b1071d2d",
   "metadata": {},
   "outputs": [
    {
     "data": {
      "text/plain": [
       "101"
      ]
     },
     "execution_count": 17,
     "metadata": {},
     "output_type": "execute_result"
    }
   ],
   "source": [
    "len(df)"
   ]
  },
  {
   "cell_type": "code",
   "execution_count": 18,
   "id": "b6a9779f-2221-4bd1-b761-91a3b95fcfbf",
   "metadata": {},
   "outputs": [
    {
     "data": {
      "text/plain": [
       "label\n",
       "Real    53\n",
       "Fake    48\n",
       "Name: count, dtype: int64"
      ]
     },
     "execution_count": 18,
     "metadata": {},
     "output_type": "execute_result"
    }
   ],
   "source": [
    "df.label.value_counts()"
   ]
  },
  {
   "cell_type": "markdown",
   "id": "c0299c9a-ce78-4e0f-b8e5-38801a1b75fc",
   "metadata": {},
   "source": [
    "## Skipped Datasets\n",
    "12- CED is skipped as it is for social media"
   ]
  },
  {
   "cell_type": "markdown",
   "id": "8f7be4e5-5a70-409e-a3cd-dd7436802847",
   "metadata": {},
   "source": [
    "## 13- CHECKED-COVID19"
   ]
  },
  {
   "cell_type": "code",
   "execution_count": 2,
   "id": "8e64ba87-5623-41c6-ab4a-f688d3253c72",
   "metadata": {},
   "outputs": [],
   "source": [
    "checked_covid = pd.read_csv('datasets/text datasets/CHECKED-COVID19.csv')"
   ]
  },
  {
   "cell_type": "code",
   "execution_count": 3,
   "id": "15dcad7c-cc18-4af2-b1f3-88097234c5b9",
   "metadata": {},
   "outputs": [
    {
     "data": {
      "text/html": [
       "<div>\n",
       "<style scoped>\n",
       "    .dataframe tbody tr th:only-of-type {\n",
       "        vertical-align: middle;\n",
       "    }\n",
       "\n",
       "    .dataframe tbody tr th {\n",
       "        vertical-align: top;\n",
       "    }\n",
       "\n",
       "    .dataframe thead th {\n",
       "        text-align: right;\n",
       "    }\n",
       "</style>\n",
       "<table border=\"1\" class=\"dataframe\">\n",
       "  <thead>\n",
       "    <tr style=\"text-align: right;\">\n",
       "      <th></th>\n",
       "      <th>Unnamed: 0</th>\n",
       "      <th>content</th>\n",
       "      <th>label</th>\n",
       "    </tr>\n",
       "  </thead>\n",
       "  <tbody>\n",
       "    <tr>\n",
       "      <th>0</th>\n",
       "      <td>0</td>\n",
       "      <td>【转存！#施一公说诚实做学问是绝不容突破的底线#】今天，在西湖大学博士研究生开学典礼上，校长...</td>\n",
       "      <td>0</td>\n",
       "    </tr>\n",
       "    <tr>\n",
       "      <th>1</th>\n",
       "      <td>1</td>\n",
       "      <td>【#区长回应网传北京西城区政府停摆#：目前运转一切正常】2月18日，在北京市新型冠状病毒肺炎...</td>\n",
       "      <td>0</td>\n",
       "    </tr>\n",
       "    <tr>\n",
       "      <th>2</th>\n",
       "      <td>2</td>\n",
       "      <td>【最新：#全球新冠肺炎感染人数超244万例#】截至北京时间4月21日16时，211个国家和地...</td>\n",
       "      <td>0</td>\n",
       "    </tr>\n",
       "    <tr>\n",
       "      <th>3</th>\n",
       "      <td>3</td>\n",
       "      <td>这是发生在重症隔离病房里，一个小朋友对医生说的话我不想让妈妈哭😭 不是晚一点，是你不会si的...</td>\n",
       "      <td>1</td>\n",
       "    </tr>\n",
       "    <tr>\n",
       "      <th>4</th>\n",
       "      <td>4</td>\n",
       "      <td>【今天，发条微博，迎接#五月#】5月，向每一位奋斗中的劳动者致敬；5月，为奋斗中的青年点赞；...</td>\n",
       "      <td>0</td>\n",
       "    </tr>\n",
       "  </tbody>\n",
       "</table>\n",
       "</div>"
      ],
      "text/plain": [
       "   Unnamed: 0                                            content  label\n",
       "0           0  【转存！#施一公说诚实做学问是绝不容突破的底线#】今天，在西湖大学博士研究生开学典礼上，校长...      0\n",
       "1           1  【#区长回应网传北京西城区政府停摆#：目前运转一切正常】2月18日，在北京市新型冠状病毒肺炎...      0\n",
       "2           2  【最新：#全球新冠肺炎感染人数超244万例#】截至北京时间4月21日16时，211个国家和地...      0\n",
       "3           3  这是发生在重症隔离病房里，一个小朋友对医生说的话我不想让妈妈哭😭 不是晚一点，是你不会si的...      1\n",
       "4           4  【今天，发条微博，迎接#五月#】5月，向每一位奋斗中的劳动者致敬；5月，为奋斗中的青年点赞；...      0"
      ]
     },
     "execution_count": 3,
     "metadata": {},
     "output_type": "execute_result"
    }
   ],
   "source": [
    "checked_covid.head()"
   ]
  },
  {
   "cell_type": "code",
   "execution_count": 7,
   "id": "867e22e4-522d-432d-a821-4325fe8e02a9",
   "metadata": {},
   "outputs": [
    {
     "data": {
      "text/plain": [
       "label\n",
       "0    1955\n",
       "1     883\n",
       "Name: count, dtype: int64"
      ]
     },
     "execution_count": 7,
     "metadata": {},
     "output_type": "execute_result"
    }
   ],
   "source": [
    "checked_covid.label.value_counts()"
   ]
  },
  {
   "cell_type": "markdown",
   "id": "3147d836-4f1b-4550-935d-6131859147bf",
   "metadata": {},
   "source": [
    "## 14- CHEF"
   ]
  },
  {
   "cell_type": "code",
   "execution_count": 8,
   "id": "46d4e35b-03e2-444d-bc80-b9a98f5316c4",
   "metadata": {},
   "outputs": [
    {
     "name": "stdout",
     "output_type": "stream",
     "text": [
      "                                 title  label\n",
      "0  中使馆驳斥涉疆谣言：新疆棉花生产已实现高度机械化，哪里还需要强迫劳动？      0\n",
      "1                     关于失业保险金，你可能有太多误区      0\n",
      "2              退休职工养老金能否按时足额发放？人社部回应了！      0\n",
      "3                污水处理能力限制城市发展？ 补齐设施短板！      0\n",
      "4                      这场发布会回应“舌尖上”的问题      0\n"
     ]
    }
   ],
   "source": [
    "import json\n",
    "import pandas as pd\n",
    "\n",
    "# Load JSON data from file\n",
    "with open('datasets/text datasets/CHEF/CHEF/train.json', 'r', encoding='utf-8') as f:\n",
    "    data = json.load(f)\n",
    "\n",
    "# Convert to DataFrame with selected fields\n",
    "df = pd.DataFrame(data)[['title', 'label']]\n",
    "\n",
    "# Preview the DataFrame\n",
    "print(df.head())"
   ]
  },
  {
   "cell_type": "code",
   "execution_count": 11,
   "id": "c29e7fb9-24aa-4b5c-ac69-4800ccdeb843",
   "metadata": {},
   "outputs": [
    {
     "data": {
      "text/plain": [
       "label\n",
       "1    4349\n",
       "0    2877\n",
       "2     776\n",
       "Name: count, dtype: int64"
      ]
     },
     "execution_count": 11,
     "metadata": {},
     "output_type": "execute_result"
    }
   ],
   "source": [
    "df.label.value_counts()  # 15 is social so skipped"
   ]
  },
  {
   "cell_type": "markdown",
   "id": "233a15d2-9d8b-4c53-8c96-2e1b2be66b72",
   "metadata": {},
   "source": [
    "## 16- COVID-19 Fake News Detection"
   ]
  },
  {
   "cell_type": "code",
   "execution_count": 15,
   "id": "eb1e2580-f1e9-4f07-9cb1-fa44fe35fad4",
   "metadata": {},
   "outputs": [],
   "source": [
    "covid_19_FND = pd.read_excel('datasets/text datasets/COVID-19 Fake News Dataset/COVID-19 Fake News Dataset/fake_new_dataset.xlsx', index_col='Unnamed: 0')"
   ]
  },
  {
   "cell_type": "code",
   "execution_count": 16,
   "id": "c7601210-ddc1-4ca0-8f0c-3570f5c8e796",
   "metadata": {},
   "outputs": [
    {
     "data": {
      "text/html": [
       "<div>\n",
       "<style scoped>\n",
       "    .dataframe tbody tr th:only-of-type {\n",
       "        vertical-align: middle;\n",
       "    }\n",
       "\n",
       "    .dataframe tbody tr th {\n",
       "        vertical-align: top;\n",
       "    }\n",
       "\n",
       "    .dataframe thead th {\n",
       "        text-align: right;\n",
       "    }\n",
       "</style>\n",
       "<table border=\"1\" class=\"dataframe\">\n",
       "  <thead>\n",
       "    <tr style=\"text-align: right;\">\n",
       "      <th></th>\n",
       "      <th>title</th>\n",
       "      <th>text</th>\n",
       "      <th>subcategory</th>\n",
       "      <th>label</th>\n",
       "    </tr>\n",
       "  </thead>\n",
       "  <tbody>\n",
       "    <tr>\n",
       "      <th>0</th>\n",
       "      <td>FACEBOOK DELETES MICHIGAN ANTI-LOCKDOWN GROUP ...</td>\n",
       "      <td>Facebook has shuttered a popular group for Mic...</td>\n",
       "      <td>false news</td>\n",
       "      <td>0</td>\n",
       "    </tr>\n",
       "    <tr>\n",
       "      <th>1</th>\n",
       "      <td>Other Viewpoints: COVID-19 is worse than the flu</td>\n",
       "      <td>We can now officially put to rest all comparis...</td>\n",
       "      <td>true</td>\n",
       "      <td>1</td>\n",
       "    </tr>\n",
       "    <tr>\n",
       "      <th>2</th>\n",
       "      <td>Bermuda's COVID-19 cases surpass 100</td>\n",
       "      <td>The Ministry of Health in Bermuda has confirme...</td>\n",
       "      <td>true</td>\n",
       "      <td>1</td>\n",
       "    </tr>\n",
       "    <tr>\n",
       "      <th>3</th>\n",
       "      <td>Purdue University says students face 'close to...</td>\n",
       "      <td>Purdue University President Mitch Daniels, the...</td>\n",
       "      <td>partially false</td>\n",
       "      <td>0</td>\n",
       "    </tr>\n",
       "    <tr>\n",
       "      <th>4</th>\n",
       "      <td>THE HIGH COST OF LOCKING DOWN AMERICA: “WE’VE ...</td>\n",
       "      <td>Locking down much of the country may have help...</td>\n",
       "      <td>false news</td>\n",
       "      <td>0</td>\n",
       "    </tr>\n",
       "  </tbody>\n",
       "</table>\n",
       "</div>"
      ],
      "text/plain": [
       "                                               title  \\\n",
       "0  FACEBOOK DELETES MICHIGAN ANTI-LOCKDOWN GROUP ...   \n",
       "1   Other Viewpoints: COVID-19 is worse than the flu   \n",
       "2               Bermuda's COVID-19 cases surpass 100   \n",
       "3  Purdue University says students face 'close to...   \n",
       "4  THE HIGH COST OF LOCKING DOWN AMERICA: “WE’VE ...   \n",
       "\n",
       "                                                text      subcategory  label  \n",
       "0  Facebook has shuttered a popular group for Mic...       false news      0  \n",
       "1  We can now officially put to rest all comparis...             true      1  \n",
       "2  The Ministry of Health in Bermuda has confirme...             true      1  \n",
       "3  Purdue University President Mitch Daniels, the...  partially false      0  \n",
       "4  Locking down much of the country may have help...       false news      0  "
      ]
     },
     "execution_count": 16,
     "metadata": {},
     "output_type": "execute_result"
    }
   ],
   "source": [
    "covid_19_FND.head()"
   ]
  },
  {
   "cell_type": "code",
   "execution_count": 17,
   "id": "aec58d81-79b2-4440-b9f4-e0a8954eb0a5",
   "metadata": {},
   "outputs": [
    {
     "data": {
      "text/plain": [
       "label\n",
       "1    2061\n",
       "0    1058\n",
       "Name: count, dtype: int64"
      ]
     },
     "execution_count": 17,
     "metadata": {},
     "output_type": "execute_result"
    }
   ],
   "source": [
    "covid_19_FND.label.value_counts()"
   ]
  },
  {
   "cell_type": "markdown",
   "id": "333f4a1d-3bd9-4922-8f73-8e0401d4cdb7",
   "metadata": {},
   "source": [
    "## 17- COVID19-FN"
   ]
  },
  {
   "cell_type": "code",
   "execution_count": 20,
   "id": "4f0863fb-88fb-45db-9664-d9e972d92106",
   "metadata": {},
   "outputs": [],
   "source": [
    "covid19_fn = pd.read_csv('datasets/text datasets/COVID19FN/COVID19FN/COVID19FN.csv', index_col='Unnamed: 0')"
   ]
  },
  {
   "cell_type": "code",
   "execution_count": 21,
   "id": "6b917bdd-4fef-4f32-af37-2323a37c924e",
   "metadata": {},
   "outputs": [
    {
     "data": {
      "text/html": [
       "<div>\n",
       "<style scoped>\n",
       "    .dataframe tbody tr th:only-of-type {\n",
       "        vertical-align: middle;\n",
       "    }\n",
       "\n",
       "    .dataframe tbody tr th {\n",
       "        vertical-align: top;\n",
       "    }\n",
       "\n",
       "    .dataframe thead th {\n",
       "        text-align: right;\n",
       "    }\n",
       "</style>\n",
       "<table border=\"1\" class=\"dataframe\">\n",
       "  <thead>\n",
       "    <tr style=\"text-align: right;\">\n",
       "      <th></th>\n",
       "      <th>Title</th>\n",
       "      <th>Text</th>\n",
       "      <th>country</th>\n",
       "      <th>Label</th>\n",
       "      <th>URL</th>\n",
       "      <th>len_sentences</th>\n",
       "      <th>source</th>\n",
       "      <th>text</th>\n",
       "      <th>date</th>\n",
       "      <th>avg_word_len</th>\n",
       "    </tr>\n",
       "  </thead>\n",
       "  <tbody>\n",
       "    <tr>\n",
       "      <th>0</th>\n",
       "      <td>A video shows a fortune teller predicting the...</td>\n",
       "      <td>Circulating on social networks a video that sh...</td>\n",
       "      <td>Portugal</td>\n",
       "      <td>False</td>\n",
       "      <td>https://observador.pt/factchecks/fact-check-um...</td>\n",
       "      <td>83</td>\n",
       "      <td>https://observador.pt</td>\n",
       "      <td>circulating on social networks video that show...</td>\n",
       "      <td>08-04-2020</td>\n",
       "      <td>4.795181</td>\n",
       "    </tr>\n",
       "    <tr>\n",
       "      <th>1</th>\n",
       "      <td>Internet sensation and the worldâ€™s cutest ba...</td>\n",
       "      <td>Internet sensation and the world’s cutest baby...</td>\n",
       "      <td>India</td>\n",
       "      <td>False</td>\n",
       "      <td>https://www.newschecker.in/article/news-detail...</td>\n",
       "      <td>516</td>\n",
       "      <td>https://www.newschecker.in</td>\n",
       "      <td>internet sensation and the world cutest baby a...</td>\n",
       "      <td>17-04-2020</td>\n",
       "      <td>4.858527</td>\n",
       "    </tr>\n",
       "    <tr>\n",
       "      <th>2</th>\n",
       "      <td>A video has been viewed hundreds of thousands ...</td>\n",
       "      <td>A video has been viewed hundreds of thousands ...</td>\n",
       "      <td>Indonesia</td>\n",
       "      <td>False</td>\n",
       "      <td>https://factcheck.afp.com/video-shows-us-presi...</td>\n",
       "      <td>570</td>\n",
       "      <td>https://factcheck.afp.com</td>\n",
       "      <td>a video has been viewed hundreds of thousands ...</td>\n",
       "      <td>09-04-2020</td>\n",
       "      <td>5.010526</td>\n",
       "    </tr>\n",
       "    <tr>\n",
       "      <th>3</th>\n",
       "      <td>Treasury is depositing Kshs 45, 000 to the mob...</td>\n",
       "      <td>A Facebook post claiming that the National Tre...</td>\n",
       "      <td>Kenya</td>\n",
       "      <td>False</td>\n",
       "      <td>https://pesacheck.org/false-treasury-is-not-se...</td>\n",
       "      <td>551</td>\n",
       "      <td>https://pesacheck.org</td>\n",
       "      <td>a facebook post claiming that the national tre...</td>\n",
       "      <td>11-04-2020</td>\n",
       "      <td>5.377495</td>\n",
       "    </tr>\n",
       "    <tr>\n",
       "      <th>4</th>\n",
       "      <td>Hunagrian authorities are capturing men 50 or ...</td>\n",
       "      <td>Moves on Facebook and Twitter a video showing ...</td>\n",
       "      <td>Mexico</td>\n",
       "      <td>False</td>\n",
       "      <td>https://www.animalpolitico.com/elsabueso/hungr...</td>\n",
       "      <td>368</td>\n",
       "      <td>https://www.animalpolitico.com</td>\n",
       "      <td>moves on facebook and twitter video showing po...</td>\n",
       "      <td>11-04-2020</td>\n",
       "      <td>5.032609</td>\n",
       "    </tr>\n",
       "  </tbody>\n",
       "</table>\n",
       "</div>"
      ],
      "text/plain": [
       "                                              Title   \\\n",
       "0   A video shows a fortune teller predicting the...   \n",
       "1  Internet sensation and the worldâ€™s cutest ba...   \n",
       "2  A video has been viewed hundreds of thousands ...   \n",
       "3  Treasury is depositing Kshs 45, 000 to the mob...   \n",
       "4  Hunagrian authorities are capturing men 50 or ...   \n",
       "\n",
       "                                                Text     country  Label  \\\n",
       "0  Circulating on social networks a video that sh...    Portugal  False   \n",
       "1  Internet sensation and the world’s cutest baby...       India  False   \n",
       "2  A video has been viewed hundreds of thousands ...   Indonesia  False   \n",
       "3  A Facebook post claiming that the National Tre...       Kenya  False   \n",
       "4  Moves on Facebook and Twitter a video showing ...      Mexico  False   \n",
       "\n",
       "                                                 URL  len_sentences  \\\n",
       "0  https://observador.pt/factchecks/fact-check-um...             83   \n",
       "1  https://www.newschecker.in/article/news-detail...            516   \n",
       "2  https://factcheck.afp.com/video-shows-us-presi...            570   \n",
       "3  https://pesacheck.org/false-treasury-is-not-se...            551   \n",
       "4  https://www.animalpolitico.com/elsabueso/hungr...            368   \n",
       "\n",
       "                           source  \\\n",
       "0           https://observador.pt   \n",
       "1      https://www.newschecker.in   \n",
       "2       https://factcheck.afp.com   \n",
       "3           https://pesacheck.org   \n",
       "4  https://www.animalpolitico.com   \n",
       "\n",
       "                                                text        date  avg_word_len  \n",
       "0  circulating on social networks video that show...  08-04-2020      4.795181  \n",
       "1  internet sensation and the world cutest baby a...  17-04-2020      4.858527  \n",
       "2  a video has been viewed hundreds of thousands ...  09-04-2020      5.010526  \n",
       "3  a facebook post claiming that the national tre...  11-04-2020      5.377495  \n",
       "4  moves on facebook and twitter video showing po...  11-04-2020      5.032609  "
      ]
     },
     "execution_count": 21,
     "metadata": {},
     "output_type": "execute_result"
    }
   ],
   "source": [
    "covid19_fn.head()"
   ]
  },
  {
   "cell_type": "code",
   "execution_count": 22,
   "id": "62255c56-3488-4b21-be8f-a1226968dcdc",
   "metadata": {},
   "outputs": [
    {
     "data": {
      "text/plain": [
       "Label\n",
       "False    1591\n",
       "True     1230\n",
       "Name: count, dtype: int64"
      ]
     },
     "execution_count": 22,
     "metadata": {},
     "output_type": "execute_result"
    }
   ],
   "source": [
    "covid19_fn.Label.value_counts()"
   ]
  },
  {
   "cell_type": "markdown",
   "id": "2e9a6849-633a-4706-b28b-10b79146de3d",
   "metadata": {},
   "source": [
    "# 18 - COVID19-Rumor"
   ]
  },
  {
   "cell_type": "code",
   "execution_count": 23,
   "id": "e05c7005-22e5-4995-9c17-723d37c6d26d",
   "metadata": {},
   "outputs": [],
   "source": [
    "covid19_rumor = pd.read_csv('datasets/text datasets/COVID19-Rumor-Data/en_dup.csv')"
   ]
  },
  {
   "cell_type": "code",
   "execution_count": 25,
   "id": "22dba264-3773-4a89-a895-4aff6f6b4a88",
   "metadata": {},
   "outputs": [
    {
     "data": {
      "text/html": [
       "<div>\n",
       "<style scoped>\n",
       "    .dataframe tbody tr th:only-of-type {\n",
       "        vertical-align: middle;\n",
       "    }\n",
       "\n",
       "    .dataframe tbody tr th {\n",
       "        vertical-align: top;\n",
       "    }\n",
       "\n",
       "    .dataframe thead th {\n",
       "        text-align: right;\n",
       "    }\n",
       "</style>\n",
       "<table border=\"1\" class=\"dataframe\">\n",
       "  <thead>\n",
       "    <tr style=\"text-align: right;\">\n",
       "      <th></th>\n",
       "      <th>label</th>\n",
       "      <th>content</th>\n",
       "      <th>source</th>\n",
       "      <th>author</th>\n",
       "      <th>time</th>\n",
       "    </tr>\n",
       "  </thead>\n",
       "  <tbody>\n",
       "    <tr>\n",
       "      <th>0</th>\n",
       "      <td>F</td>\n",
       "      <td>Coronavirus was created in a government lab as...</td>\n",
       "      <td>NaN</td>\n",
       "      <td>NaN</td>\n",
       "      <td>NaN</td>\n",
       "    </tr>\n",
       "    <tr>\n",
       "      <th>1</th>\n",
       "      <td>F</td>\n",
       "      <td>The lie that coronavirus came from a bat or a ...</td>\n",
       "      <td>NaN</td>\n",
       "      <td>NaN</td>\n",
       "      <td>NaN</td>\n",
       "    </tr>\n",
       "    <tr>\n",
       "      <th>2</th>\n",
       "      <td>F</td>\n",
       "      <td>The health experts had predicted the virus cou...</td>\n",
       "      <td>NaN</td>\n",
       "      <td>NaN</td>\n",
       "      <td>NaN</td>\n",
       "    </tr>\n",
       "    <tr>\n",
       "      <th>3</th>\n",
       "      <td>F</td>\n",
       "      <td>A video clip supposedly showed that the expone...</td>\n",
       "      <td>NaN</td>\n",
       "      <td>NaN</td>\n",
       "      <td>NaN</td>\n",
       "    </tr>\n",
       "    <tr>\n",
       "      <th>4</th>\n",
       "      <td>T</td>\n",
       "      <td>Almost 200 people in Italy died from the coron...</td>\n",
       "      <td>NaN</td>\n",
       "      <td>NaN</td>\n",
       "      <td>NaN</td>\n",
       "    </tr>\n",
       "  </tbody>\n",
       "</table>\n",
       "</div>"
      ],
      "text/plain": [
       "  label                                            content source author time\n",
       "0     F  Coronavirus was created in a government lab as...    NaN    NaN  NaN\n",
       "1     F  The lie that coronavirus came from a bat or a ...    NaN    NaN  NaN\n",
       "2     F  The health experts had predicted the virus cou...    NaN    NaN  NaN\n",
       "3     F  A video clip supposedly showed that the expone...    NaN    NaN  NaN\n",
       "4     T  Almost 200 people in Italy died from the coron...    NaN    NaN  NaN"
      ]
     },
     "execution_count": 25,
     "metadata": {},
     "output_type": "execute_result"
    }
   ],
   "source": [
    "covid19_rumor.head()"
   ]
  },
  {
   "cell_type": "code",
   "execution_count": 27,
   "id": "54d9257a-eb19-48a3-b19d-c345fd52abf2",
   "metadata": {},
   "outputs": [
    {
     "data": {
      "text/plain": [
       "label\n",
       "F    3681\n",
       "T    1878\n",
       "U    1620\n",
       "Name: count, dtype: int64"
      ]
     },
     "execution_count": 27,
     "metadata": {},
     "output_type": "execute_result"
    }
   ],
   "source": [
    "covid19_rumor.label.value_counts()"
   ]
  },
  {
   "cell_type": "code",
   "execution_count": 69,
   "id": "a1e7ca12-329e-4e1a-93c1-10ca6ccb1923",
   "metadata": {},
   "outputs": [],
   "source": [
    "# skipping 19"
   ]
  },
  {
   "cell_type": "markdown",
   "id": "51c6674b-0665-4c08-ac59-a2f06274ef0f",
   "metadata": {},
   "source": [
    "## 20 - CT-FAN-22"
   ]
  },
  {
   "cell_type": "code",
   "execution_count": 28,
   "id": "b287b453-08c4-4980-aa20-f4020198dd15",
   "metadata": {},
   "outputs": [],
   "source": [
    "ct_fan = pd.read_csv('datasets/text datasets/CT-FAN-22/FakeNews_Task3_2022/FakeNews_Task3_2022/Task3_train_dev/Task3_english_training.csv')"
   ]
  },
  {
   "cell_type": "code",
   "execution_count": 29,
   "id": "04e7dc7d-802c-4155-9e78-d6bd75ea0cca",
   "metadata": {},
   "outputs": [
    {
     "data": {
      "text/html": [
       "<div>\n",
       "<style scoped>\n",
       "    .dataframe tbody tr th:only-of-type {\n",
       "        vertical-align: middle;\n",
       "    }\n",
       "\n",
       "    .dataframe tbody tr th {\n",
       "        vertical-align: top;\n",
       "    }\n",
       "\n",
       "    .dataframe thead th {\n",
       "        text-align: right;\n",
       "    }\n",
       "</style>\n",
       "<table border=\"1\" class=\"dataframe\">\n",
       "  <thead>\n",
       "    <tr style=\"text-align: right;\">\n",
       "      <th></th>\n",
       "      <th>public_id</th>\n",
       "      <th>text</th>\n",
       "      <th>title</th>\n",
       "      <th>our rating</th>\n",
       "    </tr>\n",
       "  </thead>\n",
       "  <tbody>\n",
       "    <tr>\n",
       "      <th>0</th>\n",
       "      <td>5a228e0e</td>\n",
       "      <td>Distracted driving causes more deaths in Canad...</td>\n",
       "      <td>You Can Be Fined $1,500 If Your Passenger Is U...</td>\n",
       "      <td>FALSE</td>\n",
       "    </tr>\n",
       "    <tr>\n",
       "      <th>1</th>\n",
       "      <td>30c605a1</td>\n",
       "      <td>Missouri politicians have made statements afte...</td>\n",
       "      <td>Missouri lawmakers condemn Las Vegas shooting</td>\n",
       "      <td>partially false</td>\n",
       "    </tr>\n",
       "    <tr>\n",
       "      <th>2</th>\n",
       "      <td>c3dea290</td>\n",
       "      <td>Home Alone 2: Lost in New York is full of viol...</td>\n",
       "      <td>CBC Cuts Donald Trump's 'Home Alone 2' Cameo O...</td>\n",
       "      <td>partially false</td>\n",
       "    </tr>\n",
       "    <tr>\n",
       "      <th>3</th>\n",
       "      <td>f14e8eb6</td>\n",
       "      <td>But things took a turn for the worse when riot...</td>\n",
       "      <td>Obama’s Daughters Caught on Camera Burning US ...</td>\n",
       "      <td>FALSE</td>\n",
       "    </tr>\n",
       "    <tr>\n",
       "      <th>4</th>\n",
       "      <td>faf024d6</td>\n",
       "      <td>It’s no secret that Epstein and Schiff share a...</td>\n",
       "      <td>Leaked Visitor Logs Reveal Schiff’s 78 Visits ...</td>\n",
       "      <td>FALSE</td>\n",
       "    </tr>\n",
       "  </tbody>\n",
       "</table>\n",
       "</div>"
      ],
      "text/plain": [
       "  public_id                                               text  \\\n",
       "0  5a228e0e  Distracted driving causes more deaths in Canad...   \n",
       "1  30c605a1  Missouri politicians have made statements afte...   \n",
       "2  c3dea290  Home Alone 2: Lost in New York is full of viol...   \n",
       "3  f14e8eb6  But things took a turn for the worse when riot...   \n",
       "4  faf024d6  It’s no secret that Epstein and Schiff share a...   \n",
       "\n",
       "                                               title       our rating  \n",
       "0  You Can Be Fined $1,500 If Your Passenger Is U...            FALSE  \n",
       "1      Missouri lawmakers condemn Las Vegas shooting  partially false  \n",
       "2  CBC Cuts Donald Trump's 'Home Alone 2' Cameo O...  partially false  \n",
       "3  Obama’s Daughters Caught on Camera Burning US ...            FALSE  \n",
       "4  Leaked Visitor Logs Reveal Schiff’s 78 Visits ...            FALSE  "
      ]
     },
     "execution_count": 29,
     "metadata": {},
     "output_type": "execute_result"
    }
   ],
   "source": [
    "ct_fan.head()"
   ]
  },
  {
   "cell_type": "code",
   "execution_count": 30,
   "id": "0b5c4301-f931-450a-b11a-8bc3819d57fb",
   "metadata": {},
   "outputs": [
    {
     "data": {
      "text/plain": [
       "our rating\n",
       "FALSE              465\n",
       "partially false    217\n",
       "TRUE               142\n",
       "other               76\n",
       "Name: count, dtype: int64"
      ]
     },
     "execution_count": 30,
     "metadata": {},
     "output_type": "execute_result"
    }
   ],
   "source": [
    "ct_fan['our rating'].value_counts()"
   ]
  },
  {
   "cell_type": "markdown",
   "id": "b35f91bc-d2ab-43de-8e3a-334d21103d64",
   "metadata": {},
   "source": [
    "## 21- English-News"
   ]
  },
  {
   "cell_type": "code",
   "execution_count": 35,
   "id": "fb4db713-b7bc-4f3e-be94-361bfdbc88d0",
   "metadata": {},
   "outputs": [],
   "source": [
    "eng_news = pd.read_csv('datasets/text datasets/English-News/fake_or_real_news.csv', index_col = 'Unnamed: 0')"
   ]
  },
  {
   "cell_type": "code",
   "execution_count": 36,
   "id": "afd111bf-7f0f-485d-a89e-b15d274c61d9",
   "metadata": {},
   "outputs": [
    {
     "data": {
      "text/html": [
       "<div>\n",
       "<style scoped>\n",
       "    .dataframe tbody tr th:only-of-type {\n",
       "        vertical-align: middle;\n",
       "    }\n",
       "\n",
       "    .dataframe tbody tr th {\n",
       "        vertical-align: top;\n",
       "    }\n",
       "\n",
       "    .dataframe thead th {\n",
       "        text-align: right;\n",
       "    }\n",
       "</style>\n",
       "<table border=\"1\" class=\"dataframe\">\n",
       "  <thead>\n",
       "    <tr style=\"text-align: right;\">\n",
       "      <th></th>\n",
       "      <th>title</th>\n",
       "      <th>text</th>\n",
       "      <th>label</th>\n",
       "    </tr>\n",
       "  </thead>\n",
       "  <tbody>\n",
       "    <tr>\n",
       "      <th>8476</th>\n",
       "      <td>You Can Smell Hillary’s Fear</td>\n",
       "      <td>Daniel Greenfield, a Shillman Journalism Fello...</td>\n",
       "      <td>FAKE</td>\n",
       "    </tr>\n",
       "    <tr>\n",
       "      <th>10294</th>\n",
       "      <td>Watch The Exact Moment Paul Ryan Committed Pol...</td>\n",
       "      <td>Google Pinterest Digg Linkedin Reddit Stumbleu...</td>\n",
       "      <td>FAKE</td>\n",
       "    </tr>\n",
       "    <tr>\n",
       "      <th>3608</th>\n",
       "      <td>Kerry to go to Paris in gesture of sympathy</td>\n",
       "      <td>U.S. Secretary of State John F. Kerry said Mon...</td>\n",
       "      <td>REAL</td>\n",
       "    </tr>\n",
       "    <tr>\n",
       "      <th>10142</th>\n",
       "      <td>Bernie supporters on Twitter erupt in anger ag...</td>\n",
       "      <td>— Kaydee King (@KaydeeKing) November 9, 2016 T...</td>\n",
       "      <td>FAKE</td>\n",
       "    </tr>\n",
       "    <tr>\n",
       "      <th>875</th>\n",
       "      <td>The Battle of New York: Why This Primary Matters</td>\n",
       "      <td>It's primary day in New York and front-runners...</td>\n",
       "      <td>REAL</td>\n",
       "    </tr>\n",
       "  </tbody>\n",
       "</table>\n",
       "</div>"
      ],
      "text/plain": [
       "                                                   title  \\\n",
       "8476                        You Can Smell Hillary’s Fear   \n",
       "10294  Watch The Exact Moment Paul Ryan Committed Pol...   \n",
       "3608         Kerry to go to Paris in gesture of sympathy   \n",
       "10142  Bernie supporters on Twitter erupt in anger ag...   \n",
       "875     The Battle of New York: Why This Primary Matters   \n",
       "\n",
       "                                                    text label  \n",
       "8476   Daniel Greenfield, a Shillman Journalism Fello...  FAKE  \n",
       "10294  Google Pinterest Digg Linkedin Reddit Stumbleu...  FAKE  \n",
       "3608   U.S. Secretary of State John F. Kerry said Mon...  REAL  \n",
       "10142  — Kaydee King (@KaydeeKing) November 9, 2016 T...  FAKE  \n",
       "875    It's primary day in New York and front-runners...  REAL  "
      ]
     },
     "execution_count": 36,
     "metadata": {},
     "output_type": "execute_result"
    }
   ],
   "source": [
    "eng_news.head()"
   ]
  },
  {
   "cell_type": "code",
   "execution_count": 38,
   "id": "0a1f7be6-4bc2-419f-bb5b-07db7423df6b",
   "metadata": {},
   "outputs": [
    {
     "data": {
      "text/plain": [
       "label\n",
       "REAL    3171\n",
       "FAKE    3164\n",
       "Name: count, dtype: int64"
      ]
     },
     "execution_count": 38,
     "metadata": {},
     "output_type": "execute_result"
    }
   ],
   "source": [
    "eng_news.label.value_counts()"
   ]
  },
  {
   "cell_type": "markdown",
   "id": "05c13c8f-f1da-4706-a00e-ce2651a80bfb",
   "metadata": {},
   "source": [
    "## 22- Fake.br-Corpus(FNC0, FNC1, FNC2)"
   ]
  },
  {
   "cell_type": "code",
   "execution_count": 41,
   "id": "21c41f9e-44e8-4069-bca3-19b99d5169f0",
   "metadata": {},
   "outputs": [],
   "source": [
    "fake_br = pd.read_csv('datasets/text+image/text+image/fake.br.corpus.csv', index_col = 'index')"
   ]
  },
  {
   "cell_type": "code",
   "execution_count": 42,
   "id": "a3f096ff-d303-4fad-ba81-a5716bba27b4",
   "metadata": {},
   "outputs": [
    {
     "data": {
      "text/html": [
       "<div>\n",
       "<style scoped>\n",
       "    .dataframe tbody tr th:only-of-type {\n",
       "        vertical-align: middle;\n",
       "    }\n",
       "\n",
       "    .dataframe tbody tr th {\n",
       "        vertical-align: top;\n",
       "    }\n",
       "\n",
       "    .dataframe thead th {\n",
       "        text-align: right;\n",
       "    }\n",
       "</style>\n",
       "<table border=\"1\" class=\"dataframe\">\n",
       "  <thead>\n",
       "    <tr style=\"text-align: right;\">\n",
       "      <th></th>\n",
       "      <th>label</th>\n",
       "      <th>preprocessed_news</th>\n",
       "    </tr>\n",
       "    <tr>\n",
       "      <th>index</th>\n",
       "      <th></th>\n",
       "      <th></th>\n",
       "    </tr>\n",
       "  </thead>\n",
       "  <tbody>\n",
       "    <tr>\n",
       "      <th>0</th>\n",
       "      <td>fake</td>\n",
       "      <td>katia abreu diz vai colocar expulsao moldura n...</td>\n",
       "    </tr>\n",
       "    <tr>\n",
       "      <th>1</th>\n",
       "      <td>fake</td>\n",
       "      <td>ray peita bolsonaro conservador fake entrevist...</td>\n",
       "    </tr>\n",
       "    <tr>\n",
       "      <th>2</th>\n",
       "      <td>fake</td>\n",
       "      <td>reinaldo azevedo desmascarado policia federal ...</td>\n",
       "    </tr>\n",
       "    <tr>\n",
       "      <th>3</th>\n",
       "      <td>fake</td>\n",
       "      <td>relatorio assustador bndes mostra dinheiro pub...</td>\n",
       "    </tr>\n",
       "    <tr>\n",
       "      <th>4</th>\n",
       "      <td>fake</td>\n",
       "      <td>radialista americano fala sobre pt vendem ilus...</td>\n",
       "    </tr>\n",
       "  </tbody>\n",
       "</table>\n",
       "</div>"
      ],
      "text/plain": [
       "      label                                  preprocessed_news\n",
       "index                                                         \n",
       "0      fake  katia abreu diz vai colocar expulsao moldura n...\n",
       "1      fake  ray peita bolsonaro conservador fake entrevist...\n",
       "2      fake  reinaldo azevedo desmascarado policia federal ...\n",
       "3      fake  relatorio assustador bndes mostra dinheiro pub...\n",
       "4      fake  radialista americano fala sobre pt vendem ilus..."
      ]
     },
     "execution_count": 42,
     "metadata": {},
     "output_type": "execute_result"
    }
   ],
   "source": [
    "fake_br.head()"
   ]
  },
  {
   "cell_type": "code",
   "execution_count": 44,
   "id": "b2893de5-6603-4401-b2d3-8b9d2f7a485a",
   "metadata": {},
   "outputs": [
    {
     "data": {
      "text/plain": [
       "label\n",
       "fake    3600\n",
       "true    3600\n",
       "Name: count, dtype: int64"
      ]
     },
     "execution_count": 44,
     "metadata": {},
     "output_type": "execute_result"
    }
   ],
   "source": [
    "fake_br.label.value_counts() # skipped 23"
   ]
  },
  {
   "cell_type": "markdown",
   "id": "1bcfb506-8adf-4026-911e-dcbc744e43dd",
   "metadata": {},
   "source": [
    "## 24- FakeNewsCorpus-Spanish"
   ]
  },
  {
   "cell_type": "code",
   "execution_count": 47,
   "id": "679cc01d-9079-4552-9c80-7d87bccedcd3",
   "metadata": {},
   "outputs": [],
   "source": [
    "fnc_spanish = pd.read_excel('datasets/text datasets/FakeNewsCorpus-Spanish/FakeNewsCorpusSpanish-master/train.xlsx', index_col='Id')"
   ]
  },
  {
   "cell_type": "code",
   "execution_count": 48,
   "id": "1a9f5a71-3bb8-41bf-aae3-3eea7f0bcf7c",
   "metadata": {},
   "outputs": [
    {
     "data": {
      "text/html": [
       "<div>\n",
       "<style scoped>\n",
       "    .dataframe tbody tr th:only-of-type {\n",
       "        vertical-align: middle;\n",
       "    }\n",
       "\n",
       "    .dataframe tbody tr th {\n",
       "        vertical-align: top;\n",
       "    }\n",
       "\n",
       "    .dataframe thead th {\n",
       "        text-align: right;\n",
       "    }\n",
       "</style>\n",
       "<table border=\"1\" class=\"dataframe\">\n",
       "  <thead>\n",
       "    <tr style=\"text-align: right;\">\n",
       "      <th></th>\n",
       "      <th>Category</th>\n",
       "      <th>Topic</th>\n",
       "      <th>Source</th>\n",
       "      <th>Headline</th>\n",
       "      <th>Text</th>\n",
       "      <th>Link</th>\n",
       "    </tr>\n",
       "    <tr>\n",
       "      <th>Id</th>\n",
       "      <th></th>\n",
       "      <th></th>\n",
       "      <th></th>\n",
       "      <th></th>\n",
       "      <th></th>\n",
       "      <th></th>\n",
       "    </tr>\n",
       "  </thead>\n",
       "  <tbody>\n",
       "    <tr>\n",
       "      <th>1</th>\n",
       "      <td>Fake</td>\n",
       "      <td>Education</td>\n",
       "      <td>El Ruinaversal</td>\n",
       "      <td>RAE INCLUIRÁ LA PALABRA \"LADY\" EN EL DICCIONAR...</td>\n",
       "      <td>RAE INCLUIRÁ LA PALABRA \"LADY\" EN EL DICCIONAR...</td>\n",
       "      <td>http://www.elruinaversal.com/2017/06/10/rae-in...</td>\n",
       "    </tr>\n",
       "    <tr>\n",
       "      <th>2</th>\n",
       "      <td>Fake</td>\n",
       "      <td>Education</td>\n",
       "      <td>Hay noticia</td>\n",
       "      <td>La palabra \"haiga\", aceptada por la RAE</td>\n",
       "      <td>La palabra \"haiga\", aceptada por la RAE La Rea...</td>\n",
       "      <td>https://haynoticia.es/la-palabra-haiga-aceptad...</td>\n",
       "    </tr>\n",
       "    <tr>\n",
       "      <th>3</th>\n",
       "      <td>Fake</td>\n",
       "      <td>Education</td>\n",
       "      <td>El Ruinaversal</td>\n",
       "      <td>YORDI ROSADO ESCRIBIRÁ Y DISEÑARÁ LOS NUEVOS L...</td>\n",
       "      <td>YORDI ROSADO ESCRIBIRÁ Y DISEÑARÁ LOS NUEVOS L...</td>\n",
       "      <td>http://www.elruinaversal.com/2018/05/06/yordi-...</td>\n",
       "    </tr>\n",
       "    <tr>\n",
       "      <th>4</th>\n",
       "      <td>True</td>\n",
       "      <td>Education</td>\n",
       "      <td>EL UNIVERSAL</td>\n",
       "      <td>UNAM capacitará a maestros para aprobar prueba...</td>\n",
       "      <td>UNAM capacitará a maestros para aprobar prueba...</td>\n",
       "      <td>http://www.eluniversal.com.mx/articulo/nacion/...</td>\n",
       "    </tr>\n",
       "    <tr>\n",
       "      <th>5</th>\n",
       "      <td>Fake</td>\n",
       "      <td>Education</td>\n",
       "      <td>Lamula</td>\n",
       "      <td>pretenden aprobar libros escolares con conteni...</td>\n",
       "      <td>Alerta: pretenden aprobar libros escolares con...</td>\n",
       "      <td>https://redaccion.lamula.pe/2018/06/19/memoria...</td>\n",
       "    </tr>\n",
       "  </tbody>\n",
       "</table>\n",
       "</div>"
      ],
      "text/plain": [
       "   Category      Topic          Source  \\\n",
       "Id                                       \n",
       "1      Fake  Education  El Ruinaversal   \n",
       "2      Fake  Education     Hay noticia   \n",
       "3      Fake  Education  El Ruinaversal   \n",
       "4      True  Education    EL UNIVERSAL   \n",
       "5      Fake  Education          Lamula   \n",
       "\n",
       "                                             Headline  \\\n",
       "Id                                                      \n",
       "1   RAE INCLUIRÁ LA PALABRA \"LADY\" EN EL DICCIONAR...   \n",
       "2             La palabra \"haiga\", aceptada por la RAE   \n",
       "3   YORDI ROSADO ESCRIBIRÁ Y DISEÑARÁ LOS NUEVOS L...   \n",
       "4   UNAM capacitará a maestros para aprobar prueba...   \n",
       "5   pretenden aprobar libros escolares con conteni...   \n",
       "\n",
       "                                                 Text  \\\n",
       "Id                                                      \n",
       "1   RAE INCLUIRÁ LA PALABRA \"LADY\" EN EL DICCIONAR...   \n",
       "2   La palabra \"haiga\", aceptada por la RAE La Rea...   \n",
       "3   YORDI ROSADO ESCRIBIRÁ Y DISEÑARÁ LOS NUEVOS L...   \n",
       "4   UNAM capacitará a maestros para aprobar prueba...   \n",
       "5   Alerta: pretenden aprobar libros escolares con...   \n",
       "\n",
       "                                                 Link  \n",
       "Id                                                     \n",
       "1   http://www.elruinaversal.com/2017/06/10/rae-in...  \n",
       "2   https://haynoticia.es/la-palabra-haiga-aceptad...  \n",
       "3   http://www.elruinaversal.com/2018/05/06/yordi-...  \n",
       "4   http://www.eluniversal.com.mx/articulo/nacion/...  \n",
       "5   https://redaccion.lamula.pe/2018/06/19/memoria...  "
      ]
     },
     "execution_count": 48,
     "metadata": {},
     "output_type": "execute_result"
    }
   ],
   "source": [
    "fnc_spanish.head()"
   ]
  },
  {
   "cell_type": "code",
   "execution_count": 49,
   "id": "c57c2785-5625-40c5-9ef9-e2bbfd58017a",
   "metadata": {},
   "outputs": [
    {
     "data": {
      "text/plain": [
       "Category\n",
       "Fake    338\n",
       "True    338\n",
       "Name: count, dtype: int64"
      ]
     },
     "execution_count": 49,
     "metadata": {},
     "output_type": "execute_result"
    }
   ],
   "source": [
    "fnc_spanish.Category.value_counts()"
   ]
  },
  {
   "cell_type": "markdown",
   "id": "b55bb2fe-6a25-4175-b81e-74058a47b378",
   "metadata": {},
   "source": [
    "## 25- FakeNewsNet"
   ]
  },
  {
   "cell_type": "code",
   "execution_count": 66,
   "id": "dba7892d-6daa-40b0-9f74-017eea122b87",
   "metadata": {},
   "outputs": [
    {
     "name": "stdout",
     "output_type": "stream",
     "text": [
      "                                               title  \\\n",
      "0  See the Cast of Sex and the City's Transformat...   \n",
      "1  Snooki Pays Tribute to 5-Year-Old Birthday Boy...   \n",
      "2  Mayim Bialik Responds to Backlash Over Op-Ed A...   \n",
      "3                                       Kylie Jenner   \n",
      "4                                        Olivia Munn   \n",
      "\n",
      "                                                text label  \n",
      "0  At one point or another, didn’t we all want to...  real  \n",
      "1  Nicole ‘Snooki’ Polizzi‘s son Lorenzo Dominic ...  real  \n",
      "2  Emily Ratajkowski, Gabrielle Union and Patrici...  real  \n",
      "3  Kylie Kristen Jenner (born August 10, 1997)[4]...  real  \n",
      "4  LOS ANGELES (AP) — “The Predator” is at the to...  real  \n"
     ]
    }
   ],
   "source": [
    "import os\n",
    "import json\n",
    "import pandas as pd\n",
    "\n",
    "# Define the root directory containing the four folders\n",
    "root_dir = 'datasets/text+image/text+image/Fakenewsnet/FakeNewsNet_Dataset'  # Replace this with the actual path\n",
    "\n",
    "# This will hold our extracted data\n",
    "records = []\n",
    "\n",
    "# Loop over each label folder\n",
    "for folder_name in os.listdir(root_dir):\n",
    "    folder_path = os.path.join(root_dir, folder_name)\n",
    "    \n",
    "    # Skip if not a directory\n",
    "    if not os.path.isdir(folder_path):\n",
    "        continue\n",
    "\n",
    "    # Label is the part after the last underscore\n",
    "    label = folder_name.split('_')[-1]\n",
    "\n",
    "    # Traverse each subfolder containing the news_article.json\n",
    "    for subfolder in os.listdir(folder_path):\n",
    "        subfolder_path = os.path.join(folder_path, subfolder)\n",
    "        if not os.path.isdir(subfolder_path):\n",
    "            continue\n",
    "\n",
    "        json_file_path = os.path.join(subfolder_path, 'news_article.json')\n",
    "\n",
    "        # Check if the file exists\n",
    "        if os.path.exists(json_file_path):\n",
    "            try:\n",
    "                with open(json_file_path, 'r', encoding='utf-8') as f:\n",
    "                    data = json.load(f)\n",
    "\n",
    "                # Append only if title and text exist\n",
    "                if 'title' in data and 'text' in data:\n",
    "                    records.append({\n",
    "                        'title': data['title'],\n",
    "                        'text': data['text'],\n",
    "                        'label': label\n",
    "                    })\n",
    "            except Exception as e:\n",
    "                print(f\"Error reading {json_file_path}: {e}\")\n",
    "\n",
    "# Create DataFrame\n",
    "df = pd.DataFrame(records)\n",
    "\n",
    "# Show sample\n",
    "print(df.head())"
   ]
  },
  {
   "cell_type": "code",
   "execution_count": 67,
   "id": "fb86b269-dacb-43fc-99c9-8a6561e4a8e6",
   "metadata": {},
   "outputs": [
    {
     "data": {
      "text/plain": [
       "22699"
      ]
     },
     "execution_count": 67,
     "metadata": {},
     "output_type": "execute_result"
    }
   ],
   "source": [
    "len(df)"
   ]
  },
  {
   "cell_type": "code",
   "execution_count": 68,
   "id": "7da67ff7-a388-480f-b359-96f58bdbc02d",
   "metadata": {},
   "outputs": [
    {
     "data": {
      "text/plain": [
       "label\n",
       "real    17251\n",
       "fake     5448\n",
       "Name: count, dtype: int64"
      ]
     },
     "execution_count": 68,
     "metadata": {},
     "output_type": "execute_result"
    }
   ],
   "source": [
    "df.label.value_counts()"
   ]
  },
  {
   "cell_type": "markdown",
   "id": "1e920fba-9fd2-4d09-af00-f1deafeb96f3",
   "metadata": {},
   "source": [
    "## 26- Fake news Urdu"
   ]
  },
  {
   "cell_type": "code",
   "execution_count": 52,
   "id": "75122a5a-fd50-4e71-bef2-26fee781cdde",
   "metadata": {},
   "outputs": [],
   "source": [
    "fn_urdu = pd.read_excel('datasets/text datasets/Fake-News-Urdu/news.xlsx', index_col='Unnamed: 0')"
   ]
  },
  {
   "cell_type": "code",
   "execution_count": 53,
   "id": "6dd05a6c-9c9c-402b-8b3b-d8d969f9c5a3",
   "metadata": {},
   "outputs": [
    {
     "data": {
      "text/html": [
       "<div>\n",
       "<style scoped>\n",
       "    .dataframe tbody tr th:only-of-type {\n",
       "        vertical-align: middle;\n",
       "    }\n",
       "\n",
       "    .dataframe tbody tr th {\n",
       "        vertical-align: top;\n",
       "    }\n",
       "\n",
       "    .dataframe thead th {\n",
       "        text-align: right;\n",
       "    }\n",
       "</style>\n",
       "<table border=\"1\" class=\"dataframe\">\n",
       "  <thead>\n",
       "    <tr style=\"text-align: right;\">\n",
       "      <th></th>\n",
       "      <th>news</th>\n",
       "      <th>label</th>\n",
       "    </tr>\n",
       "  </thead>\n",
       "  <tbody>\n",
       "    <tr>\n",
       "      <th>0</th>\n",
       "      <td>; \"تفصیلات کے مطابق بحریہ ٹاؤن کی جانب سے بتی...</td>\n",
       "      <td>real</td>\n",
       "    </tr>\n",
       "    <tr>\n",
       "      <th>1</th>\n",
       "      <td>; \"قصور میں مرد اور خاتون کی پھندا لگی لاشیں ب...</td>\n",
       "      <td>real</td>\n",
       "    </tr>\n",
       "    <tr>\n",
       "      <th>2</th>\n",
       "      <td>; ; \"تفصیلات کے مطابق داروغہ والا میں دیرینہ د...</td>\n",
       "      <td>real</td>\n",
       "    </tr>\n",
       "    <tr>\n",
       "      <th>3</th>\n",
       "      <td>; \"سیشن جج لاہور نے مجرم محمد اشرف کے بلیک ورا...</td>\n",
       "      <td>real</td>\n",
       "    </tr>\n",
       "    <tr>\n",
       "      <th>4</th>\n",
       "      <td>; \"آج ملزمہ انیقہ نے عدالت میں بیان بدل دیا، ...</td>\n",
       "      <td>real</td>\n",
       "    </tr>\n",
       "  </tbody>\n",
       "</table>\n",
       "</div>"
      ],
      "text/plain": [
       "                                                news label\n",
       "0  ; \"تفصیلات کے مطابق بحریہ ٹاؤن کی جانب سے بتی...  real\n",
       "1  ; \"قصور میں مرد اور خاتون کی پھندا لگی لاشیں ب...  real\n",
       "2  ; ; \"تفصیلات کے مطابق داروغہ والا میں دیرینہ د...  real\n",
       "3  ; \"سیشن جج لاہور نے مجرم محمد اشرف کے بلیک ورا...  real\n",
       "4  ; \"آج ملزمہ انیقہ نے عدالت میں بیان بدل دیا، ...  real"
      ]
     },
     "execution_count": 53,
     "metadata": {},
     "output_type": "execute_result"
    }
   ],
   "source": [
    "fn_urdu.head()"
   ]
  },
  {
   "cell_type": "code",
   "execution_count": 54,
   "id": "56ca428a-d66e-4012-8eae-1308709166bd",
   "metadata": {},
   "outputs": [
    {
     "data": {
      "text/plain": [
       "label\n",
       "fake     2455\n",
       "real     1642\n",
       "Name: count, dtype: int64"
      ]
     },
     "execution_count": 54,
     "metadata": {},
     "output_type": "execute_result"
    }
   ],
   "source": [
    "fn_urdu.label.value_counts()"
   ]
  },
  {
   "cell_type": "markdown",
   "id": "4fe99d7b-9f73-4d2b-bf19-d8c2258e5990",
   "metadata": {},
   "source": [
    "## 27- FA-KES"
   ]
  },
  {
   "cell_type": "code",
   "execution_count": 57,
   "id": "e924f03e-6a60-4d14-867b-8c04259e1dd8",
   "metadata": {},
   "outputs": [],
   "source": [
    "fakes = pd.read_csv('datasets/text datasets/FA-KES-Dataset.csv' , encoding='unicode_escape')"
   ]
  },
  {
   "cell_type": "code",
   "execution_count": 58,
   "id": "183b455e-0b10-4166-a45b-5dbf0e55f532",
   "metadata": {},
   "outputs": [
    {
     "data": {
      "text/html": [
       "<div>\n",
       "<style scoped>\n",
       "    .dataframe tbody tr th:only-of-type {\n",
       "        vertical-align: middle;\n",
       "    }\n",
       "\n",
       "    .dataframe tbody tr th {\n",
       "        vertical-align: top;\n",
       "    }\n",
       "\n",
       "    .dataframe thead th {\n",
       "        text-align: right;\n",
       "    }\n",
       "</style>\n",
       "<table border=\"1\" class=\"dataframe\">\n",
       "  <thead>\n",
       "    <tr style=\"text-align: right;\">\n",
       "      <th></th>\n",
       "      <th>unit_id</th>\n",
       "      <th>article_title</th>\n",
       "      <th>article_content</th>\n",
       "      <th>source</th>\n",
       "      <th>date</th>\n",
       "      <th>location</th>\n",
       "      <th>labels</th>\n",
       "      <th>Unnamed: 7</th>\n",
       "      <th>Unnamed: 8</th>\n",
       "      <th>Unnamed: 9</th>\n",
       "      <th>Unnamed: 10</th>\n",
       "    </tr>\n",
       "  </thead>\n",
       "  <tbody>\n",
       "    <tr>\n",
       "      <th>0</th>\n",
       "      <td>1914947530</td>\n",
       "      <td>Syria attack symptoms consistent with nerve ag...</td>\n",
       "      <td>Wed 05 Apr 2017 Syria attack symptoms consiste...</td>\n",
       "      <td>nna</td>\n",
       "      <td>4/5/2017</td>\n",
       "      <td>idlib</td>\n",
       "      <td>0</td>\n",
       "      <td>NaN</td>\n",
       "      <td>NaN</td>\n",
       "      <td>NaN</td>\n",
       "      <td>NaN</td>\n",
       "    </tr>\n",
       "    <tr>\n",
       "      <th>1</th>\n",
       "      <td>1914947532</td>\n",
       "      <td>Homs governor says U.S. attack caused deaths b...</td>\n",
       "      <td>Fri 07 Apr 2017 at 0914 Homs governor says U.S...</td>\n",
       "      <td>nna</td>\n",
       "      <td>4/7/2017</td>\n",
       "      <td>homs</td>\n",
       "      <td>0</td>\n",
       "      <td>NaN</td>\n",
       "      <td>NaN</td>\n",
       "      <td>NaN</td>\n",
       "      <td>NaN</td>\n",
       "    </tr>\n",
       "    <tr>\n",
       "      <th>2</th>\n",
       "      <td>1914947533</td>\n",
       "      <td>Death toll from Aleppo bomb attack at least 112</td>\n",
       "      <td>Sun 16 Apr 2017 Death toll from Aleppo bomb at...</td>\n",
       "      <td>nna</td>\n",
       "      <td>4/16/2017</td>\n",
       "      <td>aleppo</td>\n",
       "      <td>0</td>\n",
       "      <td>NaN</td>\n",
       "      <td>NaN</td>\n",
       "      <td>NaN</td>\n",
       "      <td>NaN</td>\n",
       "    </tr>\n",
       "    <tr>\n",
       "      <th>3</th>\n",
       "      <td>1914947534</td>\n",
       "      <td>Aleppo bomb blast kills six Syrian state TV</td>\n",
       "      <td>Wed 19 Apr 2017 Aleppo bomb blast kills six Sy...</td>\n",
       "      <td>nna</td>\n",
       "      <td>4/19/2017</td>\n",
       "      <td>aleppo</td>\n",
       "      <td>0</td>\n",
       "      <td>NaN</td>\n",
       "      <td>NaN</td>\n",
       "      <td>NaN</td>\n",
       "      <td>NaN</td>\n",
       "    </tr>\n",
       "    <tr>\n",
       "      <th>4</th>\n",
       "      <td>1914947535</td>\n",
       "      <td>29 Syria Rebels Dead in Fighting for Key Alepp...</td>\n",
       "      <td>Sun 10 Jul 2016 29 Syria Rebels Dead in Fighti...</td>\n",
       "      <td>nna</td>\n",
       "      <td>7/10/2016</td>\n",
       "      <td>aleppo</td>\n",
       "      <td>0</td>\n",
       "      <td>NaN</td>\n",
       "      <td>NaN</td>\n",
       "      <td>NaN</td>\n",
       "      <td>NaN</td>\n",
       "    </tr>\n",
       "  </tbody>\n",
       "</table>\n",
       "</div>"
      ],
      "text/plain": [
       "      unit_id                                      article_title  \\\n",
       "0  1914947530  Syria attack symptoms consistent with nerve ag...   \n",
       "1  1914947532  Homs governor says U.S. attack caused deaths b...   \n",
       "2  1914947533    Death toll from Aleppo bomb attack at least 112   \n",
       "3  1914947534        Aleppo bomb blast kills six Syrian state TV   \n",
       "4  1914947535  29 Syria Rebels Dead in Fighting for Key Alepp...   \n",
       "\n",
       "                                     article_content source       date  \\\n",
       "0  Wed 05 Apr 2017 Syria attack symptoms consiste...    nna   4/5/2017   \n",
       "1  Fri 07 Apr 2017 at 0914 Homs governor says U.S...    nna   4/7/2017   \n",
       "2  Sun 16 Apr 2017 Death toll from Aleppo bomb at...    nna  4/16/2017   \n",
       "3  Wed 19 Apr 2017 Aleppo bomb blast kills six Sy...    nna  4/19/2017   \n",
       "4  Sun 10 Jul 2016 29 Syria Rebels Dead in Fighti...    nna  7/10/2016   \n",
       "\n",
       "  location  labels  Unnamed: 7  Unnamed: 8  Unnamed: 9 Unnamed: 10  \n",
       "0    idlib       0         NaN         NaN         NaN         NaN  \n",
       "1     homs       0         NaN         NaN         NaN         NaN  \n",
       "2   aleppo       0         NaN         NaN         NaN         NaN  \n",
       "3   aleppo       0         NaN         NaN         NaN         NaN  \n",
       "4   aleppo       0         NaN         NaN         NaN         NaN  "
      ]
     },
     "execution_count": 58,
     "metadata": {},
     "output_type": "execute_result"
    }
   ],
   "source": [
    "fakes.head()"
   ]
  },
  {
   "cell_type": "code",
   "execution_count": 59,
   "id": "8cc5f5a7-35c2-4a6c-8aad-61f0d782caf8",
   "metadata": {},
   "outputs": [
    {
     "data": {
      "text/plain": [
       "labels\n",
       "1    426\n",
       "0    378\n",
       "Name: count, dtype: int64"
      ]
     },
     "execution_count": 59,
     "metadata": {},
     "output_type": "execute_result"
    }
   ],
   "source": [
    "fakes.labels.value_counts()"
   ]
  },
  {
   "cell_type": "markdown",
   "id": "1f10d67d-a464-4f9a-94f5-3bb64558dd4e",
   "metadata": {},
   "source": [
    "## 28- FANG"
   ]
  },
  {
   "cell_type": "code",
   "execution_count": 62,
   "id": "2d575ea9-e956-46c5-ba63-ead09b58ebbb",
   "metadata": {},
   "outputs": [],
   "source": [
    "fang_real = pd.read_csv('datasets/text datasets/fang/fang_real.csv', index_col= 'id')\n",
    "fang_fake = pd.read_csv('datasets/text datasets/fang/fang_fake.csv', index_col = 'id')"
   ]
  },
  {
   "cell_type": "code",
   "execution_count": 70,
   "id": "c533f061-d67c-4ce6-a1c3-83d3935d03e9",
   "metadata": {},
   "outputs": [
    {
     "data": {
      "text/html": [
       "<div>\n",
       "<style scoped>\n",
       "    .dataframe tbody tr th:only-of-type {\n",
       "        vertical-align: middle;\n",
       "    }\n",
       "\n",
       "    .dataframe tbody tr th {\n",
       "        vertical-align: top;\n",
       "    }\n",
       "\n",
       "    .dataframe thead th {\n",
       "        text-align: right;\n",
       "    }\n",
       "</style>\n",
       "<table border=\"1\" class=\"dataframe\">\n",
       "  <thead>\n",
       "    <tr style=\"text-align: right;\">\n",
       "      <th></th>\n",
       "      <th>news_url</th>\n",
       "      <th>title</th>\n",
       "      <th>tweet_ids</th>\n",
       "    </tr>\n",
       "    <tr>\n",
       "      <th>id</th>\n",
       "      <th></th>\n",
       "      <th></th>\n",
       "      <th></th>\n",
       "    </tr>\n",
       "  </thead>\n",
       "  <tbody>\n",
       "    <tr>\n",
       "      <th>pheme_144</th>\n",
       "      <td>https://www.reuters.com/article/us-australia-s...</td>\n",
       "      <td>Hostages held in Sydney cafe, Islamic flag see...</td>\n",
       "      <td>544289893401522177\\t544281840358801408\\t544289...</td>\n",
       "    </tr>\n",
       "    <tr>\n",
       "      <th>E287</th>\n",
       "      <td>https://www.theguardian.com/world/2015/oct/19/...</td>\n",
       "      <td>Man dies on Aer Lingus flight after being rest...</td>\n",
       "      <td>655894442847531008\\t655892002114965504\\t655892...</td>\n",
       "    </tr>\n",
       "    <tr>\n",
       "      <th>E39</th>\n",
       "      <td>https://nypost.com/2015/12/13/sensitive-princi...</td>\n",
       "      <td>School principal bans Santa Thanksgiving and P...</td>\n",
       "      <td>676046658728304640\\t676064615726497793\\t676067...</td>\n",
       "    </tr>\n",
       "    <tr>\n",
       "      <th>pheme_328</th>\n",
       "      <td>https://www.ctvnews.ca/canada/canada-will-neve...</td>\n",
       "      <td>'Canada will never be intimidated,' Harper say...</td>\n",
       "      <td>524927683248279552\\t524933014737137664\\t524926...</td>\n",
       "    </tr>\n",
       "    <tr>\n",
       "      <th>politifact825</th>\n",
       "      <td>https://web.archive.org/web/20081030004908/htt...</td>\n",
       "      <td>Planned Parenthood® Action Center</td>\n",
       "      <td>541443456892432384\\t31808128370606080\\t5097310...</td>\n",
       "    </tr>\n",
       "  </tbody>\n",
       "</table>\n",
       "</div>"
      ],
      "text/plain": [
       "                                                        news_url  \\\n",
       "id                                                                 \n",
       "pheme_144      https://www.reuters.com/article/us-australia-s...   \n",
       "E287           https://www.theguardian.com/world/2015/oct/19/...   \n",
       "E39            https://nypost.com/2015/12/13/sensitive-princi...   \n",
       "pheme_328      https://www.ctvnews.ca/canada/canada-will-neve...   \n",
       "politifact825  https://web.archive.org/web/20081030004908/htt...   \n",
       "\n",
       "                                                           title  \\\n",
       "id                                                                 \n",
       "pheme_144      Hostages held in Sydney cafe, Islamic flag see...   \n",
       "E287           Man dies on Aer Lingus flight after being rest...   \n",
       "E39            School principal bans Santa Thanksgiving and P...   \n",
       "pheme_328      'Canada will never be intimidated,' Harper say...   \n",
       "politifact825                  Planned Parenthood® Action Center   \n",
       "\n",
       "                                                       tweet_ids  \n",
       "id                                                                \n",
       "pheme_144      544289893401522177\\t544281840358801408\\t544289...  \n",
       "E287           655894442847531008\\t655892002114965504\\t655892...  \n",
       "E39            676046658728304640\\t676064615726497793\\t676067...  \n",
       "pheme_328      524927683248279552\\t524933014737137664\\t524926...  \n",
       "politifact825  541443456892432384\\t31808128370606080\\t5097310...  "
      ]
     },
     "execution_count": 70,
     "metadata": {},
     "output_type": "execute_result"
    }
   ],
   "source": [
    "fang_real.head()"
   ]
  },
  {
   "cell_type": "code",
   "execution_count": 65,
   "id": "f11335d2-643e-4e2b-8750-652dc9c9cd9e",
   "metadata": {},
   "outputs": [
    {
     "name": "stdout",
     "output_type": "stream",
     "text": [
      "606 448\n"
     ]
    }
   ],
   "source": [
    "print(len(fang_real), len(fang_fake))"
   ]
  },
  {
   "cell_type": "markdown",
   "id": "3e619d94-b0fc-4431-a056-f21cc331b545",
   "metadata": {},
   "source": [
    "## 29- FANG-Covid"
   ]
  },
  {
   "cell_type": "code",
   "execution_count": 71,
   "id": "617eae27-63d3-43e6-9b70-ac1d10c69340",
   "metadata": {},
   "outputs": [
    {
     "name": "stdout",
     "output_type": "stream",
     "text": [
      "                                              header  \\\n",
      "0  Überwältigende Mehrheit glaubt, dass der Lockd...   \n",
      "1  \\n                Wirtschaftskrise mit Corona:...   \n",
      "2                               Die Milliarden-Frage   \n",
      "3                             Ein deutsches Bergamo?   \n",
      "4  Vitamin C: Der entscheidende Nährstoff in der ...   \n",
      "\n",
      "                                             article label  \n",
      "0  Berlin – So ein gehirngewaschenes, völlig verä...  fake  \n",
      "1                  Neue Zahlen für Mai: Die Arbei...  fake  \n",
      "2  Wie soll der Staat der Wirtschaft helfen? Ein ...  real  \n",
      "3  Im sächsischen Erzgebirge steigt die Zahl der ...  real  \n",
      "4  Vitamin C ist für die menschliche Gesundheit l...  fake  \n"
     ]
    }
   ],
   "source": [
    "import os\n",
    "import json\n",
    "import pandas as pd\n",
    "\n",
    "# Folder containing your JSON files\n",
    "folder_path = \"datasets/text datasets/fang-covid-main/articles\"\n",
    "\n",
    "# List to store all the data\n",
    "data = []\n",
    "\n",
    "# Loop through all files in the folder\n",
    "for filename in os.listdir(folder_path):\n",
    "    if filename.endswith(\".json\"):\n",
    "        file_path = os.path.join(folder_path, filename)\n",
    "        with open(file_path, \"r\", encoding=\"utf-8\") as file:\n",
    "            try:\n",
    "                content = json.load(file)\n",
    "                header = content.get(\"header\", \"\")\n",
    "                article = content.get(\"article\", \"\")\n",
    "                label = content.get(\"label\", \"\")\n",
    "                data.append({\"header\": header, \"article\": article, \"label\": label})\n",
    "            except json.JSONDecodeError as e:\n",
    "                print(f\"Error reading {filename}: {e}\")\n",
    "\n",
    "# Convert to pandas DataFrame\n",
    "df = pd.DataFrame(data)\n",
    "\n",
    "# View the result\n",
    "print(df.head())\n"
   ]
  },
  {
   "cell_type": "code",
   "execution_count": 72,
   "id": "19a232cb-bad4-4dc8-8c67-7e5e1f0b9361",
   "metadata": {},
   "outputs": [
    {
     "data": {
      "text/plain": [
       "41242"
      ]
     },
     "execution_count": 72,
     "metadata": {},
     "output_type": "execute_result"
    }
   ],
   "source": [
    "len(df)"
   ]
  },
  {
   "cell_type": "code",
   "execution_count": 73,
   "id": "713193f1-6088-4ebc-9b61-1fb8bc6c2c4b",
   "metadata": {},
   "outputs": [
    {
     "data": {
      "text/plain": [
       "label\n",
       "real    28056\n",
       "fake    13186\n",
       "Name: count, dtype: int64"
      ]
     },
     "execution_count": 73,
     "metadata": {},
     "output_type": "execute_result"
    }
   ],
   "source": [
    "df.label.value_counts()"
   ]
  },
  {
   "cell_type": "code",
   "execution_count": 2,
   "id": "10333af5-a966-4538-8188-a3edd5fa9b2c",
   "metadata": {},
   "outputs": [],
   "source": [
    "# skipping 30"
   ]
  },
  {
   "cell_type": "markdown",
   "id": "97b06a01-7349-44c8-bf6e-6ab8eec9d003",
   "metadata": {},
   "source": [
    "## 31- FineFake"
   ]
  },
  {
   "cell_type": "code",
   "execution_count": 3,
   "id": "e2199268-be26-45c8-adcb-7b45b1845374",
   "metadata": {},
   "outputs": [],
   "source": [
    "fine_fake = pd.read_pickle('datasets/text datasets/FineFake.pkl')"
   ]
  },
  {
   "cell_type": "code",
   "execution_count": 4,
   "id": "8fcd7cc4-188d-4c34-bc4b-a7a1ff10999c",
   "metadata": {},
   "outputs": [
    {
     "data": {
      "text/html": [
       "<div>\n",
       "<style scoped>\n",
       "    .dataframe tbody tr th:only-of-type {\n",
       "        vertical-align: middle;\n",
       "    }\n",
       "\n",
       "    .dataframe tbody tr th {\n",
       "        vertical-align: top;\n",
       "    }\n",
       "\n",
       "    .dataframe thead th {\n",
       "        text-align: right;\n",
       "    }\n",
       "</style>\n",
       "<table border=\"1\" class=\"dataframe\">\n",
       "  <thead>\n",
       "    <tr style=\"text-align: right;\">\n",
       "      <th></th>\n",
       "      <th>text</th>\n",
       "      <th>image_path</th>\n",
       "      <th>entity_id</th>\n",
       "      <th>topic</th>\n",
       "      <th>fine-grained label</th>\n",
       "      <th>label</th>\n",
       "      <th>knowledge_embedding</th>\n",
       "      <th>description</th>\n",
       "      <th>relation</th>\n",
       "      <th>platform</th>\n",
       "      <th>author</th>\n",
       "      <th>date</th>\n",
       "      <th>comment</th>\n",
       "    </tr>\n",
       "  </thead>\n",
       "  <tbody>\n",
       "    <tr>\n",
       "      <th>0</th>\n",
       "      <td>CDCs Abortion Surveillance System FAQsNo, stat...</td>\n",
       "      <td>Image/cdc_gov/0.ico</td>\n",
       "      <td>[]</td>\n",
       "      <td>Health</td>\n",
       "      <td>0</td>\n",
       "      <td>1</td>\n",
       "      <td>[0.0, 0.0, 0.0, 0.0, 0.0, 0.0, 0.0, 0.0, 0.0, ...</td>\n",
       "      <td>[]</td>\n",
       "      <td>[]</td>\n",
       "      <td>cdc_gov</td>\n",
       "      <td>None</td>\n",
       "      <td>NaN</td>\n",
       "      <td>NaN</td>\n",
       "    </tr>\n",
       "    <tr>\n",
       "      <th>1</th>\n",
       "      <td>Abortion Surveillance — United States, 2012Abo...</td>\n",
       "      <td>Image/cdc_gov/1.ico</td>\n",
       "      <td>[Q8452, Q113297224, Q3817591, Q30, Q61, Q759, ...</td>\n",
       "      <td>Health</td>\n",
       "      <td>0</td>\n",
       "      <td>1</td>\n",
       "      <td>[-0.11652757, -0.08209974, -0.06088451, -0.033...</td>\n",
       "      <td>[[Q8452, description, intentional ending of a ...</td>\n",
       "      <td>[[[Q8452, P910, Q6156380], [Q8452, P1343, Q302...</td>\n",
       "      <td>cdc_gov</td>\n",
       "      <td>[Karen Pazol, Andreea A. Creanga, Denise J. Ja...</td>\n",
       "      <td>NaN</td>\n",
       "      <td>NaN</td>\n",
       "    </tr>\n",
       "    <tr>\n",
       "      <th>2</th>\n",
       "      <td>RabiesRabies is a fatal but preventable viral ...</td>\n",
       "      <td>Image/cdc_gov/6.ico</td>\n",
       "      <td>[Q39222]</td>\n",
       "      <td>Entertainment</td>\n",
       "      <td>0</td>\n",
       "      <td>1</td>\n",
       "      <td>[0.034429, -0.098264, 0.168568, -0.169074, 0.0...</td>\n",
       "      <td>[[Q39222, description, deadly viral disease, t...</td>\n",
       "      <td>[[[Q39222, P910, Q7427599], [Q39222, P780, Q10...</td>\n",
       "      <td>cdc_gov</td>\n",
       "      <td>None</td>\n",
       "      <td>NaN</td>\n",
       "      <td>NaN</td>\n",
       "    </tr>\n",
       "    <tr>\n",
       "      <th>3</th>\n",
       "      <td>Other Wild AnimalsTerrestrial Carnivores: Racc...</td>\n",
       "      <td>Image/cdc_gov/12.ico</td>\n",
       "      <td>[Q121439, Q43604020, Q39222, Q698976, Q1361206...</td>\n",
       "      <td>Entertainment</td>\n",
       "      <td>0</td>\n",
       "      <td>1</td>\n",
       "      <td>[0.013125, -0.046556402, 0.0849138, -0.0067817...</td>\n",
       "      <td>[[Q121439, description, species of mammal nati...</td>\n",
       "      <td>[[[Q121439, P105, Q7432], [Q121439, P141, Q211...</td>\n",
       "      <td>cdc_gov</td>\n",
       "      <td>None</td>\n",
       "      <td>NaN</td>\n",
       "      <td>NaN</td>\n",
       "    </tr>\n",
       "    <tr>\n",
       "      <th>4</th>\n",
       "      <td>Coronavirus Disease 2019 (COVID-19)UPDATE\\n\\nT...</td>\n",
       "      <td>Image/cdc_gov/13.jpeg</td>\n",
       "      <td>[]</td>\n",
       "      <td>Entertainment</td>\n",
       "      <td>0</td>\n",
       "      <td>1</td>\n",
       "      <td>[0.0, 0.0, 0.0, 0.0, 0.0, 0.0, 0.0, 0.0, 0.0, ...</td>\n",
       "      <td>[]</td>\n",
       "      <td>[]</td>\n",
       "      <td>cdc_gov</td>\n",
       "      <td>None</td>\n",
       "      <td>NaN</td>\n",
       "      <td>NaN</td>\n",
       "    </tr>\n",
       "  </tbody>\n",
       "</table>\n",
       "</div>"
      ],
      "text/plain": [
       "                                                text             image_path  \\\n",
       "0  CDCs Abortion Surveillance System FAQsNo, stat...    Image/cdc_gov/0.ico   \n",
       "1  Abortion Surveillance — United States, 2012Abo...    Image/cdc_gov/1.ico   \n",
       "2  RabiesRabies is a fatal but preventable viral ...    Image/cdc_gov/6.ico   \n",
       "3  Other Wild AnimalsTerrestrial Carnivores: Racc...   Image/cdc_gov/12.ico   \n",
       "4  Coronavirus Disease 2019 (COVID-19)UPDATE\\n\\nT...  Image/cdc_gov/13.jpeg   \n",
       "\n",
       "                                           entity_id          topic  \\\n",
       "0                                                 []         Health   \n",
       "1  [Q8452, Q113297224, Q3817591, Q30, Q61, Q759, ...         Health   \n",
       "2                                           [Q39222]  Entertainment   \n",
       "3  [Q121439, Q43604020, Q39222, Q698976, Q1361206...  Entertainment   \n",
       "4                                                 []  Entertainment   \n",
       "\n",
       "   fine-grained label  label  \\\n",
       "0                   0      1   \n",
       "1                   0      1   \n",
       "2                   0      1   \n",
       "3                   0      1   \n",
       "4                   0      1   \n",
       "\n",
       "                                 knowledge_embedding  \\\n",
       "0  [0.0, 0.0, 0.0, 0.0, 0.0, 0.0, 0.0, 0.0, 0.0, ...   \n",
       "1  [-0.11652757, -0.08209974, -0.06088451, -0.033...   \n",
       "2  [0.034429, -0.098264, 0.168568, -0.169074, 0.0...   \n",
       "3  [0.013125, -0.046556402, 0.0849138, -0.0067817...   \n",
       "4  [0.0, 0.0, 0.0, 0.0, 0.0, 0.0, 0.0, 0.0, 0.0, ...   \n",
       "\n",
       "                                         description  \\\n",
       "0                                                 []   \n",
       "1  [[Q8452, description, intentional ending of a ...   \n",
       "2  [[Q39222, description, deadly viral disease, t...   \n",
       "3  [[Q121439, description, species of mammal nati...   \n",
       "4                                                 []   \n",
       "\n",
       "                                            relation platform  \\\n",
       "0                                                 []  cdc_gov   \n",
       "1  [[[Q8452, P910, Q6156380], [Q8452, P1343, Q302...  cdc_gov   \n",
       "2  [[[Q39222, P910, Q7427599], [Q39222, P780, Q10...  cdc_gov   \n",
       "3  [[[Q121439, P105, Q7432], [Q121439, P141, Q211...  cdc_gov   \n",
       "4                                                 []  cdc_gov   \n",
       "\n",
       "                                              author date comment  \n",
       "0                                               None  NaN     NaN  \n",
       "1  [Karen Pazol, Andreea A. Creanga, Denise J. Ja...  NaN     NaN  \n",
       "2                                               None  NaN     NaN  \n",
       "3                                               None  NaN     NaN  \n",
       "4                                               None  NaN     NaN  "
      ]
     },
     "execution_count": 4,
     "metadata": {},
     "output_type": "execute_result"
    }
   ],
   "source": [
    "fine_fake.head()"
   ]
  },
  {
   "cell_type": "code",
   "execution_count": 5,
   "id": "ddc4be25-ac25-4eda-b9c5-675104b2132c",
   "metadata": {},
   "outputs": [
    {
     "data": {
      "text/plain": [
       "label\n",
       "0    9407\n",
       "1    7502\n",
       "Name: count, dtype: int64"
      ]
     },
     "execution_count": 5,
     "metadata": {},
     "output_type": "execute_result"
    }
   ],
   "source": [
    "fine_fake.label.value_counts()"
   ]
  },
  {
   "cell_type": "markdown",
   "id": "e75f80e8-b144-4d4b-92b4-11af2ec15114",
   "metadata": {},
   "source": [
    "## 32- FNID-FakeNewsNet"
   ]
  },
  {
   "cell_type": "code",
   "execution_count": 6,
   "id": "e1c25f3e-65cf-4791-ab1d-e470ae697e41",
   "metadata": {},
   "outputs": [],
   "source": [
    "fnid = pd.read_csv('datasets/text datasets/FNID-dataset/dataset/fake news detection(FakeNewsNet)/fnn_train.csv')"
   ]
  },
  {
   "cell_type": "code",
   "execution_count": 7,
   "id": "8a176d33-60d2-4f54-b785-abf8bcf29139",
   "metadata": {},
   "outputs": [
    {
     "data": {
      "text/html": [
       "<div>\n",
       "<style scoped>\n",
       "    .dataframe tbody tr th:only-of-type {\n",
       "        vertical-align: middle;\n",
       "    }\n",
       "\n",
       "    .dataframe tbody tr th {\n",
       "        vertical-align: top;\n",
       "    }\n",
       "\n",
       "    .dataframe thead th {\n",
       "        text-align: right;\n",
       "    }\n",
       "</style>\n",
       "<table border=\"1\" class=\"dataframe\">\n",
       "  <thead>\n",
       "    <tr style=\"text-align: right;\">\n",
       "      <th></th>\n",
       "      <th>id</th>\n",
       "      <th>date</th>\n",
       "      <th>speaker</th>\n",
       "      <th>statement</th>\n",
       "      <th>sources</th>\n",
       "      <th>paragraph_based_content</th>\n",
       "      <th>fullText_based_content</th>\n",
       "      <th>label_fnn</th>\n",
       "    </tr>\n",
       "  </thead>\n",
       "  <tbody>\n",
       "    <tr>\n",
       "      <th>0</th>\n",
       "      <td>3106</td>\n",
       "      <td>2011-01-25T06:00:00-05:00</td>\n",
       "      <td>Joe Wilkinson</td>\n",
       "      <td>A national organization says Georgia has one o...</td>\n",
       "      <td>['http://www.ajc.com/news/georgia-politics-ele...</td>\n",
       "      <td>['A coalition of government watchdog groups la...</td>\n",
       "      <td>A coalition of government watchdog groups last...</td>\n",
       "      <td>fake</td>\n",
       "    </tr>\n",
       "    <tr>\n",
       "      <th>1</th>\n",
       "      <td>5655</td>\n",
       "      <td>2012-04-02T11:42:20-04:00</td>\n",
       "      <td>Rick Scott</td>\n",
       "      <td>Says Barack Obama's health care law \"will be t...</td>\n",
       "      <td>['http://www.youtube.com/watch?v=TaC0mKApf9Q&amp;f...</td>\n",
       "      <td>['As Supreme Court justices embarked on three ...</td>\n",
       "      <td>As Supreme Court justices embarked on three da...</td>\n",
       "      <td>fake</td>\n",
       "    </tr>\n",
       "    <tr>\n",
       "      <th>2</th>\n",
       "      <td>3506</td>\n",
       "      <td>2011-04-01T09:49:05-04:00</td>\n",
       "      <td>J.D. Alexander</td>\n",
       "      <td>Says the Southwest Florida Water Management Di...</td>\n",
       "      <td>['http://www.tampabay.com/news/politics/gubern...</td>\n",
       "      <td>[\"Here's a new one: The Senate budget committe...</td>\n",
       "      <td>Here's a new one: The Senate budget committee ...</td>\n",
       "      <td>fake</td>\n",
       "    </tr>\n",
       "    <tr>\n",
       "      <th>3</th>\n",
       "      <td>3450</td>\n",
       "      <td>2011-03-21T12:20:02-04:00</td>\n",
       "      <td>Paul Ryan</td>\n",
       "      <td>\"The Congressional Budget Office has this econ...</td>\n",
       "      <td>['http://www.cnn.com/2011/POLITICS/03/17/gop.b...</td>\n",
       "      <td>['Recently, House Budget chairman Paul Ryan, R...</td>\n",
       "      <td>Recently, House Budget chairman Paul Ryan, R-W...</td>\n",
       "      <td>real</td>\n",
       "    </tr>\n",
       "    <tr>\n",
       "      <th>4</th>\n",
       "      <td>4776</td>\n",
       "      <td>2011-11-13T07:30:00-05:00</td>\n",
       "      <td>Rodney Frelinghuysen</td>\n",
       "      <td>Says the Treasury Department \"says 41 percent ...</td>\n",
       "      <td>['http://frelinghuysen.house.gov/index.cfm?sec...</td>\n",
       "      <td>['The millionaires’ tax proposal made its late...</td>\n",
       "      <td>The millionaires’ tax proposal made its latest...</td>\n",
       "      <td>fake</td>\n",
       "    </tr>\n",
       "  </tbody>\n",
       "</table>\n",
       "</div>"
      ],
      "text/plain": [
       "     id                       date               speaker  \\\n",
       "0  3106  2011-01-25T06:00:00-05:00         Joe Wilkinson   \n",
       "1  5655  2012-04-02T11:42:20-04:00            Rick Scott   \n",
       "2  3506  2011-04-01T09:49:05-04:00        J.D. Alexander   \n",
       "3  3450  2011-03-21T12:20:02-04:00             Paul Ryan   \n",
       "4  4776  2011-11-13T07:30:00-05:00  Rodney Frelinghuysen   \n",
       "\n",
       "                                           statement  \\\n",
       "0  A national organization says Georgia has one o...   \n",
       "1  Says Barack Obama's health care law \"will be t...   \n",
       "2  Says the Southwest Florida Water Management Di...   \n",
       "3  \"The Congressional Budget Office has this econ...   \n",
       "4  Says the Treasury Department \"says 41 percent ...   \n",
       "\n",
       "                                             sources  \\\n",
       "0  ['http://www.ajc.com/news/georgia-politics-ele...   \n",
       "1  ['http://www.youtube.com/watch?v=TaC0mKApf9Q&f...   \n",
       "2  ['http://www.tampabay.com/news/politics/gubern...   \n",
       "3  ['http://www.cnn.com/2011/POLITICS/03/17/gop.b...   \n",
       "4  ['http://frelinghuysen.house.gov/index.cfm?sec...   \n",
       "\n",
       "                             paragraph_based_content  \\\n",
       "0  ['A coalition of government watchdog groups la...   \n",
       "1  ['As Supreme Court justices embarked on three ...   \n",
       "2  [\"Here's a new one: The Senate budget committe...   \n",
       "3  ['Recently, House Budget chairman Paul Ryan, R...   \n",
       "4  ['The millionaires’ tax proposal made its late...   \n",
       "\n",
       "                              fullText_based_content label_fnn  \n",
       "0  A coalition of government watchdog groups last...      fake  \n",
       "1  As Supreme Court justices embarked on three da...      fake  \n",
       "2  Here's a new one: The Senate budget committee ...      fake  \n",
       "3  Recently, House Budget chairman Paul Ryan, R-W...      real  \n",
       "4  The millionaires’ tax proposal made its latest...      fake  "
      ]
     },
     "execution_count": 7,
     "metadata": {},
     "output_type": "execute_result"
    }
   ],
   "source": [
    "fnid.head()"
   ]
  },
  {
   "cell_type": "code",
   "execution_count": 8,
   "id": "c81b0a2d-8eec-4fe0-bb6e-282db54342df",
   "metadata": {},
   "outputs": [
    {
     "data": {
      "text/plain": [
       "label_fnn\n",
       "fake    7621\n",
       "real    7591\n",
       "Name: count, dtype: int64"
      ]
     },
     "execution_count": 8,
     "metadata": {},
     "output_type": "execute_result"
    }
   ],
   "source": [
    "fnid.label_fnn.value_counts()"
   ]
  },
  {
   "cell_type": "markdown",
   "id": "1e22a843-d8e4-4569-9a8c-76201107896a",
   "metadata": {},
   "source": [
    "## 33- FNID-LIAR"
   ]
  },
  {
   "cell_type": "code",
   "execution_count": 9,
   "id": "dbafba87-d3ba-4bc3-a4fd-974ecd627b82",
   "metadata": {},
   "outputs": [],
   "source": [
    "fnid_liar = pd.read_csv('datasets/text datasets/FNID-dataset/dataset/fake news detection(LIAR)/liar_train.csv')"
   ]
  },
  {
   "cell_type": "code",
   "execution_count": 10,
   "id": "2b7572d2-69c4-402d-97ca-c1f7c16ce437",
   "metadata": {},
   "outputs": [
    {
     "data": {
      "text/html": [
       "<div>\n",
       "<style scoped>\n",
       "    .dataframe tbody tr th:only-of-type {\n",
       "        vertical-align: middle;\n",
       "    }\n",
       "\n",
       "    .dataframe tbody tr th {\n",
       "        vertical-align: top;\n",
       "    }\n",
       "\n",
       "    .dataframe thead th {\n",
       "        text-align: right;\n",
       "    }\n",
       "</style>\n",
       "<table border=\"1\" class=\"dataframe\">\n",
       "  <thead>\n",
       "    <tr style=\"text-align: right;\">\n",
       "      <th></th>\n",
       "      <th>id</th>\n",
       "      <th>date</th>\n",
       "      <th>speaker</th>\n",
       "      <th>statement</th>\n",
       "      <th>sources</th>\n",
       "      <th>paragraph_based_content</th>\n",
       "      <th>fullText_based_content</th>\n",
       "      <th>label-liar</th>\n",
       "    </tr>\n",
       "  </thead>\n",
       "  <tbody>\n",
       "    <tr>\n",
       "      <th>0</th>\n",
       "      <td>18178</td>\n",
       "      <td>2020-03-18T13:26:42-04:00</td>\n",
       "      <td>Instagram posts</td>\n",
       "      <td>\"COVID-19 started because we eat animals.\"</td>\n",
       "      <td>['https://www.cdc.gov/coronavirus/2019-ncov/ca...</td>\n",
       "      <td>['Vegan Instagram users are pinning the 2019 c...</td>\n",
       "      <td>Vegan Instagram users are pinning the 2019 cor...</td>\n",
       "      <td>barely-true</td>\n",
       "    </tr>\n",
       "    <tr>\n",
       "      <th>1</th>\n",
       "      <td>3350</td>\n",
       "      <td>2011-03-04T09:12:59-05:00</td>\n",
       "      <td>Glenn Beck</td>\n",
       "      <td>Says Michelle Obama has 43 people on her staff...</td>\n",
       "      <td>['http://www.glennbeck.com/2011/02/25/while-wo...</td>\n",
       "      <td>['Glenn Beck rekindled a falsehood about the s...</td>\n",
       "      <td>Glenn Beck rekindled a falsehood about the siz...</td>\n",
       "      <td>pants-fire</td>\n",
       "    </tr>\n",
       "    <tr>\n",
       "      <th>2</th>\n",
       "      <td>14343</td>\n",
       "      <td>2017-07-21T11:52:44-04:00</td>\n",
       "      <td>Mike Pence</td>\n",
       "      <td>Says President Donald Trump \"has signed more l...</td>\n",
       "      <td>['https://nrf.com/events/retail-advocates-summ...</td>\n",
       "      <td>['Vice President Mike Pence says that when it ...</td>\n",
       "      <td>Vice President Mike Pence says that when it co...</td>\n",
       "      <td>half-true</td>\n",
       "    </tr>\n",
       "    <tr>\n",
       "      <th>3</th>\n",
       "      <td>15579</td>\n",
       "      <td>2018-07-10T15:52:26-04:00</td>\n",
       "      <td>Bloggers</td>\n",
       "      <td>\"US representatives promise implement of UN gu...</td>\n",
       "      <td>['https://conservativedailypost.com/us-represe...</td>\n",
       "      <td>['A conservative website falsely claimed that ...</td>\n",
       "      <td>A conservative website falsely claimed that U....</td>\n",
       "      <td>barely-true</td>\n",
       "    </tr>\n",
       "    <tr>\n",
       "      <th>4</th>\n",
       "      <td>3690</td>\n",
       "      <td>2011-05-04T16:31:24-04:00</td>\n",
       "      <td>National Republican Congressional Committee</td>\n",
       "      <td>\"The federal government borrows $4 billion eve...</td>\n",
       "      <td>['http://www.politifact.com/georgia/statements...</td>\n",
       "      <td>['Hundreds of Rhode Islanders got phone calls ...</td>\n",
       "      <td>Hundreds of Rhode Islanders got phone calls la...</td>\n",
       "      <td>mostly-true</td>\n",
       "    </tr>\n",
       "  </tbody>\n",
       "</table>\n",
       "</div>"
      ],
      "text/plain": [
       "      id                       date  \\\n",
       "0  18178  2020-03-18T13:26:42-04:00   \n",
       "1   3350  2011-03-04T09:12:59-05:00   \n",
       "2  14343  2017-07-21T11:52:44-04:00   \n",
       "3  15579  2018-07-10T15:52:26-04:00   \n",
       "4   3690  2011-05-04T16:31:24-04:00   \n",
       "\n",
       "                                       speaker  \\\n",
       "0                              Instagram posts   \n",
       "1                                   Glenn Beck   \n",
       "2                                   Mike Pence   \n",
       "3                                     Bloggers   \n",
       "4  National Republican Congressional Committee   \n",
       "\n",
       "                                           statement  \\\n",
       "0         \"COVID-19 started because we eat animals.\"   \n",
       "1  Says Michelle Obama has 43 people on her staff...   \n",
       "2  Says President Donald Trump \"has signed more l...   \n",
       "3  \"US representatives promise implement of UN gu...   \n",
       "4  \"The federal government borrows $4 billion eve...   \n",
       "\n",
       "                                             sources  \\\n",
       "0  ['https://www.cdc.gov/coronavirus/2019-ncov/ca...   \n",
       "1  ['http://www.glennbeck.com/2011/02/25/while-wo...   \n",
       "2  ['https://nrf.com/events/retail-advocates-summ...   \n",
       "3  ['https://conservativedailypost.com/us-represe...   \n",
       "4  ['http://www.politifact.com/georgia/statements...   \n",
       "\n",
       "                             paragraph_based_content  \\\n",
       "0  ['Vegan Instagram users are pinning the 2019 c...   \n",
       "1  ['Glenn Beck rekindled a falsehood about the s...   \n",
       "2  ['Vice President Mike Pence says that when it ...   \n",
       "3  ['A conservative website falsely claimed that ...   \n",
       "4  ['Hundreds of Rhode Islanders got phone calls ...   \n",
       "\n",
       "                              fullText_based_content   label-liar  \n",
       "0  Vegan Instagram users are pinning the 2019 cor...  barely-true  \n",
       "1  Glenn Beck rekindled a falsehood about the siz...   pants-fire  \n",
       "2  Vice President Mike Pence says that when it co...    half-true  \n",
       "3  A conservative website falsely claimed that U....  barely-true  \n",
       "4  Hundreds of Rhode Islanders got phone calls la...  mostly-true  "
      ]
     },
     "execution_count": 10,
     "metadata": {},
     "output_type": "execute_result"
    }
   ],
   "source": [
    "fnid_liar.head()"
   ]
  },
  {
   "cell_type": "code",
   "execution_count": 16,
   "id": "cc22d27c-4bcc-445b-a8c1-ce9355aefc72",
   "metadata": {},
   "outputs": [
    {
     "data": {
      "text/plain": [
       "label-liar\n",
       "false          3280\n",
       "half-true      2833\n",
       "mostly-true    2631\n",
       "barely-true    2483\n",
       "true           2050\n",
       "pants-fire     1775\n",
       "Name: count, dtype: int64"
      ]
     },
     "execution_count": 16,
     "metadata": {},
     "output_type": "execute_result"
    }
   ],
   "source": [
    "fnid_liar['label-liar'].value_counts()"
   ]
  },
  {
   "cell_type": "markdown",
   "id": "8dfb7076-08a7-4b37-8c46-839779ee8352",
   "metadata": {},
   "source": [
    "## 34- ISOT"
   ]
  },
  {
   "cell_type": "code",
   "execution_count": 17,
   "id": "6ce55541-657f-42b9-b07a-c226352890aa",
   "metadata": {},
   "outputs": [],
   "source": [
    "isot_real = pd.read_csv('datasets/text datasets/ISOT/True.csv')\n",
    "isot_fake = pd.read_csv('datasets/text datasets/ISOT/Fake.csv')"
   ]
  },
  {
   "cell_type": "code",
   "execution_count": 18,
   "id": "6bdb1691-c777-43ae-a814-dcf8b2d405d1",
   "metadata": {},
   "outputs": [
    {
     "data": {
      "text/html": [
       "<div>\n",
       "<style scoped>\n",
       "    .dataframe tbody tr th:only-of-type {\n",
       "        vertical-align: middle;\n",
       "    }\n",
       "\n",
       "    .dataframe tbody tr th {\n",
       "        vertical-align: top;\n",
       "    }\n",
       "\n",
       "    .dataframe thead th {\n",
       "        text-align: right;\n",
       "    }\n",
       "</style>\n",
       "<table border=\"1\" class=\"dataframe\">\n",
       "  <thead>\n",
       "    <tr style=\"text-align: right;\">\n",
       "      <th></th>\n",
       "      <th>title</th>\n",
       "      <th>text</th>\n",
       "      <th>subject</th>\n",
       "      <th>date</th>\n",
       "    </tr>\n",
       "  </thead>\n",
       "  <tbody>\n",
       "    <tr>\n",
       "      <th>0</th>\n",
       "      <td>As U.S. budget fight looms, Republicans flip t...</td>\n",
       "      <td>WASHINGTON (Reuters) - The head of a conservat...</td>\n",
       "      <td>politicsNews</td>\n",
       "      <td>December 31, 2017</td>\n",
       "    </tr>\n",
       "    <tr>\n",
       "      <th>1</th>\n",
       "      <td>U.S. military to accept transgender recruits o...</td>\n",
       "      <td>WASHINGTON (Reuters) - Transgender people will...</td>\n",
       "      <td>politicsNews</td>\n",
       "      <td>December 29, 2017</td>\n",
       "    </tr>\n",
       "    <tr>\n",
       "      <th>2</th>\n",
       "      <td>Senior U.S. Republican senator: 'Let Mr. Muell...</td>\n",
       "      <td>WASHINGTON (Reuters) - The special counsel inv...</td>\n",
       "      <td>politicsNews</td>\n",
       "      <td>December 31, 2017</td>\n",
       "    </tr>\n",
       "    <tr>\n",
       "      <th>3</th>\n",
       "      <td>FBI Russia probe helped by Australian diplomat...</td>\n",
       "      <td>WASHINGTON (Reuters) - Trump campaign adviser ...</td>\n",
       "      <td>politicsNews</td>\n",
       "      <td>December 30, 2017</td>\n",
       "    </tr>\n",
       "    <tr>\n",
       "      <th>4</th>\n",
       "      <td>Trump wants Postal Service to charge 'much mor...</td>\n",
       "      <td>SEATTLE/WASHINGTON (Reuters) - President Donal...</td>\n",
       "      <td>politicsNews</td>\n",
       "      <td>December 29, 2017</td>\n",
       "    </tr>\n",
       "  </tbody>\n",
       "</table>\n",
       "</div>"
      ],
      "text/plain": [
       "                                               title  \\\n",
       "0  As U.S. budget fight looms, Republicans flip t...   \n",
       "1  U.S. military to accept transgender recruits o...   \n",
       "2  Senior U.S. Republican senator: 'Let Mr. Muell...   \n",
       "3  FBI Russia probe helped by Australian diplomat...   \n",
       "4  Trump wants Postal Service to charge 'much mor...   \n",
       "\n",
       "                                                text       subject  \\\n",
       "0  WASHINGTON (Reuters) - The head of a conservat...  politicsNews   \n",
       "1  WASHINGTON (Reuters) - Transgender people will...  politicsNews   \n",
       "2  WASHINGTON (Reuters) - The special counsel inv...  politicsNews   \n",
       "3  WASHINGTON (Reuters) - Trump campaign adviser ...  politicsNews   \n",
       "4  SEATTLE/WASHINGTON (Reuters) - President Donal...  politicsNews   \n",
       "\n",
       "                 date  \n",
       "0  December 31, 2017   \n",
       "1  December 29, 2017   \n",
       "2  December 31, 2017   \n",
       "3  December 30, 2017   \n",
       "4  December 29, 2017   "
      ]
     },
     "execution_count": 18,
     "metadata": {},
     "output_type": "execute_result"
    }
   ],
   "source": [
    "isot_real.head()"
   ]
  },
  {
   "cell_type": "code",
   "execution_count": 19,
   "id": "b0a04970-7dfd-44c0-af67-55e44e79290b",
   "metadata": {},
   "outputs": [],
   "source": [
    "isot_real['label'] = 'real'\n",
    "isot_fake['label'] = 'fake'"
   ]
  },
  {
   "cell_type": "code",
   "execution_count": 22,
   "id": "896ea3ef-c45c-468d-911c-50643f2d3403",
   "metadata": {},
   "outputs": [],
   "source": [
    "isot = pd.concat([isot_real, isot_fake])"
   ]
  },
  {
   "cell_type": "code",
   "execution_count": 24,
   "id": "f7c64189-6985-444b-96cc-69c2db4d774e",
   "metadata": {},
   "outputs": [
    {
     "name": "stdout",
     "output_type": "stream",
     "text": [
      "21417 23481 44898\n"
     ]
    }
   ],
   "source": [
    "print(len(isot_real), len(isot_fake), len(isot))"
   ]
  },
  {
   "cell_type": "markdown",
   "id": "89055ddf-3653-4573-93ed-77f4d1c7ce56",
   "metadata": {},
   "source": [
    "## 35 - Jruvika-Fake-News-Detection"
   ]
  },
  {
   "cell_type": "code",
   "execution_count": 26,
   "id": "d2d2c79f-b963-4d01-8f8a-b16c79b303ec",
   "metadata": {},
   "outputs": [],
   "source": [
    "jru_dataset = pd.read_csv('datasets/text datasets/Jruvika-Fake-News-Detection/data.csv')"
   ]
  },
  {
   "cell_type": "code",
   "execution_count": 28,
   "id": "309a9726-a2a8-4f97-be84-191dd0d2ab9b",
   "metadata": {},
   "outputs": [
    {
     "data": {
      "text/html": [
       "<div>\n",
       "<style scoped>\n",
       "    .dataframe tbody tr th:only-of-type {\n",
       "        vertical-align: middle;\n",
       "    }\n",
       "\n",
       "    .dataframe tbody tr th {\n",
       "        vertical-align: top;\n",
       "    }\n",
       "\n",
       "    .dataframe thead th {\n",
       "        text-align: right;\n",
       "    }\n",
       "</style>\n",
       "<table border=\"1\" class=\"dataframe\">\n",
       "  <thead>\n",
       "    <tr style=\"text-align: right;\">\n",
       "      <th></th>\n",
       "      <th>URLs</th>\n",
       "      <th>Headline</th>\n",
       "      <th>Body</th>\n",
       "      <th>Label</th>\n",
       "    </tr>\n",
       "  </thead>\n",
       "  <tbody>\n",
       "    <tr>\n",
       "      <th>0</th>\n",
       "      <td>http://www.bbc.com/news/world-us-canada-414191...</td>\n",
       "      <td>Four ways Bob Corker skewered Donald Trump</td>\n",
       "      <td>Image copyright Getty Images\\nOn Sunday mornin...</td>\n",
       "      <td>1</td>\n",
       "    </tr>\n",
       "    <tr>\n",
       "      <th>1</th>\n",
       "      <td>https://www.reuters.com/article/us-filmfestiva...</td>\n",
       "      <td>Linklater's war veteran comedy speaks to moder...</td>\n",
       "      <td>LONDON (Reuters) - “Last Flag Flying”, a comed...</td>\n",
       "      <td>1</td>\n",
       "    </tr>\n",
       "    <tr>\n",
       "      <th>2</th>\n",
       "      <td>https://www.nytimes.com/2017/10/09/us/politics...</td>\n",
       "      <td>Trump’s Fight With Corker Jeopardizes His Legi...</td>\n",
       "      <td>The feud broke into public view last week when...</td>\n",
       "      <td>1</td>\n",
       "    </tr>\n",
       "    <tr>\n",
       "      <th>3</th>\n",
       "      <td>https://www.reuters.com/article/us-mexico-oil-...</td>\n",
       "      <td>Egypt's Cheiron wins tie-up with Pemex for Mex...</td>\n",
       "      <td>MEXICO CITY (Reuters) - Egypt’s Cheiron Holdin...</td>\n",
       "      <td>1</td>\n",
       "    </tr>\n",
       "    <tr>\n",
       "      <th>4</th>\n",
       "      <td>http://www.cnn.com/videos/cnnmoney/2017/10/08/...</td>\n",
       "      <td>Jason Aldean opens 'SNL' with Vegas tribute</td>\n",
       "      <td>Country singer Jason Aldean, who was performin...</td>\n",
       "      <td>1</td>\n",
       "    </tr>\n",
       "  </tbody>\n",
       "</table>\n",
       "</div>"
      ],
      "text/plain": [
       "                                                URLs  \\\n",
       "0  http://www.bbc.com/news/world-us-canada-414191...   \n",
       "1  https://www.reuters.com/article/us-filmfestiva...   \n",
       "2  https://www.nytimes.com/2017/10/09/us/politics...   \n",
       "3  https://www.reuters.com/article/us-mexico-oil-...   \n",
       "4  http://www.cnn.com/videos/cnnmoney/2017/10/08/...   \n",
       "\n",
       "                                            Headline  \\\n",
       "0         Four ways Bob Corker skewered Donald Trump   \n",
       "1  Linklater's war veteran comedy speaks to moder...   \n",
       "2  Trump’s Fight With Corker Jeopardizes His Legi...   \n",
       "3  Egypt's Cheiron wins tie-up with Pemex for Mex...   \n",
       "4        Jason Aldean opens 'SNL' with Vegas tribute   \n",
       "\n",
       "                                                Body  Label  \n",
       "0  Image copyright Getty Images\\nOn Sunday mornin...      1  \n",
       "1  LONDON (Reuters) - “Last Flag Flying”, a comed...      1  \n",
       "2  The feud broke into public view last week when...      1  \n",
       "3  MEXICO CITY (Reuters) - Egypt’s Cheiron Holdin...      1  \n",
       "4  Country singer Jason Aldean, who was performin...      1  "
      ]
     },
     "execution_count": 28,
     "metadata": {},
     "output_type": "execute_result"
    }
   ],
   "source": [
    "jru_dataset.head()"
   ]
  },
  {
   "cell_type": "code",
   "execution_count": 29,
   "id": "38a94d10-75d1-48f6-9651-b02a1adf33c5",
   "metadata": {},
   "outputs": [
    {
     "data": {
      "text/plain": [
       "Label\n",
       "0    2137\n",
       "1    1872\n",
       "Name: count, dtype: int64"
      ]
     },
     "execution_count": 29,
     "metadata": {},
     "output_type": "execute_result"
    }
   ],
   "source": [
    "jru_dataset.Label.value_counts()"
   ]
  },
  {
   "cell_type": "markdown",
   "id": "4906d513-ee09-4d45-89fa-60800f199a30",
   "metadata": {},
   "source": [
    "## 36- Kaggle-Fake-and-Real-News"
   ]
  },
  {
   "cell_type": "code",
   "execution_count": 30,
   "id": "6f41c64e-1743-4d82-bee2-e467f6234c58",
   "metadata": {},
   "outputs": [],
   "source": [
    "k_fake_real_news = pd.read_csv('datasets/text datasets/Kaggle-Fake-and-Real-News/Fake.csv')"
   ]
  },
  {
   "cell_type": "code",
   "execution_count": 32,
   "id": "0b5192f5-a7de-46d1-9c20-4336a4a0a9de",
   "metadata": {},
   "outputs": [
    {
     "data": {
      "text/html": [
       "<div>\n",
       "<style scoped>\n",
       "    .dataframe tbody tr th:only-of-type {\n",
       "        vertical-align: middle;\n",
       "    }\n",
       "\n",
       "    .dataframe tbody tr th {\n",
       "        vertical-align: top;\n",
       "    }\n",
       "\n",
       "    .dataframe thead th {\n",
       "        text-align: right;\n",
       "    }\n",
       "</style>\n",
       "<table border=\"1\" class=\"dataframe\">\n",
       "  <thead>\n",
       "    <tr style=\"text-align: right;\">\n",
       "      <th></th>\n",
       "      <th>title</th>\n",
       "      <th>text</th>\n",
       "      <th>subject</th>\n",
       "      <th>date</th>\n",
       "    </tr>\n",
       "  </thead>\n",
       "  <tbody>\n",
       "    <tr>\n",
       "      <th>0</th>\n",
       "      <td>Donald Trump Sends Out Embarrassing New Year’...</td>\n",
       "      <td>Donald Trump just couldn t wish all Americans ...</td>\n",
       "      <td>News</td>\n",
       "      <td>December 31, 2017</td>\n",
       "    </tr>\n",
       "    <tr>\n",
       "      <th>1</th>\n",
       "      <td>Drunk Bragging Trump Staffer Started Russian ...</td>\n",
       "      <td>House Intelligence Committee Chairman Devin Nu...</td>\n",
       "      <td>News</td>\n",
       "      <td>December 31, 2017</td>\n",
       "    </tr>\n",
       "    <tr>\n",
       "      <th>2</th>\n",
       "      <td>Sheriff David Clarke Becomes An Internet Joke...</td>\n",
       "      <td>On Friday, it was revealed that former Milwauk...</td>\n",
       "      <td>News</td>\n",
       "      <td>December 30, 2017</td>\n",
       "    </tr>\n",
       "    <tr>\n",
       "      <th>3</th>\n",
       "      <td>Trump Is So Obsessed He Even Has Obama’s Name...</td>\n",
       "      <td>On Christmas day, Donald Trump announced that ...</td>\n",
       "      <td>News</td>\n",
       "      <td>December 29, 2017</td>\n",
       "    </tr>\n",
       "    <tr>\n",
       "      <th>4</th>\n",
       "      <td>Pope Francis Just Called Out Donald Trump Dur...</td>\n",
       "      <td>Pope Francis used his annual Christmas Day mes...</td>\n",
       "      <td>News</td>\n",
       "      <td>December 25, 2017</td>\n",
       "    </tr>\n",
       "  </tbody>\n",
       "</table>\n",
       "</div>"
      ],
      "text/plain": [
       "                                               title  \\\n",
       "0   Donald Trump Sends Out Embarrassing New Year’...   \n",
       "1   Drunk Bragging Trump Staffer Started Russian ...   \n",
       "2   Sheriff David Clarke Becomes An Internet Joke...   \n",
       "3   Trump Is So Obsessed He Even Has Obama’s Name...   \n",
       "4   Pope Francis Just Called Out Donald Trump Dur...   \n",
       "\n",
       "                                                text subject  \\\n",
       "0  Donald Trump just couldn t wish all Americans ...    News   \n",
       "1  House Intelligence Committee Chairman Devin Nu...    News   \n",
       "2  On Friday, it was revealed that former Milwauk...    News   \n",
       "3  On Christmas day, Donald Trump announced that ...    News   \n",
       "4  Pope Francis used his annual Christmas Day mes...    News   \n",
       "\n",
       "                date  \n",
       "0  December 31, 2017  \n",
       "1  December 31, 2017  \n",
       "2  December 30, 2017  \n",
       "3  December 29, 2017  \n",
       "4  December 25, 2017  "
      ]
     },
     "execution_count": 32,
     "metadata": {},
     "output_type": "execute_result"
    }
   ],
   "source": [
    "k_fake_real_news.head()"
   ]
  },
  {
   "cell_type": "markdown",
   "id": "512be01a-0b70-4bdd-97e3-09427ce5965d",
   "metadata": {},
   "source": [
    "## 37- Kaggle-Fake-News"
   ]
  },
  {
   "cell_type": "code",
   "execution_count": 33,
   "id": "11991c1f-2cfa-4804-9627-68fe19bd3d82",
   "metadata": {},
   "outputs": [],
   "source": [
    "kfn = pd.read_csv('datasets/text datasets/Kaggle-Fake-News/train.csv/train.csv')"
   ]
  },
  {
   "cell_type": "code",
   "execution_count": 34,
   "id": "869f110c-8267-4f6e-b872-816500e09179",
   "metadata": {},
   "outputs": [
    {
     "data": {
      "text/html": [
       "<div>\n",
       "<style scoped>\n",
       "    .dataframe tbody tr th:only-of-type {\n",
       "        vertical-align: middle;\n",
       "    }\n",
       "\n",
       "    .dataframe tbody tr th {\n",
       "        vertical-align: top;\n",
       "    }\n",
       "\n",
       "    .dataframe thead th {\n",
       "        text-align: right;\n",
       "    }\n",
       "</style>\n",
       "<table border=\"1\" class=\"dataframe\">\n",
       "  <thead>\n",
       "    <tr style=\"text-align: right;\">\n",
       "      <th></th>\n",
       "      <th>id</th>\n",
       "      <th>title</th>\n",
       "      <th>author</th>\n",
       "      <th>text</th>\n",
       "      <th>label</th>\n",
       "    </tr>\n",
       "  </thead>\n",
       "  <tbody>\n",
       "    <tr>\n",
       "      <th>0</th>\n",
       "      <td>0</td>\n",
       "      <td>House Dem Aide: We Didn’t Even See Comey’s Let...</td>\n",
       "      <td>Darrell Lucus</td>\n",
       "      <td>House Dem Aide: We Didn’t Even See Comey’s Let...</td>\n",
       "      <td>1</td>\n",
       "    </tr>\n",
       "    <tr>\n",
       "      <th>1</th>\n",
       "      <td>1</td>\n",
       "      <td>FLYNN: Hillary Clinton, Big Woman on Campus - ...</td>\n",
       "      <td>Daniel J. Flynn</td>\n",
       "      <td>Ever get the feeling your life circles the rou...</td>\n",
       "      <td>0</td>\n",
       "    </tr>\n",
       "    <tr>\n",
       "      <th>2</th>\n",
       "      <td>2</td>\n",
       "      <td>Why the Truth Might Get You Fired</td>\n",
       "      <td>Consortiumnews.com</td>\n",
       "      <td>Why the Truth Might Get You Fired October 29, ...</td>\n",
       "      <td>1</td>\n",
       "    </tr>\n",
       "    <tr>\n",
       "      <th>3</th>\n",
       "      <td>3</td>\n",
       "      <td>15 Civilians Killed In Single US Airstrike Hav...</td>\n",
       "      <td>Jessica Purkiss</td>\n",
       "      <td>Videos 15 Civilians Killed In Single US Airstr...</td>\n",
       "      <td>1</td>\n",
       "    </tr>\n",
       "    <tr>\n",
       "      <th>4</th>\n",
       "      <td>4</td>\n",
       "      <td>Iranian woman jailed for fictional unpublished...</td>\n",
       "      <td>Howard Portnoy</td>\n",
       "      <td>Print \\nAn Iranian woman has been sentenced to...</td>\n",
       "      <td>1</td>\n",
       "    </tr>\n",
       "  </tbody>\n",
       "</table>\n",
       "</div>"
      ],
      "text/plain": [
       "   id                                              title              author  \\\n",
       "0   0  House Dem Aide: We Didn’t Even See Comey’s Let...       Darrell Lucus   \n",
       "1   1  FLYNN: Hillary Clinton, Big Woman on Campus - ...     Daniel J. Flynn   \n",
       "2   2                  Why the Truth Might Get You Fired  Consortiumnews.com   \n",
       "3   3  15 Civilians Killed In Single US Airstrike Hav...     Jessica Purkiss   \n",
       "4   4  Iranian woman jailed for fictional unpublished...      Howard Portnoy   \n",
       "\n",
       "                                                text  label  \n",
       "0  House Dem Aide: We Didn’t Even See Comey’s Let...      1  \n",
       "1  Ever get the feeling your life circles the rou...      0  \n",
       "2  Why the Truth Might Get You Fired October 29, ...      1  \n",
       "3  Videos 15 Civilians Killed In Single US Airstr...      1  \n",
       "4  Print \\nAn Iranian woman has been sentenced to...      1  "
      ]
     },
     "execution_count": 34,
     "metadata": {},
     "output_type": "execute_result"
    }
   ],
   "source": [
    "kfn.head()"
   ]
  },
  {
   "cell_type": "code",
   "execution_count": 35,
   "id": "452658e0-481f-45d2-81ab-539b38ddbb3e",
   "metadata": {},
   "outputs": [
    {
     "data": {
      "text/plain": [
       "label\n",
       "1    10413\n",
       "0    10387\n",
       "Name: count, dtype: int64"
      ]
     },
     "execution_count": 35,
     "metadata": {},
     "output_type": "execute_result"
    }
   ],
   "source": [
    "kfn.label.value_counts()"
   ]
  },
  {
   "cell_type": "markdown",
   "id": "f475e686-e2d8-489f-80fa-316184fc65ea",
   "metadata": {},
   "source": [
    "## 38- Kaggle-Fake-News-Sample"
   ]
  },
  {
   "cell_type": "code",
   "execution_count": 38,
   "id": "aadba337-4a94-4db3-bdf4-e6465716ed6c",
   "metadata": {},
   "outputs": [
    {
     "name": "stderr",
     "output_type": "stream",
     "text": [
      "/tmp/ipykernel_393166/3641884761.py:1: DtypeWarning: Columns (1,16) have mixed types. Specify dtype option on import or set low_memory=False.\n",
      "  kfn_sample = pd.read_csv('datasets/text datasets/Kaggle-Fake-News-Sample/resized_v2.csv', index_col = 'Unnamed: 0')\n"
     ]
    }
   ],
   "source": [
    "kfn_sample = pd.read_csv('datasets/text datasets/Kaggle-Fake-News-Sample/resized_v2.csv', index_col = 'Unnamed: 0')"
   ]
  },
  {
   "cell_type": "code",
   "execution_count": 39,
   "id": "0a444443-d20c-42f7-9aa2-2f32eb80ba3f",
   "metadata": {},
   "outputs": [
    {
     "data": {
      "text/html": [
       "<div>\n",
       "<style scoped>\n",
       "    .dataframe tbody tr th:only-of-type {\n",
       "        vertical-align: middle;\n",
       "    }\n",
       "\n",
       "    .dataframe tbody tr th {\n",
       "        vertical-align: top;\n",
       "    }\n",
       "\n",
       "    .dataframe thead th {\n",
       "        text-align: right;\n",
       "    }\n",
       "</style>\n",
       "<table border=\"1\" class=\"dataframe\">\n",
       "  <thead>\n",
       "    <tr style=\"text-align: right;\">\n",
       "      <th></th>\n",
       "      <th>id</th>\n",
       "      <th>domain</th>\n",
       "      <th>type</th>\n",
       "      <th>url</th>\n",
       "      <th>content</th>\n",
       "      <th>scraped_at</th>\n",
       "      <th>inserted_at</th>\n",
       "      <th>updated_at</th>\n",
       "      <th>title</th>\n",
       "      <th>authors</th>\n",
       "      <th>keywords</th>\n",
       "      <th>meta_keywords</th>\n",
       "      <th>meta_description</th>\n",
       "      <th>tags</th>\n",
       "      <th>summary</th>\n",
       "      <th>source</th>\n",
       "    </tr>\n",
       "  </thead>\n",
       "  <tbody>\n",
       "    <tr>\n",
       "      <th>0</th>\n",
       "      <td>21</td>\n",
       "      <td>bipartisanreport.com</td>\n",
       "      <td>clickbait</td>\n",
       "      <td>http://bipartisanreport.com/cdn-cgi/l/email-pr...</td>\n",
       "      <td>The website from which you got to this page is...</td>\n",
       "      <td>2018-01-25 16:17:44.789555</td>\n",
       "      <td>2018-02-02 01:19:41.756632</td>\n",
       "      <td>2018-02-02 01:19:41.756664</td>\n",
       "      <td>Email Protection</td>\n",
       "      <td>NaN</td>\n",
       "      <td>NaN</td>\n",
       "      <td>['']</td>\n",
       "      <td>NaN</td>\n",
       "      <td>NaN</td>\n",
       "      <td>NaN</td>\n",
       "      <td>NaN</td>\n",
       "    </tr>\n",
       "    <tr>\n",
       "      <th>1</th>\n",
       "      <td>22</td>\n",
       "      <td>theshovel.com.au</td>\n",
       "      <td>satire</td>\n",
       "      <td>http://www.theshovel.com.au/tag/malcolm-turnbu...</td>\n",
       "      <td>For as long as he can remember, Malcolm Turnbu...</td>\n",
       "      <td>2018-01-25 16:17:44.789555</td>\n",
       "      <td>2018-02-02 01:19:41.756632</td>\n",
       "      <td>2018-02-02 01:19:41.756664</td>\n",
       "      <td>malcolm turnbull satire – The Shovel</td>\n",
       "      <td>The Shovel</td>\n",
       "      <td>NaN</td>\n",
       "      <td>['']</td>\n",
       "      <td>NaN</td>\n",
       "      <td>3, 2</td>\n",
       "      <td>NaN</td>\n",
       "      <td>NaN</td>\n",
       "    </tr>\n",
       "    <tr>\n",
       "      <th>2</th>\n",
       "      <td>54</td>\n",
       "      <td>blackagendareport.com</td>\n",
       "      <td>unreliable</td>\n",
       "      <td>https://blackagendareport.com/what-western-imp...</td>\n",
       "      <td>What Western Imperialism Is Up to Now in Zimba...</td>\n",
       "      <td>2018-01-25 16:17:44.789555</td>\n",
       "      <td>2018-02-02 01:19:41.756632</td>\n",
       "      <td>2018-02-02 01:19:41.756664</td>\n",
       "      <td>What Western Imperialism Is Up to Now in Zimbabwe</td>\n",
       "      <td>Bruce A. Dixon, Bar Managing Editor, Glen Ford...</td>\n",
       "      <td>NaN</td>\n",
       "      <td>['']</td>\n",
       "      <td>“The capitalist agenda is to neo-colonize Zimb...</td>\n",
       "      <td>NaN</td>\n",
       "      <td>NaN</td>\n",
       "      <td>NaN</td>\n",
       "    </tr>\n",
       "    <tr>\n",
       "      <th>3</th>\n",
       "      <td>61</td>\n",
       "      <td>barenakedislam.com</td>\n",
       "      <td>hate</td>\n",
       "      <td>http://barenakedislam.com/2018/01/08/wow-irani...</td>\n",
       "      <td>We appreciate your help! Click here to donate\\...</td>\n",
       "      <td>2018-01-25 16:17:44.789555</td>\n",
       "      <td>2018-02-02 01:19:41.756632</td>\n",
       "      <td>2018-02-02 01:19:41.756664</td>\n",
       "      <td>WOW! Iranian-Canadian protesters love Donald T...</td>\n",
       "      <td>Cleavis Nowell, Don Spilman, Rick Oneil, Linda...</td>\n",
       "      <td>NaN</td>\n",
       "      <td>['']</td>\n",
       "      <td>NaN</td>\n",
       "      <td>NaN</td>\n",
       "      <td>NaN</td>\n",
       "      <td>NaN</td>\n",
       "    </tr>\n",
       "    <tr>\n",
       "      <th>4</th>\n",
       "      <td>64</td>\n",
       "      <td>blackagendareport.com</td>\n",
       "      <td>unreliable</td>\n",
       "      <td>https://blackagendareport.com/articlelist/afri...</td>\n",
       "      <td>“The massacre of the mine workers in August of...</td>\n",
       "      <td>2018-01-25 16:17:44.789555</td>\n",
       "      <td>2018-02-02 01:19:41.756632</td>\n",
       "      <td>2018-02-02 01:19:41.756664</td>\n",
       "      <td>Black Agenda Report</td>\n",
       "      <td>Ann Garrison, Bar Contributor, Boniface Musavu...</td>\n",
       "      <td>NaN</td>\n",
       "      <td>['']</td>\n",
       "      <td>NaN</td>\n",
       "      <td>NaN</td>\n",
       "      <td>NaN</td>\n",
       "      <td>NaN</td>\n",
       "    </tr>\n",
       "  </tbody>\n",
       "</table>\n",
       "</div>"
      ],
      "text/plain": [
       "   id                 domain        type  \\\n",
       "0  21   bipartisanreport.com   clickbait   \n",
       "1  22       theshovel.com.au      satire   \n",
       "2  54  blackagendareport.com  unreliable   \n",
       "3  61     barenakedislam.com        hate   \n",
       "4  64  blackagendareport.com  unreliable   \n",
       "\n",
       "                                                 url  \\\n",
       "0  http://bipartisanreport.com/cdn-cgi/l/email-pr...   \n",
       "1  http://www.theshovel.com.au/tag/malcolm-turnbu...   \n",
       "2  https://blackagendareport.com/what-western-imp...   \n",
       "3  http://barenakedislam.com/2018/01/08/wow-irani...   \n",
       "4  https://blackagendareport.com/articlelist/afri...   \n",
       "\n",
       "                                             content  \\\n",
       "0  The website from which you got to this page is...   \n",
       "1  For as long as he can remember, Malcolm Turnbu...   \n",
       "2  What Western Imperialism Is Up to Now in Zimba...   \n",
       "3  We appreciate your help! Click here to donate\\...   \n",
       "4  “The massacre of the mine workers in August of...   \n",
       "\n",
       "                   scraped_at                 inserted_at  \\\n",
       "0  2018-01-25 16:17:44.789555  2018-02-02 01:19:41.756632   \n",
       "1  2018-01-25 16:17:44.789555  2018-02-02 01:19:41.756632   \n",
       "2  2018-01-25 16:17:44.789555  2018-02-02 01:19:41.756632   \n",
       "3  2018-01-25 16:17:44.789555  2018-02-02 01:19:41.756632   \n",
       "4  2018-01-25 16:17:44.789555  2018-02-02 01:19:41.756632   \n",
       "\n",
       "                   updated_at  \\\n",
       "0  2018-02-02 01:19:41.756664   \n",
       "1  2018-02-02 01:19:41.756664   \n",
       "2  2018-02-02 01:19:41.756664   \n",
       "3  2018-02-02 01:19:41.756664   \n",
       "4  2018-02-02 01:19:41.756664   \n",
       "\n",
       "                                               title  \\\n",
       "0                                   Email Protection   \n",
       "1               malcolm turnbull satire – The Shovel   \n",
       "2  What Western Imperialism Is Up to Now in Zimbabwe   \n",
       "3  WOW! Iranian-Canadian protesters love Donald T...   \n",
       "4                                Black Agenda Report   \n",
       "\n",
       "                                             authors  keywords meta_keywords  \\\n",
       "0                                                NaN       NaN          ['']   \n",
       "1                                         The Shovel       NaN          ['']   \n",
       "2  Bruce A. Dixon, Bar Managing Editor, Glen Ford...       NaN          ['']   \n",
       "3  Cleavis Nowell, Don Spilman, Rick Oneil, Linda...       NaN          ['']   \n",
       "4  Ann Garrison, Bar Contributor, Boniface Musavu...       NaN          ['']   \n",
       "\n",
       "                                    meta_description  tags  summary source  \n",
       "0                                                NaN   NaN      NaN    NaN  \n",
       "1                                                NaN  3, 2      NaN    NaN  \n",
       "2  “The capitalist agenda is to neo-colonize Zimb...   NaN      NaN    NaN  \n",
       "3                                                NaN   NaN      NaN    NaN  \n",
       "4                                                NaN   NaN      NaN    NaN  "
      ]
     },
     "execution_count": 39,
     "metadata": {},
     "output_type": "execute_result"
    }
   ],
   "source": [
    "kfn_sample.head()"
   ]
  },
  {
   "cell_type": "code",
   "execution_count": 40,
   "id": "48c3dc2a-d25c-4826-9dd6-5105acc810be",
   "metadata": {},
   "outputs": [
    {
     "data": {
      "text/plain": [
       "type\n",
       "reliable                      96024\n",
       "political                     82976\n",
       "bias                          56914\n",
       "fake                          44460\n",
       "conspiracy                    41640\n",
       "rumor                         24103\n",
       "unknown                       18343\n",
       "unreliable                    14828\n",
       "clickbait                     11572\n",
       "junksci                        5990\n",
       "satire                         5732\n",
       "hate                           3817\n",
       "2018-02-10 13:43:39.521661        1\n",
       "Name: count, dtype: int64"
      ]
     },
     "execution_count": 40,
     "metadata": {},
     "output_type": "execute_result"
    }
   ],
   "source": [
    "kfn_sample.type.value_counts()"
   ]
  },
  {
   "cell_type": "markdown",
   "id": "041a0b9e-3b92-4a72-9a80-0de207f8ac7a",
   "metadata": {},
   "source": [
    "## 39- Kaggle-Fake-or-Real-News"
   ]
  },
  {
   "cell_type": "code",
   "execution_count": 43,
   "id": "a19f2cf9-24ea-4099-a0aa-f410321a125f",
   "metadata": {},
   "outputs": [],
   "source": [
    "kforR = pd.read_csv('datasets/text datasets/Kaggle-Fake-or-Real-News/fake_or_real_news.csv', index_col = 'Unnamed: 0')"
   ]
  },
  {
   "cell_type": "code",
   "execution_count": 44,
   "id": "bdbc8deb-e780-4fbf-889c-9f81965167ba",
   "metadata": {},
   "outputs": [
    {
     "data": {
      "text/html": [
       "<div>\n",
       "<style scoped>\n",
       "    .dataframe tbody tr th:only-of-type {\n",
       "        vertical-align: middle;\n",
       "    }\n",
       "\n",
       "    .dataframe tbody tr th {\n",
       "        vertical-align: top;\n",
       "    }\n",
       "\n",
       "    .dataframe thead th {\n",
       "        text-align: right;\n",
       "    }\n",
       "</style>\n",
       "<table border=\"1\" class=\"dataframe\">\n",
       "  <thead>\n",
       "    <tr style=\"text-align: right;\">\n",
       "      <th></th>\n",
       "      <th>title</th>\n",
       "      <th>text</th>\n",
       "      <th>label</th>\n",
       "    </tr>\n",
       "  </thead>\n",
       "  <tbody>\n",
       "    <tr>\n",
       "      <th>8476</th>\n",
       "      <td>You Can Smell Hillary’s Fear</td>\n",
       "      <td>Daniel Greenfield, a Shillman Journalism Fello...</td>\n",
       "      <td>FAKE</td>\n",
       "    </tr>\n",
       "    <tr>\n",
       "      <th>10294</th>\n",
       "      <td>Watch The Exact Moment Paul Ryan Committed Pol...</td>\n",
       "      <td>Google Pinterest Digg Linkedin Reddit Stumbleu...</td>\n",
       "      <td>FAKE</td>\n",
       "    </tr>\n",
       "    <tr>\n",
       "      <th>3608</th>\n",
       "      <td>Kerry to go to Paris in gesture of sympathy</td>\n",
       "      <td>U.S. Secretary of State John F. Kerry said Mon...</td>\n",
       "      <td>REAL</td>\n",
       "    </tr>\n",
       "    <tr>\n",
       "      <th>10142</th>\n",
       "      <td>Bernie supporters on Twitter erupt in anger ag...</td>\n",
       "      <td>— Kaydee King (@KaydeeKing) November 9, 2016 T...</td>\n",
       "      <td>FAKE</td>\n",
       "    </tr>\n",
       "    <tr>\n",
       "      <th>875</th>\n",
       "      <td>The Battle of New York: Why This Primary Matters</td>\n",
       "      <td>It's primary day in New York and front-runners...</td>\n",
       "      <td>REAL</td>\n",
       "    </tr>\n",
       "  </tbody>\n",
       "</table>\n",
       "</div>"
      ],
      "text/plain": [
       "                                                   title  \\\n",
       "8476                        You Can Smell Hillary’s Fear   \n",
       "10294  Watch The Exact Moment Paul Ryan Committed Pol...   \n",
       "3608         Kerry to go to Paris in gesture of sympathy   \n",
       "10142  Bernie supporters on Twitter erupt in anger ag...   \n",
       "875     The Battle of New York: Why This Primary Matters   \n",
       "\n",
       "                                                    text label  \n",
       "8476   Daniel Greenfield, a Shillman Journalism Fello...  FAKE  \n",
       "10294  Google Pinterest Digg Linkedin Reddit Stumbleu...  FAKE  \n",
       "3608   U.S. Secretary of State John F. Kerry said Mon...  REAL  \n",
       "10142  — Kaydee King (@KaydeeKing) November 9, 2016 T...  FAKE  \n",
       "875    It's primary day in New York and front-runners...  REAL  "
      ]
     },
     "execution_count": 44,
     "metadata": {},
     "output_type": "execute_result"
    }
   ],
   "source": [
    "kforR.head()"
   ]
  },
  {
   "cell_type": "code",
   "execution_count": 45,
   "id": "f8bd68a3-02c1-41cf-8f75-c1c2ec122eea",
   "metadata": {},
   "outputs": [
    {
     "data": {
      "text/plain": [
       "label\n",
       "REAL    3171\n",
       "FAKE    3164\n",
       "Name: count, dtype: int64"
      ]
     },
     "execution_count": 45,
     "metadata": {},
     "output_type": "execute_result"
    }
   ],
   "source": [
    "kforR.label.value_counts()"
   ]
  },
  {
   "cell_type": "markdown",
   "id": "4a109066-584d-4f30-a5b0-0ae9a316ef51",
   "metadata": {},
   "source": [
    "## 40- Kaggle-Getting-Real-about-Fake-news"
   ]
  },
  {
   "cell_type": "code",
   "execution_count": 46,
   "id": "f2cbc5e1-324d-4f70-a95b-bbfc547808fc",
   "metadata": {},
   "outputs": [],
   "source": [
    "kgetting = pd.read_csv('datasets/text datasets/Kaggle-Getting-Real-about-Fake-news/fake.csv')"
   ]
  },
  {
   "cell_type": "code",
   "execution_count": 47,
   "id": "fbec6304-e20c-4baa-ba3e-ebbed60b9f7d",
   "metadata": {},
   "outputs": [
    {
     "data": {
      "text/html": [
       "<div>\n",
       "<style scoped>\n",
       "    .dataframe tbody tr th:only-of-type {\n",
       "        vertical-align: middle;\n",
       "    }\n",
       "\n",
       "    .dataframe tbody tr th {\n",
       "        vertical-align: top;\n",
       "    }\n",
       "\n",
       "    .dataframe thead th {\n",
       "        text-align: right;\n",
       "    }\n",
       "</style>\n",
       "<table border=\"1\" class=\"dataframe\">\n",
       "  <thead>\n",
       "    <tr style=\"text-align: right;\">\n",
       "      <th></th>\n",
       "      <th>uuid</th>\n",
       "      <th>ord_in_thread</th>\n",
       "      <th>author</th>\n",
       "      <th>published</th>\n",
       "      <th>title</th>\n",
       "      <th>text</th>\n",
       "      <th>language</th>\n",
       "      <th>crawled</th>\n",
       "      <th>site_url</th>\n",
       "      <th>country</th>\n",
       "      <th>domain_rank</th>\n",
       "      <th>thread_title</th>\n",
       "      <th>spam_score</th>\n",
       "      <th>main_img_url</th>\n",
       "      <th>replies_count</th>\n",
       "      <th>participants_count</th>\n",
       "      <th>likes</th>\n",
       "      <th>comments</th>\n",
       "      <th>shares</th>\n",
       "      <th>type</th>\n",
       "    </tr>\n",
       "  </thead>\n",
       "  <tbody>\n",
       "    <tr>\n",
       "      <th>0</th>\n",
       "      <td>6a175f46bcd24d39b3e962ad0f29936721db70db</td>\n",
       "      <td>0</td>\n",
       "      <td>Barracuda Brigade</td>\n",
       "      <td>2016-10-26T21:41:00.000+03:00</td>\n",
       "      <td>Muslims BUSTED: They Stole Millions In Gov’t B...</td>\n",
       "      <td>Print They should pay all the back all the mon...</td>\n",
       "      <td>english</td>\n",
       "      <td>2016-10-27T01:49:27.168+03:00</td>\n",
       "      <td>100percentfedup.com</td>\n",
       "      <td>US</td>\n",
       "      <td>25689.0</td>\n",
       "      <td>Muslims BUSTED: They Stole Millions In Gov’t B...</td>\n",
       "      <td>0.000</td>\n",
       "      <td>http://bb4sp.com/wp-content/uploads/2016/10/Fu...</td>\n",
       "      <td>0</td>\n",
       "      <td>1</td>\n",
       "      <td>0</td>\n",
       "      <td>0</td>\n",
       "      <td>0</td>\n",
       "      <td>bias</td>\n",
       "    </tr>\n",
       "    <tr>\n",
       "      <th>1</th>\n",
       "      <td>2bdc29d12605ef9cf3f09f9875040a7113be5d5b</td>\n",
       "      <td>0</td>\n",
       "      <td>reasoning with facts</td>\n",
       "      <td>2016-10-29T08:47:11.259+03:00</td>\n",
       "      <td>Re: Why Did Attorney General Loretta Lynch Ple...</td>\n",
       "      <td>Why Did Attorney General Loretta Lynch Plead T...</td>\n",
       "      <td>english</td>\n",
       "      <td>2016-10-29T08:47:11.259+03:00</td>\n",
       "      <td>100percentfedup.com</td>\n",
       "      <td>US</td>\n",
       "      <td>25689.0</td>\n",
       "      <td>Re: Why Did Attorney General Loretta Lynch Ple...</td>\n",
       "      <td>0.000</td>\n",
       "      <td>http://bb4sp.com/wp-content/uploads/2016/10/Fu...</td>\n",
       "      <td>0</td>\n",
       "      <td>1</td>\n",
       "      <td>0</td>\n",
       "      <td>0</td>\n",
       "      <td>0</td>\n",
       "      <td>bias</td>\n",
       "    </tr>\n",
       "    <tr>\n",
       "      <th>2</th>\n",
       "      <td>c70e149fdd53de5e61c29281100b9de0ed268bc3</td>\n",
       "      <td>0</td>\n",
       "      <td>Barracuda Brigade</td>\n",
       "      <td>2016-10-31T01:41:49.479+02:00</td>\n",
       "      <td>BREAKING: Weiner Cooperating With FBI On Hilla...</td>\n",
       "      <td>Red State : \\nFox News Sunday reported this mo...</td>\n",
       "      <td>english</td>\n",
       "      <td>2016-10-31T01:41:49.479+02:00</td>\n",
       "      <td>100percentfedup.com</td>\n",
       "      <td>US</td>\n",
       "      <td>25689.0</td>\n",
       "      <td>BREAKING: Weiner Cooperating With FBI On Hilla...</td>\n",
       "      <td>0.000</td>\n",
       "      <td>http://bb4sp.com/wp-content/uploads/2016/10/Fu...</td>\n",
       "      <td>0</td>\n",
       "      <td>1</td>\n",
       "      <td>0</td>\n",
       "      <td>0</td>\n",
       "      <td>0</td>\n",
       "      <td>bias</td>\n",
       "    </tr>\n",
       "    <tr>\n",
       "      <th>3</th>\n",
       "      <td>7cf7c15731ac2a116dd7f629bd57ea468ed70284</td>\n",
       "      <td>0</td>\n",
       "      <td>Fed Up</td>\n",
       "      <td>2016-11-01T05:22:00.000+02:00</td>\n",
       "      <td>PIN DROP SPEECH BY FATHER OF DAUGHTER Kidnappe...</td>\n",
       "      <td>Email Kayla Mueller was a prisoner and torture...</td>\n",
       "      <td>english</td>\n",
       "      <td>2016-11-01T15:46:26.304+02:00</td>\n",
       "      <td>100percentfedup.com</td>\n",
       "      <td>US</td>\n",
       "      <td>25689.0</td>\n",
       "      <td>PIN DROP SPEECH BY FATHER OF DAUGHTER Kidnappe...</td>\n",
       "      <td>0.068</td>\n",
       "      <td>http://100percentfedup.com/wp-content/uploads/...</td>\n",
       "      <td>0</td>\n",
       "      <td>0</td>\n",
       "      <td>0</td>\n",
       "      <td>0</td>\n",
       "      <td>0</td>\n",
       "      <td>bias</td>\n",
       "    </tr>\n",
       "    <tr>\n",
       "      <th>4</th>\n",
       "      <td>0206b54719c7e241ffe0ad4315b808290dbe6c0f</td>\n",
       "      <td>0</td>\n",
       "      <td>Fed Up</td>\n",
       "      <td>2016-11-01T21:56:00.000+02:00</td>\n",
       "      <td>FANTASTIC! TRUMP'S 7 POINT PLAN To Reform Heal...</td>\n",
       "      <td>Email HEALTHCARE REFORM TO MAKE AMERICA GREAT ...</td>\n",
       "      <td>english</td>\n",
       "      <td>2016-11-01T23:59:42.266+02:00</td>\n",
       "      <td>100percentfedup.com</td>\n",
       "      <td>US</td>\n",
       "      <td>25689.0</td>\n",
       "      <td>FANTASTIC! TRUMP'S 7 POINT PLAN To Reform Heal...</td>\n",
       "      <td>0.865</td>\n",
       "      <td>http://100percentfedup.com/wp-content/uploads/...</td>\n",
       "      <td>0</td>\n",
       "      <td>0</td>\n",
       "      <td>0</td>\n",
       "      <td>0</td>\n",
       "      <td>0</td>\n",
       "      <td>bias</td>\n",
       "    </tr>\n",
       "  </tbody>\n",
       "</table>\n",
       "</div>"
      ],
      "text/plain": [
       "                                       uuid  ord_in_thread  \\\n",
       "0  6a175f46bcd24d39b3e962ad0f29936721db70db              0   \n",
       "1  2bdc29d12605ef9cf3f09f9875040a7113be5d5b              0   \n",
       "2  c70e149fdd53de5e61c29281100b9de0ed268bc3              0   \n",
       "3  7cf7c15731ac2a116dd7f629bd57ea468ed70284              0   \n",
       "4  0206b54719c7e241ffe0ad4315b808290dbe6c0f              0   \n",
       "\n",
       "                 author                      published  \\\n",
       "0     Barracuda Brigade  2016-10-26T21:41:00.000+03:00   \n",
       "1  reasoning with facts  2016-10-29T08:47:11.259+03:00   \n",
       "2     Barracuda Brigade  2016-10-31T01:41:49.479+02:00   \n",
       "3                Fed Up  2016-11-01T05:22:00.000+02:00   \n",
       "4                Fed Up  2016-11-01T21:56:00.000+02:00   \n",
       "\n",
       "                                               title  \\\n",
       "0  Muslims BUSTED: They Stole Millions In Gov’t B...   \n",
       "1  Re: Why Did Attorney General Loretta Lynch Ple...   \n",
       "2  BREAKING: Weiner Cooperating With FBI On Hilla...   \n",
       "3  PIN DROP SPEECH BY FATHER OF DAUGHTER Kidnappe...   \n",
       "4  FANTASTIC! TRUMP'S 7 POINT PLAN To Reform Heal...   \n",
       "\n",
       "                                                text language  \\\n",
       "0  Print They should pay all the back all the mon...  english   \n",
       "1  Why Did Attorney General Loretta Lynch Plead T...  english   \n",
       "2  Red State : \\nFox News Sunday reported this mo...  english   \n",
       "3  Email Kayla Mueller was a prisoner and torture...  english   \n",
       "4  Email HEALTHCARE REFORM TO MAKE AMERICA GREAT ...  english   \n",
       "\n",
       "                         crawled             site_url country  domain_rank  \\\n",
       "0  2016-10-27T01:49:27.168+03:00  100percentfedup.com      US      25689.0   \n",
       "1  2016-10-29T08:47:11.259+03:00  100percentfedup.com      US      25689.0   \n",
       "2  2016-10-31T01:41:49.479+02:00  100percentfedup.com      US      25689.0   \n",
       "3  2016-11-01T15:46:26.304+02:00  100percentfedup.com      US      25689.0   \n",
       "4  2016-11-01T23:59:42.266+02:00  100percentfedup.com      US      25689.0   \n",
       "\n",
       "                                        thread_title  spam_score  \\\n",
       "0  Muslims BUSTED: They Stole Millions In Gov’t B...       0.000   \n",
       "1  Re: Why Did Attorney General Loretta Lynch Ple...       0.000   \n",
       "2  BREAKING: Weiner Cooperating With FBI On Hilla...       0.000   \n",
       "3  PIN DROP SPEECH BY FATHER OF DAUGHTER Kidnappe...       0.068   \n",
       "4  FANTASTIC! TRUMP'S 7 POINT PLAN To Reform Heal...       0.865   \n",
       "\n",
       "                                        main_img_url  replies_count  \\\n",
       "0  http://bb4sp.com/wp-content/uploads/2016/10/Fu...              0   \n",
       "1  http://bb4sp.com/wp-content/uploads/2016/10/Fu...              0   \n",
       "2  http://bb4sp.com/wp-content/uploads/2016/10/Fu...              0   \n",
       "3  http://100percentfedup.com/wp-content/uploads/...              0   \n",
       "4  http://100percentfedup.com/wp-content/uploads/...              0   \n",
       "\n",
       "   participants_count  likes  comments  shares  type  \n",
       "0                   1      0         0       0  bias  \n",
       "1                   1      0         0       0  bias  \n",
       "2                   1      0         0       0  bias  \n",
       "3                   0      0         0       0  bias  \n",
       "4                   0      0         0       0  bias  "
      ]
     },
     "execution_count": 47,
     "metadata": {},
     "output_type": "execute_result"
    }
   ],
   "source": [
    "kgetting.head()"
   ]
  },
  {
   "cell_type": "code",
   "execution_count": 48,
   "id": "738fd5d9-ee44-4957-810a-727659902306",
   "metadata": {},
   "outputs": [
    {
     "data": {
      "text/plain": [
       "type\n",
       "bs            11492\n",
       "bias            443\n",
       "conspiracy      430\n",
       "hate            246\n",
       "satire          146\n",
       "state           121\n",
       "junksci         102\n",
       "fake             19\n",
       "Name: count, dtype: int64"
      ]
     },
     "execution_count": 48,
     "metadata": {},
     "output_type": "execute_result"
    }
   ],
   "source": [
    "kgetting.type.value_counts()"
   ]
  },
  {
   "cell_type": "markdown",
   "id": "0bffdffa-fce9-4531-b60f-ea4a7189b21e",
   "metadata": {},
   "source": [
    "## 41- LIAR"
   ]
  },
  {
   "cell_type": "code",
   "execution_count": 54,
   "id": "276ba742-426d-4f4b-9d52-fddc763f778d",
   "metadata": {},
   "outputs": [],
   "source": [
    "column_names = [\"file_name\", \"label\", \"title\", '1','2','3','4','5','6','7','8','9','10','11']\n",
    "liar = pd.read_csv('datasets/text datasets/LIAR/train.tsv', sep='\\t', header=None, names=column_names)"
   ]
  },
  {
   "cell_type": "code",
   "execution_count": 55,
   "id": "cc98cfaa-1b5c-4198-8fe0-5300b14ef913",
   "metadata": {},
   "outputs": [
    {
     "data": {
      "text/html": [
       "<div>\n",
       "<style scoped>\n",
       "    .dataframe tbody tr th:only-of-type {\n",
       "        vertical-align: middle;\n",
       "    }\n",
       "\n",
       "    .dataframe tbody tr th {\n",
       "        vertical-align: top;\n",
       "    }\n",
       "\n",
       "    .dataframe thead th {\n",
       "        text-align: right;\n",
       "    }\n",
       "</style>\n",
       "<table border=\"1\" class=\"dataframe\">\n",
       "  <thead>\n",
       "    <tr style=\"text-align: right;\">\n",
       "      <th></th>\n",
       "      <th>file_name</th>\n",
       "      <th>label</th>\n",
       "      <th>title</th>\n",
       "      <th>1</th>\n",
       "      <th>2</th>\n",
       "      <th>3</th>\n",
       "      <th>4</th>\n",
       "      <th>5</th>\n",
       "      <th>6</th>\n",
       "      <th>7</th>\n",
       "      <th>8</th>\n",
       "      <th>9</th>\n",
       "      <th>10</th>\n",
       "      <th>11</th>\n",
       "    </tr>\n",
       "  </thead>\n",
       "  <tbody>\n",
       "    <tr>\n",
       "      <th>0</th>\n",
       "      <td>2635.json</td>\n",
       "      <td>false</td>\n",
       "      <td>Says the Annies List political group supports ...</td>\n",
       "      <td>abortion</td>\n",
       "      <td>dwayne-bohac</td>\n",
       "      <td>State representative</td>\n",
       "      <td>Texas</td>\n",
       "      <td>republican</td>\n",
       "      <td>0.0</td>\n",
       "      <td>1.0</td>\n",
       "      <td>0.0</td>\n",
       "      <td>0.0</td>\n",
       "      <td>0.0</td>\n",
       "      <td>a mailer</td>\n",
       "    </tr>\n",
       "    <tr>\n",
       "      <th>1</th>\n",
       "      <td>10540.json</td>\n",
       "      <td>half-true</td>\n",
       "      <td>When did the decline of coal start? It started...</td>\n",
       "      <td>energy,history,job-accomplishments</td>\n",
       "      <td>scott-surovell</td>\n",
       "      <td>State delegate</td>\n",
       "      <td>Virginia</td>\n",
       "      <td>democrat</td>\n",
       "      <td>0.0</td>\n",
       "      <td>0.0</td>\n",
       "      <td>1.0</td>\n",
       "      <td>1.0</td>\n",
       "      <td>0.0</td>\n",
       "      <td>a floor speech.</td>\n",
       "    </tr>\n",
       "    <tr>\n",
       "      <th>2</th>\n",
       "      <td>324.json</td>\n",
       "      <td>mostly-true</td>\n",
       "      <td>Hillary Clinton agrees with John McCain \"by vo...</td>\n",
       "      <td>foreign-policy</td>\n",
       "      <td>barack-obama</td>\n",
       "      <td>President</td>\n",
       "      <td>Illinois</td>\n",
       "      <td>democrat</td>\n",
       "      <td>70.0</td>\n",
       "      <td>71.0</td>\n",
       "      <td>160.0</td>\n",
       "      <td>163.0</td>\n",
       "      <td>9.0</td>\n",
       "      <td>Denver</td>\n",
       "    </tr>\n",
       "    <tr>\n",
       "      <th>3</th>\n",
       "      <td>1123.json</td>\n",
       "      <td>false</td>\n",
       "      <td>Health care reform legislation is likely to ma...</td>\n",
       "      <td>health-care</td>\n",
       "      <td>blog-posting</td>\n",
       "      <td>NaN</td>\n",
       "      <td>NaN</td>\n",
       "      <td>none</td>\n",
       "      <td>7.0</td>\n",
       "      <td>19.0</td>\n",
       "      <td>3.0</td>\n",
       "      <td>5.0</td>\n",
       "      <td>44.0</td>\n",
       "      <td>a news release</td>\n",
       "    </tr>\n",
       "    <tr>\n",
       "      <th>4</th>\n",
       "      <td>9028.json</td>\n",
       "      <td>half-true</td>\n",
       "      <td>The economic turnaround started at the end of ...</td>\n",
       "      <td>economy,jobs</td>\n",
       "      <td>charlie-crist</td>\n",
       "      <td>NaN</td>\n",
       "      <td>Florida</td>\n",
       "      <td>democrat</td>\n",
       "      <td>15.0</td>\n",
       "      <td>9.0</td>\n",
       "      <td>20.0</td>\n",
       "      <td>19.0</td>\n",
       "      <td>2.0</td>\n",
       "      <td>an interview on CNN</td>\n",
       "    </tr>\n",
       "  </tbody>\n",
       "</table>\n",
       "</div>"
      ],
      "text/plain": [
       "    file_name        label                                              title  \\\n",
       "0   2635.json        false  Says the Annies List political group supports ...   \n",
       "1  10540.json    half-true  When did the decline of coal start? It started...   \n",
       "2    324.json  mostly-true  Hillary Clinton agrees with John McCain \"by vo...   \n",
       "3   1123.json        false  Health care reform legislation is likely to ma...   \n",
       "4   9028.json    half-true  The economic turnaround started at the end of ...   \n",
       "\n",
       "                                    1               2                     3  \\\n",
       "0                            abortion    dwayne-bohac  State representative   \n",
       "1  energy,history,job-accomplishments  scott-surovell        State delegate   \n",
       "2                      foreign-policy    barack-obama             President   \n",
       "3                         health-care    blog-posting                   NaN   \n",
       "4                        economy,jobs   charlie-crist                   NaN   \n",
       "\n",
       "          4           5     6     7      8      9    10                   11  \n",
       "0     Texas  republican   0.0   1.0    0.0    0.0   0.0             a mailer  \n",
       "1  Virginia    democrat   0.0   0.0    1.0    1.0   0.0      a floor speech.  \n",
       "2  Illinois    democrat  70.0  71.0  160.0  163.0   9.0               Denver  \n",
       "3       NaN        none   7.0  19.0    3.0    5.0  44.0       a news release  \n",
       "4   Florida    democrat  15.0   9.0   20.0   19.0   2.0  an interview on CNN  "
      ]
     },
     "execution_count": 55,
     "metadata": {},
     "output_type": "execute_result"
    }
   ],
   "source": [
    "# Replace with your actual column names\n",
    "liar.head()"
   ]
  },
  {
   "cell_type": "code",
   "execution_count": 56,
   "id": "b5a88fa1-be18-4c2a-a2ae-c60809b95e0e",
   "metadata": {},
   "outputs": [
    {
     "data": {
      "text/plain": [
       "label\n",
       "half-true      2114\n",
       "false          1995\n",
       "mostly-true    1962\n",
       "true           1676\n",
       "barely-true    1654\n",
       "pants-fire      839\n",
       "Name: count, dtype: int64"
      ]
     },
     "execution_count": 56,
     "metadata": {},
     "output_type": "execute_result"
    }
   ],
   "source": [
    "liar.label.value_counts()"
   ]
  },
  {
   "cell_type": "markdown",
   "id": "5aea3e1d-d5ba-4cda-a412-b8b64cd157b2",
   "metadata": {},
   "source": [
    "## 42- LIAR PLUS"
   ]
  },
  {
   "cell_type": "code",
   "execution_count": 65,
   "id": "d1e63397-5ac7-4e52-a90f-071b5c12cd74",
   "metadata": {},
   "outputs": [],
   "source": [
    "column_names = [\"file_name\", \"label\", \"title\", '1','2','3','4','5','6','7','8','9','10','11','12']\n",
    "liar_plus = pd.read_csv('datasets/text datasets/LIAR-PLUS/train2.tsv', sep='\\t', header=None, names= column_names)"
   ]
  },
  {
   "cell_type": "code",
   "execution_count": 67,
   "id": "df999f3f-9d6a-4c21-b186-80b1bd9dc085",
   "metadata": {},
   "outputs": [
    {
     "data": {
      "text/html": [
       "<div>\n",
       "<style scoped>\n",
       "    .dataframe tbody tr th:only-of-type {\n",
       "        vertical-align: middle;\n",
       "    }\n",
       "\n",
       "    .dataframe tbody tr th {\n",
       "        vertical-align: top;\n",
       "    }\n",
       "\n",
       "    .dataframe thead th {\n",
       "        text-align: right;\n",
       "    }\n",
       "</style>\n",
       "<table border=\"1\" class=\"dataframe\">\n",
       "  <thead>\n",
       "    <tr style=\"text-align: right;\">\n",
       "      <th></th>\n",
       "      <th>file_name</th>\n",
       "      <th>label</th>\n",
       "      <th>title</th>\n",
       "      <th>1</th>\n",
       "      <th>2</th>\n",
       "      <th>3</th>\n",
       "      <th>4</th>\n",
       "      <th>5</th>\n",
       "      <th>6</th>\n",
       "      <th>7</th>\n",
       "      <th>8</th>\n",
       "      <th>9</th>\n",
       "      <th>10</th>\n",
       "      <th>11</th>\n",
       "      <th>12</th>\n",
       "    </tr>\n",
       "  </thead>\n",
       "  <tbody>\n",
       "    <tr>\n",
       "      <th>0</th>\n",
       "      <td>2635.json</td>\n",
       "      <td>false</td>\n",
       "      <td>Says the Annies List political group supports ...</td>\n",
       "      <td>abortion</td>\n",
       "      <td>dwayne-bohac</td>\n",
       "      <td>State representative</td>\n",
       "      <td>Texas</td>\n",
       "      <td>republican</td>\n",
       "      <td>0.0</td>\n",
       "      <td>1.0</td>\n",
       "      <td>0.0</td>\n",
       "      <td>0.0</td>\n",
       "      <td>0.0</td>\n",
       "      <td>a mailer</td>\n",
       "      <td>That's a premise that he fails to back up. Ann...</td>\n",
       "    </tr>\n",
       "    <tr>\n",
       "      <th>1</th>\n",
       "      <td>10540.json</td>\n",
       "      <td>half-true</td>\n",
       "      <td>When did the decline of coal start? It started...</td>\n",
       "      <td>energy,history,job-accomplishments</td>\n",
       "      <td>scott-surovell</td>\n",
       "      <td>State delegate</td>\n",
       "      <td>Virginia</td>\n",
       "      <td>democrat</td>\n",
       "      <td>0.0</td>\n",
       "      <td>0.0</td>\n",
       "      <td>1.0</td>\n",
       "      <td>1.0</td>\n",
       "      <td>0.0</td>\n",
       "      <td>a floor speech.</td>\n",
       "      <td>Surovell said the decline of coal \"started whe...</td>\n",
       "    </tr>\n",
       "    <tr>\n",
       "      <th>2</th>\n",
       "      <td>324.json</td>\n",
       "      <td>mostly-true</td>\n",
       "      <td>Hillary Clinton agrees with John McCain \"by vo...</td>\n",
       "      <td>foreign-policy</td>\n",
       "      <td>barack-obama</td>\n",
       "      <td>President</td>\n",
       "      <td>Illinois</td>\n",
       "      <td>democrat</td>\n",
       "      <td>70.0</td>\n",
       "      <td>71.0</td>\n",
       "      <td>160.0</td>\n",
       "      <td>163.0</td>\n",
       "      <td>9.0</td>\n",
       "      <td>Denver</td>\n",
       "      <td>Obama said he would have voted against the ame...</td>\n",
       "    </tr>\n",
       "    <tr>\n",
       "      <th>3</th>\n",
       "      <td>1123.json</td>\n",
       "      <td>false</td>\n",
       "      <td>Health care reform legislation is likely to ma...</td>\n",
       "      <td>health-care</td>\n",
       "      <td>blog-posting</td>\n",
       "      <td>NaN</td>\n",
       "      <td>NaN</td>\n",
       "      <td>none</td>\n",
       "      <td>7.0</td>\n",
       "      <td>19.0</td>\n",
       "      <td>3.0</td>\n",
       "      <td>5.0</td>\n",
       "      <td>44.0</td>\n",
       "      <td>a news release</td>\n",
       "      <td>The release may have a point that Mikulskis co...</td>\n",
       "    </tr>\n",
       "    <tr>\n",
       "      <th>4</th>\n",
       "      <td>9028.json</td>\n",
       "      <td>half-true</td>\n",
       "      <td>The economic turnaround started at the end of ...</td>\n",
       "      <td>economy,jobs</td>\n",
       "      <td>charlie-crist</td>\n",
       "      <td>NaN</td>\n",
       "      <td>Florida</td>\n",
       "      <td>democrat</td>\n",
       "      <td>15.0</td>\n",
       "      <td>9.0</td>\n",
       "      <td>20.0</td>\n",
       "      <td>19.0</td>\n",
       "      <td>2.0</td>\n",
       "      <td>an interview on CNN</td>\n",
       "      <td>Crist said that the economic \"turnaround start...</td>\n",
       "    </tr>\n",
       "  </tbody>\n",
       "</table>\n",
       "</div>"
      ],
      "text/plain": [
       "    file_name        label                                              title  \\\n",
       "0   2635.json        false  Says the Annies List political group supports ...   \n",
       "1  10540.json    half-true  When did the decline of coal start? It started...   \n",
       "2    324.json  mostly-true  Hillary Clinton agrees with John McCain \"by vo...   \n",
       "3   1123.json        false  Health care reform legislation is likely to ma...   \n",
       "4   9028.json    half-true  The economic turnaround started at the end of ...   \n",
       "\n",
       "                                    1               2                     3  \\\n",
       "0                            abortion    dwayne-bohac  State representative   \n",
       "1  energy,history,job-accomplishments  scott-surovell        State delegate   \n",
       "2                      foreign-policy    barack-obama             President   \n",
       "3                         health-care    blog-posting                   NaN   \n",
       "4                        economy,jobs   charlie-crist                   NaN   \n",
       "\n",
       "          4           5     6     7      8      9    10                   11  \\\n",
       "0     Texas  republican   0.0   1.0    0.0    0.0   0.0             a mailer   \n",
       "1  Virginia    democrat   0.0   0.0    1.0    1.0   0.0      a floor speech.   \n",
       "2  Illinois    democrat  70.0  71.0  160.0  163.0   9.0               Denver   \n",
       "3       NaN        none   7.0  19.0    3.0    5.0  44.0       a news release   \n",
       "4   Florida    democrat  15.0   9.0   20.0   19.0   2.0  an interview on CNN   \n",
       "\n",
       "                                                  12  \n",
       "0  That's a premise that he fails to back up. Ann...  \n",
       "1  Surovell said the decline of coal \"started whe...  \n",
       "2  Obama said he would have voted against the ame...  \n",
       "3  The release may have a point that Mikulskis co...  \n",
       "4  Crist said that the economic \"turnaround start...  "
      ]
     },
     "execution_count": 67,
     "metadata": {},
     "output_type": "execute_result"
    }
   ],
   "source": [
    "liar_plus.head()"
   ]
  },
  {
   "cell_type": "code",
   "execution_count": 68,
   "id": "9427c9ed-b313-4cea-b321-52ba2b13b7df",
   "metadata": {},
   "outputs": [
    {
     "data": {
      "text/plain": [
       "label\n",
       "half-true      2114\n",
       "false          1995\n",
       "mostly-true    1962\n",
       "true           1676\n",
       "barely-true    1654\n",
       "pants-fire      839\n",
       "Name: count, dtype: int64"
      ]
     },
     "execution_count": 68,
     "metadata": {},
     "output_type": "execute_result"
    }
   ],
   "source": [
    "liar_plus.label.value_counts()"
   ]
  },
  {
   "cell_type": "markdown",
   "id": "7e1304d9-96ea-4789-81a9-b1100157132e",
   "metadata": {},
   "source": [
    "## 43- MacIntire"
   ]
  },
  {
   "cell_type": "code",
   "execution_count": 69,
   "id": "97ee4d25-ccf2-486c-9eda-2fbc700b6864",
   "metadata": {},
   "outputs": [],
   "source": [
    "mac = pd.read_csv('datasets/text datasets/MacIntire.csv')"
   ]
  },
  {
   "cell_type": "code",
   "execution_count": 70,
   "id": "0f46986c-7f82-4e9c-a5de-ef88e86da872",
   "metadata": {},
   "outputs": [
    {
     "data": {
      "text/html": [
       "<div>\n",
       "<style scoped>\n",
       "    .dataframe tbody tr th:only-of-type {\n",
       "        vertical-align: middle;\n",
       "    }\n",
       "\n",
       "    .dataframe tbody tr th {\n",
       "        vertical-align: top;\n",
       "    }\n",
       "\n",
       "    .dataframe thead th {\n",
       "        text-align: right;\n",
       "    }\n",
       "</style>\n",
       "<table border=\"1\" class=\"dataframe\">\n",
       "  <thead>\n",
       "    <tr style=\"text-align: right;\">\n",
       "      <th></th>\n",
       "      <th>idd</th>\n",
       "      <th>title</th>\n",
       "      <th>text</th>\n",
       "      <th>label</th>\n",
       "    </tr>\n",
       "  </thead>\n",
       "  <tbody>\n",
       "    <tr>\n",
       "      <th>0</th>\n",
       "      <td>Fq+C96tcx+</td>\n",
       "      <td>‘A target on Roe v. Wade ’: Oklahoma bill maki...</td>\n",
       "      <td>UPDATE: Gov. Fallin vetoed the bill on Friday....</td>\n",
       "      <td>REAL</td>\n",
       "    </tr>\n",
       "    <tr>\n",
       "      <th>1</th>\n",
       "      <td>bHUqK!pgmv</td>\n",
       "      <td>Study: women had to drive 4 times farther afte...</td>\n",
       "      <td>Ever since Texas laws closed about half of the...</td>\n",
       "      <td>REAL</td>\n",
       "    </tr>\n",
       "    <tr>\n",
       "      <th>2</th>\n",
       "      <td>4Y4Ubf%aTi</td>\n",
       "      <td>Trump, Clinton clash in dueling DC speeches</td>\n",
       "      <td>Donald Trump and Hillary Clinton, now at the s...</td>\n",
       "      <td>REAL</td>\n",
       "    </tr>\n",
       "    <tr>\n",
       "      <th>3</th>\n",
       "      <td>_CoY89SJ@K</td>\n",
       "      <td>Grand jury in Texas indicts activists behind P...</td>\n",
       "      <td>A Houston grand jury investigating criminal al...</td>\n",
       "      <td>REAL</td>\n",
       "    </tr>\n",
       "    <tr>\n",
       "      <th>4</th>\n",
       "      <td>+rJHoRQVLe</td>\n",
       "      <td>As Reproductive Rights Hang In The Balance, De...</td>\n",
       "      <td>WASHINGTON -- Forty-three years after the Supr...</td>\n",
       "      <td>REAL</td>\n",
       "    </tr>\n",
       "  </tbody>\n",
       "</table>\n",
       "</div>"
      ],
      "text/plain": [
       "          idd                                              title  \\\n",
       "0  Fq+C96tcx+  ‘A target on Roe v. Wade ’: Oklahoma bill maki...   \n",
       "1  bHUqK!pgmv  Study: women had to drive 4 times farther afte...   \n",
       "2  4Y4Ubf%aTi        Trump, Clinton clash in dueling DC speeches   \n",
       "3  _CoY89SJ@K  Grand jury in Texas indicts activists behind P...   \n",
       "4  +rJHoRQVLe  As Reproductive Rights Hang In The Balance, De...   \n",
       "\n",
       "                                                text label  \n",
       "0  UPDATE: Gov. Fallin vetoed the bill on Friday....  REAL  \n",
       "1  Ever since Texas laws closed about half of the...  REAL  \n",
       "2  Donald Trump and Hillary Clinton, now at the s...  REAL  \n",
       "3  A Houston grand jury investigating criminal al...  REAL  \n",
       "4  WASHINGTON -- Forty-three years after the Supr...  REAL  "
      ]
     },
     "execution_count": 70,
     "metadata": {},
     "output_type": "execute_result"
    }
   ],
   "source": [
    "mac.head()"
   ]
  },
  {
   "cell_type": "code",
   "execution_count": 71,
   "id": "9c0547e7-0688-42a1-be65-4dbfa1bcdc88",
   "metadata": {},
   "outputs": [
    {
     "data": {
      "text/plain": [
       "label\n",
       "REAL    2297\n",
       "FAKE    2297\n",
       "Name: count, dtype: int64"
      ]
     },
     "execution_count": 71,
     "metadata": {},
     "output_type": "execute_result"
    }
   ],
   "source": [
    "mac.label.value_counts() "
   ]
  },
  {
   "cell_type": "code",
   "execution_count": 72,
   "id": "558f7cf5-2a23-4b15-bcf7-09408c5f7791",
   "metadata": {},
   "outputs": [],
   "source": [
    "# skipping 44"
   ]
  },
  {
   "cell_type": "markdown",
   "id": "48809699-3f34-439d-8fcd-2a4041761026",
   "metadata": {},
   "source": [
    "## 45- Misinformation-and-fakenews-and-propaganda"
   ]
  },
  {
   "cell_type": "code",
   "execution_count": 81,
   "id": "fe1d33f7-d3f9-44a9-bf3e-5ea45290bf9f",
   "metadata": {},
   "outputs": [],
   "source": [
    "mfp_fake = pd.read_csv('datasets/text datasets/Misinformation-and-fakenews-and-propaganda/DataSet_Misinfo_FAKE.csv/DataSet_Misinfo_FAKE.csv', index_col='Unnamed: 0')\n",
    "mfp_real = pd.read_csv('datasets/text datasets/Misinformation-and-fakenews-and-propaganda/DataSet_Misinfo_TRUE.csv/DataSet_Misinfo_TRUE.csv', index_col='Unnamed: 0')"
   ]
  },
  {
   "cell_type": "code",
   "execution_count": 82,
   "id": "d97bcc5b-b77b-4b53-8d57-1eef241f8884",
   "metadata": {},
   "outputs": [],
   "source": [
    "mfp_fake['label'] = 'fake'"
   ]
  },
  {
   "cell_type": "code",
   "execution_count": 83,
   "id": "3d12c953-94e6-4a90-aea5-48fd85ce3f8b",
   "metadata": {},
   "outputs": [],
   "source": [
    "mfp_real['label'] = 'real'"
   ]
  },
  {
   "cell_type": "code",
   "execution_count": 84,
   "id": "75448872-27b3-43ef-8ac3-1d206a9714ba",
   "metadata": {},
   "outputs": [],
   "source": [
    "mfp = pd.concat([mfp_fake, mfp_real])"
   ]
  },
  {
   "cell_type": "code",
   "execution_count": 85,
   "id": "c0f784f4-01e5-4304-938c-a4babb6bdc9e",
   "metadata": {},
   "outputs": [
    {
     "data": {
      "text/html": [
       "<div>\n",
       "<style scoped>\n",
       "    .dataframe tbody tr th:only-of-type {\n",
       "        vertical-align: middle;\n",
       "    }\n",
       "\n",
       "    .dataframe tbody tr th {\n",
       "        vertical-align: top;\n",
       "    }\n",
       "\n",
       "    .dataframe thead th {\n",
       "        text-align: right;\n",
       "    }\n",
       "</style>\n",
       "<table border=\"1\" class=\"dataframe\">\n",
       "  <thead>\n",
       "    <tr style=\"text-align: right;\">\n",
       "      <th></th>\n",
       "      <th>text</th>\n",
       "      <th>label</th>\n",
       "    </tr>\n",
       "  </thead>\n",
       "  <tbody>\n",
       "    <tr>\n",
       "      <th>0</th>\n",
       "      <td>Donald Trump just couldn t wish all Americans ...</td>\n",
       "      <td>fake</td>\n",
       "    </tr>\n",
       "    <tr>\n",
       "      <th>1</th>\n",
       "      <td>House Intelligence Committee Chairman Devin Nu...</td>\n",
       "      <td>fake</td>\n",
       "    </tr>\n",
       "    <tr>\n",
       "      <th>2</th>\n",
       "      <td>On Friday, it was revealed that former Milwauk...</td>\n",
       "      <td>fake</td>\n",
       "    </tr>\n",
       "    <tr>\n",
       "      <th>3</th>\n",
       "      <td>On Christmas day, Donald Trump announced that ...</td>\n",
       "      <td>fake</td>\n",
       "    </tr>\n",
       "    <tr>\n",
       "      <th>4</th>\n",
       "      <td>Pope Francis used his annual Christmas Day mes...</td>\n",
       "      <td>fake</td>\n",
       "    </tr>\n",
       "  </tbody>\n",
       "</table>\n",
       "</div>"
      ],
      "text/plain": [
       "                                                text label\n",
       "0  Donald Trump just couldn t wish all Americans ...  fake\n",
       "1  House Intelligence Committee Chairman Devin Nu...  fake\n",
       "2  On Friday, it was revealed that former Milwauk...  fake\n",
       "3  On Christmas day, Donald Trump announced that ...  fake\n",
       "4  Pope Francis used his annual Christmas Day mes...  fake"
      ]
     },
     "execution_count": 85,
     "metadata": {},
     "output_type": "execute_result"
    }
   ],
   "source": [
    "mfp.head()"
   ]
  },
  {
   "cell_type": "code",
   "execution_count": 86,
   "id": "d1a31875-bee1-42d0-8b35-8f8f31e4d3c6",
   "metadata": {},
   "outputs": [
    {
     "data": {
      "text/plain": [
       "label\n",
       "fake    43642\n",
       "real    34975\n",
       "Name: count, dtype: int64"
      ]
     },
     "execution_count": 86,
     "metadata": {},
     "output_type": "execute_result"
    }
   ],
   "source": [
    "mfp.label.value_counts()"
   ]
  },
  {
   "cell_type": "markdown",
   "id": "ea683a11-249d-4b1e-887a-753a5680d8af",
   "metadata": {},
   "source": [
    "## 46- NewPolitifact"
   ]
  },
  {
   "cell_type": "code",
   "execution_count": 87,
   "id": "14c37d93-eb67-4ee5-b726-93b258ca9eb0",
   "metadata": {},
   "outputs": [],
   "source": [
    "newpf = pd.read_csv('datasets/text datasets/newpolitifactdataset.csv')"
   ]
  },
  {
   "cell_type": "code",
   "execution_count": 88,
   "id": "c1b0aaf4-d055-4d36-884a-507dd9e7e3a9",
   "metadata": {},
   "outputs": [
    {
     "data": {
      "text/html": [
       "<div>\n",
       "<style scoped>\n",
       "    .dataframe tbody tr th:only-of-type {\n",
       "        vertical-align: middle;\n",
       "    }\n",
       "\n",
       "    .dataframe tbody tr th {\n",
       "        vertical-align: top;\n",
       "    }\n",
       "\n",
       "    .dataframe thead th {\n",
       "        text-align: right;\n",
       "    }\n",
       "</style>\n",
       "<table border=\"1\" class=\"dataframe\">\n",
       "  <thead>\n",
       "    <tr style=\"text-align: right;\">\n",
       "      <th></th>\n",
       "      <th>Statement</th>\n",
       "      <th>Unnamed: 1</th>\n",
       "      <th>Unnamed: 2</th>\n",
       "      <th>Unnamed: 3</th>\n",
       "      <th>Result</th>\n",
       "    </tr>\n",
       "  </thead>\n",
       "  <tbody>\n",
       "    <tr>\n",
       "      <th>0</th>\n",
       "      <td>A photo shows a large crowd in Berlin protesti...</td>\n",
       "      <td>NaN</td>\n",
       "      <td>NaN</td>\n",
       "      <td>NaN</td>\n",
       "      <td>FALSE</td>\n",
       "    </tr>\n",
       "    <tr>\n",
       "      <th>1</th>\n",
       "      <td>“You know what’s in this bill? No medical malp...</td>\n",
       "      <td>NaN</td>\n",
       "      <td>NaN</td>\n",
       "      <td>NaN</td>\n",
       "      <td>barely-true</td>\n",
       "    </tr>\n",
       "    <tr>\n",
       "      <th>2</th>\n",
       "      <td>Says Haley Stevens’ plan for “socialized medic...</td>\n",
       "      <td>NaN</td>\n",
       "      <td>NaN</td>\n",
       "      <td>NaN</td>\n",
       "      <td>barely-true</td>\n",
       "    </tr>\n",
       "    <tr>\n",
       "      <th>3</th>\n",
       "      <td>“$258^000/month: Amount Blake Griffin will pay...</td>\n",
       "      <td>NaN</td>\n",
       "      <td>NaN</td>\n",
       "      <td>NaN</td>\n",
       "      <td>FALSE</td>\n",
       "    </tr>\n",
       "    <tr>\n",
       "      <th>4</th>\n",
       "      <td>The White House doctored a photo of a Donald T...</td>\n",
       "      <td>NaN</td>\n",
       "      <td>NaN</td>\n",
       "      <td>NaN</td>\n",
       "      <td>FALSE</td>\n",
       "    </tr>\n",
       "  </tbody>\n",
       "</table>\n",
       "</div>"
      ],
      "text/plain": [
       "                                           Statement  Unnamed: 1  Unnamed: 2  \\\n",
       "0  A photo shows a large crowd in Berlin protesti...         NaN         NaN   \n",
       "1  “You know what’s in this bill? No medical malp...         NaN         NaN   \n",
       "2  Says Haley Stevens’ plan for “socialized medic...         NaN         NaN   \n",
       "3  “$258^000/month: Amount Blake Griffin will pay...         NaN         NaN   \n",
       "4  The White House doctored a photo of a Donald T...         NaN         NaN   \n",
       "\n",
       "   Unnamed: 3       Result  \n",
       "0         NaN        FALSE  \n",
       "1         NaN  barely-true  \n",
       "2         NaN  barely-true  \n",
       "3         NaN        FALSE  \n",
       "4         NaN        FALSE  "
      ]
     },
     "execution_count": 88,
     "metadata": {},
     "output_type": "execute_result"
    }
   ],
   "source": [
    "newpf.head()"
   ]
  },
  {
   "cell_type": "code",
   "execution_count": 89,
   "id": "44eeabef-c790-4516-bae2-787b9f5e007a",
   "metadata": {},
   "outputs": [
    {
     "data": {
      "text/plain": [
       "Result\n",
       "FALSE          3852\n",
       "half-true      3152\n",
       "mostly-true    3003\n",
       "barely-true    2890\n",
       "TRUE           2311\n",
       "pants-fire     2066\n",
       "full-flip       154\n",
       "half-flip        67\n",
       "no-flip          24\n",
       "Name: count, dtype: int64"
      ]
     },
     "execution_count": 89,
     "metadata": {},
     "output_type": "execute_result"
    }
   ],
   "source": [
    "newpf.Result.value_counts()"
   ]
  },
  {
   "cell_type": "code",
   "execution_count": 90,
   "id": "41a0a770-c349-4051-a657-dcd10bc0622d",
   "metadata": {},
   "outputs": [],
   "source": [
    "# skipping 47, 48, 49"
   ]
  },
  {
   "cell_type": "markdown",
   "id": "bd1d0738-d12d-460e-9fb9-6dfe286f9821",
   "metadata": {},
   "source": [
    "## 50 - Politifact-political-rumor"
   ]
  },
  {
   "cell_type": "code",
   "execution_count": 96,
   "id": "8adaa690-f80d-470d-bb61-c082c393e4b5",
   "metadata": {},
   "outputs": [],
   "source": [
    "column_names = [\"Claim Text\", \"Veracity\", \"Category\", \"Published Date\"]\n",
    "ppr = pd.read_csv('datasets/text datasets/Politifact-political-rumor.tsv', sep='\\t', names=column_names)"
   ]
  },
  {
   "cell_type": "code",
   "execution_count": 97,
   "id": "28970120-b3ea-4956-a54a-cc0b450a1f9d",
   "metadata": {},
   "outputs": [
    {
     "data": {
      "text/html": [
       "<div>\n",
       "<style scoped>\n",
       "    .dataframe tbody tr th:only-of-type {\n",
       "        vertical-align: middle;\n",
       "    }\n",
       "\n",
       "    .dataframe tbody tr th {\n",
       "        vertical-align: top;\n",
       "    }\n",
       "\n",
       "    .dataframe thead th {\n",
       "        text-align: right;\n",
       "    }\n",
       "</style>\n",
       "<table border=\"1\" class=\"dataframe\">\n",
       "  <thead>\n",
       "    <tr style=\"text-align: right;\">\n",
       "      <th></th>\n",
       "      <th>Claim Text</th>\n",
       "      <th>Veracity</th>\n",
       "      <th>Category</th>\n",
       "      <th>Published Date</th>\n",
       "    </tr>\n",
       "  </thead>\n",
       "  <tbody>\n",
       "    <tr>\n",
       "      <th>0</th>\n",
       "      <td>Claim Text  Veracity  Category  Published Date</td>\n",
       "      <td>NaN</td>\n",
       "      <td>NaN</td>\n",
       "      <td>NaN</td>\n",
       "    </tr>\n",
       "    <tr>\n",
       "      <th>1</th>\n",
       "      <td>Tweeted photo inaccurately indicates boy 'cage...</td>\n",
       "      <td>False</td>\n",
       "      <td>2018-06-15</td>\n",
       "      <td>NaN</td>\n",
       "    </tr>\n",
       "    <tr>\n",
       "      <th>2</th>\n",
       "      <td>Congressman: deal ensured Iran could hit US wi...</td>\n",
       "      <td>False</td>\n",
       "      <td>2018-05-22</td>\n",
       "      <td>NaN</td>\n",
       "    </tr>\n",
       "    <tr>\n",
       "      <th>3</th>\n",
       "      <td>Donald Trump blames Democrats for own immigrat...</td>\n",
       "      <td>False</td>\n",
       "      <td>2018-05-29</td>\n",
       "      <td>NaN</td>\n",
       "    </tr>\n",
       "    <tr>\n",
       "      <th>4</th>\n",
       "      <td>This NC Democrat said the NC budget had passed...</td>\n",
       "      <td>False</td>\n",
       "      <td>2018-05-25</td>\n",
       "      <td>NaN</td>\n",
       "    </tr>\n",
       "  </tbody>\n",
       "</table>\n",
       "</div>"
      ],
      "text/plain": [
       "                                          Claim Text Veracity    Category  \\\n",
       "0     Claim Text  Veracity  Category  Published Date      NaN         NaN   \n",
       "1  Tweeted photo inaccurately indicates boy 'cage...    False  2018-06-15   \n",
       "2  Congressman: deal ensured Iran could hit US wi...    False  2018-05-22   \n",
       "3  Donald Trump blames Democrats for own immigrat...    False  2018-05-29   \n",
       "4  This NC Democrat said the NC budget had passed...    False  2018-05-25   \n",
       "\n",
       "   Published Date  \n",
       "0             NaN  \n",
       "1             NaN  \n",
       "2             NaN  \n",
       "3             NaN  \n",
       "4             NaN  "
      ]
     },
     "execution_count": 97,
     "metadata": {},
     "output_type": "execute_result"
    }
   ],
   "source": [
    "ppr.head()"
   ]
  },
  {
   "cell_type": "code",
   "execution_count": 98,
   "id": "a692841b-5d26-4388-9851-d561ebeff113",
   "metadata": {},
   "outputs": [
    {
     "data": {
      "text/plain": [
       "Veracity\n",
       "False    2847\n",
       "True     2227\n",
       "Name: count, dtype: int64"
      ]
     },
     "execution_count": 98,
     "metadata": {},
     "output_type": "execute_result"
    }
   ],
   "source": [
    "ppr.Veracity.value_counts()"
   ]
  },
  {
   "cell_type": "markdown",
   "id": "055fe740-5fea-4c40-88dd-1a7ede31805c",
   "metadata": {},
   "source": [
    "## 51- Random-Political-News"
   ]
  },
  {
   "cell_type": "code",
   "execution_count": 101,
   "id": "0c56b5f0-7341-47bf-b681-3fecf70c6044",
   "metadata": {},
   "outputs": [
    {
     "name": "stdout",
     "output_type": "stream",
     "text": [
      "                                               title  \\\n",
      "0  What Michael Reagan Said About Trump Today Has...   \n",
      "1  Egyptian paper: Transcript proves Kerry plotte...   \n",
      "2  BREAKING: Washington Post Just Caught Red Hand...   \n",
      "3  “OTTOMANS WERE THE FIRST TO REACH THE MOON,” S...   \n",
      "4  Pro-Cruz Robocall Warns Nevada Voters of Impen...   \n",
      "\n",
      "                                                body label  \n",
      "0  Michael Reagan is the son of former President ...  Fake  \n",
      "1  On Tuesday, the Times of Israel reported that ...  Fake  \n",
      "2  This is really one of those funny, beautiful m...  Fake  \n",
      "3  Istanbul| Ottomans were the first to walk on t...  Fake  \n",
      "4  CARSON CITY, Nv. – A robocall dialed out to hu...  Fake  \n"
     ]
    }
   ],
   "source": [
    "import os\n",
    "import pandas as pd\n",
    "\n",
    "def read_text_file(filepath):\n",
    "    try:\n",
    "        with open(filepath, 'r', encoding='windows-1252') as file:\n",
    "            return file.read().strip()\n",
    "    except Exception as e:\n",
    "        return f\"An error occurred: {e}\"\n",
    "\n",
    "def build_dataset(base_folder):\n",
    "    data = []\n",
    "\n",
    "    for label in ['Fake', 'Real']:\n",
    "        body_folder = os.path.join(base_folder, label)\n",
    "        title_folder = os.path.join(base_folder, f\"{label}_titles\")\n",
    "\n",
    "        for filename in os.listdir(body_folder):\n",
    "            if filename.endswith('.txt'):\n",
    "                file_number = filename.replace('.txt', '')\n",
    "                body_path = os.path.join(body_folder, filename)\n",
    "                title_path = os.path.join(title_folder, f\"{file_number}.txt\")\n",
    "\n",
    "                body = read_text_file(body_path)\n",
    "                title = read_text_file(title_path)\n",
    "\n",
    "                data.append({\n",
    "                    'title': title,\n",
    "                    'body': body,\n",
    "                    'label': label\n",
    "                })\n",
    "\n",
    "    return pd.DataFrame(data)\n",
    "\n",
    "# Usage\n",
    "dataset_folder = 'datasets/text datasets/Random-Political-News/Public Data/Random Poltical News Dataset'  # <- change this\n",
    "df = build_dataset(dataset_folder)\n",
    "print(df.head())"
   ]
  },
  {
   "cell_type": "code",
   "execution_count": 102,
   "id": "a47e351d-32d8-4154-a11c-bb18482a96bc",
   "metadata": {},
   "outputs": [
    {
     "data": {
      "text/plain": [
       "label\n",
       "Fake    75\n",
       "Real    75\n",
       "Name: count, dtype: int64"
      ]
     },
     "execution_count": 102,
     "metadata": {},
     "output_type": "execute_result"
    }
   ],
   "source": [
    "df.label.value_counts()"
   ]
  },
  {
   "cell_type": "code",
   "execution_count": 103,
   "id": "0be52282-3f54-4d18-a32e-c35a91ce08cb",
   "metadata": {},
   "outputs": [
    {
     "data": {
      "text/html": [
       "<div>\n",
       "<style scoped>\n",
       "    .dataframe tbody tr th:only-of-type {\n",
       "        vertical-align: middle;\n",
       "    }\n",
       "\n",
       "    .dataframe tbody tr th {\n",
       "        vertical-align: top;\n",
       "    }\n",
       "\n",
       "    .dataframe thead th {\n",
       "        text-align: right;\n",
       "    }\n",
       "</style>\n",
       "<table border=\"1\" class=\"dataframe\">\n",
       "  <thead>\n",
       "    <tr style=\"text-align: right;\">\n",
       "      <th></th>\n",
       "      <th>title</th>\n",
       "      <th>body</th>\n",
       "      <th>label</th>\n",
       "    </tr>\n",
       "  </thead>\n",
       "  <tbody>\n",
       "    <tr>\n",
       "      <th>0</th>\n",
       "      <td>What Michael Reagan Said About Trump Today Has...</td>\n",
       "      <td>Michael Reagan is the son of former President ...</td>\n",
       "      <td>Fake</td>\n",
       "    </tr>\n",
       "    <tr>\n",
       "      <th>1</th>\n",
       "      <td>Egyptian paper: Transcript proves Kerry plotte...</td>\n",
       "      <td>On Tuesday, the Times of Israel reported that ...</td>\n",
       "      <td>Fake</td>\n",
       "    </tr>\n",
       "    <tr>\n",
       "      <th>2</th>\n",
       "      <td>BREAKING: Washington Post Just Caught Red Hand...</td>\n",
       "      <td>This is really one of those funny, beautiful m...</td>\n",
       "      <td>Fake</td>\n",
       "    </tr>\n",
       "    <tr>\n",
       "      <th>3</th>\n",
       "      <td>“OTTOMANS WERE THE FIRST TO REACH THE MOON,” S...</td>\n",
       "      <td>Istanbul| Ottomans were the first to walk on t...</td>\n",
       "      <td>Fake</td>\n",
       "    </tr>\n",
       "    <tr>\n",
       "      <th>4</th>\n",
       "      <td>Pro-Cruz Robocall Warns Nevada Voters of Impen...</td>\n",
       "      <td>CARSON CITY, Nv. – A robocall dialed out to hu...</td>\n",
       "      <td>Fake</td>\n",
       "    </tr>\n",
       "  </tbody>\n",
       "</table>\n",
       "</div>"
      ],
      "text/plain": [
       "                                               title  \\\n",
       "0  What Michael Reagan Said About Trump Today Has...   \n",
       "1  Egyptian paper: Transcript proves Kerry plotte...   \n",
       "2  BREAKING: Washington Post Just Caught Red Hand...   \n",
       "3  “OTTOMANS WERE THE FIRST TO REACH THE MOON,” S...   \n",
       "4  Pro-Cruz Robocall Warns Nevada Voters of Impen...   \n",
       "\n",
       "                                                body label  \n",
       "0  Michael Reagan is the son of former President ...  Fake  \n",
       "1  On Tuesday, the Times of Israel reported that ...  Fake  \n",
       "2  This is really one of those funny, beautiful m...  Fake  \n",
       "3  Istanbul| Ottomans were the first to walk on t...  Fake  \n",
       "4  CARSON CITY, Nv. – A robocall dialed out to hu...  Fake  "
      ]
     },
     "execution_count": 103,
     "metadata": {},
     "output_type": "execute_result"
    }
   ],
   "source": [
    "df.head()"
   ]
  },
  {
   "cell_type": "markdown",
   "id": "fc61d49e-09fd-4000-866b-9771842ce265",
   "metadata": {},
   "source": [
    "## 52- ReCOVery"
   ]
  },
  {
   "cell_type": "code",
   "execution_count": 106,
   "id": "3fcb68f4-9118-449c-8135-802ea2de77b0",
   "metadata": {},
   "outputs": [],
   "source": [
    "rec = pd.read_csv('datasets/text+image/text+image/ReCOVery/ReCOVery-master/dataset/recovery-news-data.csv', index_col='Unnamed: 0')"
   ]
  },
  {
   "cell_type": "code",
   "execution_count": 107,
   "id": "08986bb0-d493-4b64-b1a9-5ee702c5bd18",
   "metadata": {},
   "outputs": [
    {
     "data": {
      "text/html": [
       "<div>\n",
       "<style scoped>\n",
       "    .dataframe tbody tr th:only-of-type {\n",
       "        vertical-align: middle;\n",
       "    }\n",
       "\n",
       "    .dataframe tbody tr th {\n",
       "        vertical-align: top;\n",
       "    }\n",
       "\n",
       "    .dataframe thead th {\n",
       "        text-align: right;\n",
       "    }\n",
       "</style>\n",
       "<table border=\"1\" class=\"dataframe\">\n",
       "  <thead>\n",
       "    <tr style=\"text-align: right;\">\n",
       "      <th></th>\n",
       "      <th>news_id</th>\n",
       "      <th>url</th>\n",
       "      <th>publisher</th>\n",
       "      <th>publish_date</th>\n",
       "      <th>author</th>\n",
       "      <th>title</th>\n",
       "      <th>image</th>\n",
       "      <th>body_text</th>\n",
       "      <th>political_bias</th>\n",
       "      <th>country</th>\n",
       "      <th>reliability</th>\n",
       "    </tr>\n",
       "    <tr>\n",
       "      <th>Unnamed: 0</th>\n",
       "      <th></th>\n",
       "      <th></th>\n",
       "      <th></th>\n",
       "      <th></th>\n",
       "      <th></th>\n",
       "      <th></th>\n",
       "      <th></th>\n",
       "      <th></th>\n",
       "      <th></th>\n",
       "      <th></th>\n",
       "      <th></th>\n",
       "    </tr>\n",
       "  </thead>\n",
       "  <tbody>\n",
       "    <tr>\n",
       "      <th>0</th>\n",
       "      <td>0</td>\n",
       "      <td>https://www.nytimes.com/article/what-is-corona...</td>\n",
       "      <td>The New York Times</td>\n",
       "      <td>2020-01-21</td>\n",
       "      <td>['Knvul Sheikh', 'Roni Caryn Rabin']</td>\n",
       "      <td>The Coronavirus: What Scientists Have Learned ...</td>\n",
       "      <td>https://static01.nyt.com/images/2020/03/12/sci...</td>\n",
       "      <td>\\nA novel respiratory virus that originated in...</td>\n",
       "      <td>Left</td>\n",
       "      <td>USA</td>\n",
       "      <td>1</td>\n",
       "    </tr>\n",
       "    <tr>\n",
       "      <th>1</th>\n",
       "      <td>1</td>\n",
       "      <td>https://www.npr.org/2020/01/22/798392172/chine...</td>\n",
       "      <td>National Public Radio (NPR)</td>\n",
       "      <td>2020-01-22</td>\n",
       "      <td>['Emily Feng']</td>\n",
       "      <td>Chinese Health Officials: More Die From Newly ...</td>\n",
       "      <td>https://media.npr.org/include/images/facebook-...</td>\n",
       "      <td>Chinese Health Officials: More Die From Newly ...</td>\n",
       "      <td>Center</td>\n",
       "      <td>USA</td>\n",
       "      <td>1</td>\n",
       "    </tr>\n",
       "    <tr>\n",
       "      <th>2</th>\n",
       "      <td>2</td>\n",
       "      <td>https://www.theverge.com/2020/1/23/21078457/co...</td>\n",
       "      <td>The Verge</td>\n",
       "      <td>2020-01-23</td>\n",
       "      <td>['Nicole Wetsman']</td>\n",
       "      <td>Everything you need to know about the coronavirus</td>\n",
       "      <td>https://cdn.vox-cdn.com/thumbor/a9_Oz7cvSBKyal...</td>\n",
       "      <td>Public health experts around the globe are scr...</td>\n",
       "      <td>Left-center</td>\n",
       "      <td>USA</td>\n",
       "      <td>1</td>\n",
       "    </tr>\n",
       "    <tr>\n",
       "      <th>3</th>\n",
       "      <td>3</td>\n",
       "      <td>https://www.worldhealth.net/news/novel-coronav...</td>\n",
       "      <td>WorldHealth.Net</td>\n",
       "      <td>2020-01-24</td>\n",
       "      <td>[]</td>\n",
       "      <td>Novel Coronavirus Cases Confirmed To Be Spreading</td>\n",
       "      <td>https://www.worldhealth.net/media/original_ima...</td>\n",
       "      <td>The first two coronavirus cases in Europe have...</td>\n",
       "      <td>NaN</td>\n",
       "      <td>USA</td>\n",
       "      <td>0</td>\n",
       "    </tr>\n",
       "    <tr>\n",
       "      <th>4</th>\n",
       "      <td>4</td>\n",
       "      <td>https://www.theverge.com/2020/1/24/21080845/co...</td>\n",
       "      <td>The Verge</td>\n",
       "      <td>2020-01-24</td>\n",
       "      <td>['Nicole Wetsman', 'Zoe Schiffer', 'Jay Peters...</td>\n",
       "      <td>Coronavirus disrupts the world: updates on the...</td>\n",
       "      <td>https://cdn.vox-cdn.com/thumbor/t2gt1SmEni4Mcr...</td>\n",
       "      <td>A new coronavirus appeared in Wuhan, China, at...</td>\n",
       "      <td>Left-center</td>\n",
       "      <td>USA</td>\n",
       "      <td>1</td>\n",
       "    </tr>\n",
       "  </tbody>\n",
       "</table>\n",
       "</div>"
      ],
      "text/plain": [
       "            news_id                                                url  \\\n",
       "Unnamed: 0                                                               \n",
       "0                 0  https://www.nytimes.com/article/what-is-corona...   \n",
       "1                 1  https://www.npr.org/2020/01/22/798392172/chine...   \n",
       "2                 2  https://www.theverge.com/2020/1/23/21078457/co...   \n",
       "3                 3  https://www.worldhealth.net/news/novel-coronav...   \n",
       "4                 4  https://www.theverge.com/2020/1/24/21080845/co...   \n",
       "\n",
       "                              publisher publish_date  \\\n",
       "Unnamed: 0                                             \n",
       "0                    The New York Times   2020-01-21   \n",
       "1           National Public Radio (NPR)   2020-01-22   \n",
       "2                             The Verge   2020-01-23   \n",
       "3                       WorldHealth.Net   2020-01-24   \n",
       "4                             The Verge   2020-01-24   \n",
       "\n",
       "                                                       author  \\\n",
       "Unnamed: 0                                                      \n",
       "0                        ['Knvul Sheikh', 'Roni Caryn Rabin']   \n",
       "1                                              ['Emily Feng']   \n",
       "2                                          ['Nicole Wetsman']   \n",
       "3                                                          []   \n",
       "4           ['Nicole Wetsman', 'Zoe Schiffer', 'Jay Peters...   \n",
       "\n",
       "                                                        title  \\\n",
       "Unnamed: 0                                                      \n",
       "0           The Coronavirus: What Scientists Have Learned ...   \n",
       "1           Chinese Health Officials: More Die From Newly ...   \n",
       "2           Everything you need to know about the coronavirus   \n",
       "3           Novel Coronavirus Cases Confirmed To Be Spreading   \n",
       "4           Coronavirus disrupts the world: updates on the...   \n",
       "\n",
       "                                                        image  \\\n",
       "Unnamed: 0                                                      \n",
       "0           https://static01.nyt.com/images/2020/03/12/sci...   \n",
       "1           https://media.npr.org/include/images/facebook-...   \n",
       "2           https://cdn.vox-cdn.com/thumbor/a9_Oz7cvSBKyal...   \n",
       "3           https://www.worldhealth.net/media/original_ima...   \n",
       "4           https://cdn.vox-cdn.com/thumbor/t2gt1SmEni4Mcr...   \n",
       "\n",
       "                                                    body_text political_bias  \\\n",
       "Unnamed: 0                                                                     \n",
       "0           \\nA novel respiratory virus that originated in...           Left   \n",
       "1           Chinese Health Officials: More Die From Newly ...         Center   \n",
       "2           Public health experts around the globe are scr...    Left-center   \n",
       "3           The first two coronavirus cases in Europe have...            NaN   \n",
       "4           A new coronavirus appeared in Wuhan, China, at...    Left-center   \n",
       "\n",
       "           country  reliability  \n",
       "Unnamed: 0                       \n",
       "0              USA            1  \n",
       "1              USA            1  \n",
       "2              USA            1  \n",
       "3              USA            0  \n",
       "4              USA            1  "
      ]
     },
     "execution_count": 107,
     "metadata": {},
     "output_type": "execute_result"
    }
   ],
   "source": [
    "rec.head()"
   ]
  },
  {
   "cell_type": "code",
   "execution_count": 108,
   "id": "7418ff59-a2f5-45fc-8812-049ac71240c4",
   "metadata": {},
   "outputs": [
    {
     "data": {
      "text/plain": [
       "reliability\n",
       "1    1364\n",
       "0     665\n",
       "Name: count, dtype: int64"
      ]
     },
     "execution_count": 108,
     "metadata": {},
     "output_type": "execute_result"
    }
   ],
   "source": [
    "rec.reliability.value_counts()"
   ]
  },
  {
   "cell_type": "code",
   "execution_count": 109,
   "id": "a9250c0a-c11a-4738-89ea-e12631a7c0ba",
   "metadata": {},
   "outputs": [],
   "source": [
    "# skipped 53, 54"
   ]
  },
  {
   "cell_type": "markdown",
   "id": "bf1c8507-5847-4bc7-8305-790a4ba5aec4",
   "metadata": {},
   "source": [
    "## 55- RUN-NewsReliability"
   ]
  },
  {
   "cell_type": "code",
   "execution_count": 110,
   "id": "6d3ffe50-85d1-421b-bec8-a26dc084deaf",
   "metadata": {},
   "outputs": [
    {
     "name": "stdout",
     "output_type": "stream",
     "text": [
      "                                               title  \\\n",
      "0  Preocupación entre las personas vacunadas con ...   \n",
      "1  La mejor dieta del mundo: Adelgazar comiendo j...   \n",
      "2  Qué curioso lo del Reino Unido: Son los primer...   \n",
      "3  Colombia recibió este sábado nuevo lote de 280...   \n",
      "4  Cataluña citará masivamente a los mayores de 7...   \n",
      "\n",
      "                                                text       label  \n",
      "0  <TEXT>\\n\\n\\n\\n<PARAGRAPH>\\n\\nTenían que empeza...  Unreliable  \n",
      "1  <BREAK>\\n\\nEsta más que apetecible dieta permi...  Unreliable  \n",
      "2  <BREAK>\\n\\nMás información sospechosa sobre la...  Unreliable  \n",
      "3  <TEXT>\\n\\n\\n\\n<PARAGRAPH>\\n\\nBogotá, 4 de abri...    Reliable  \n",
      "4  <TEXT>\\n\\n\\n\\n<PARAGRAPH>\\n\\nEn algunas zonas ...    Reliable  \n"
     ]
    }
   ],
   "source": [
    "import json\n",
    "import pandas as pd\n",
    "\n",
    "# Load the JSON (replace with file read if needed)\n",
    "with open('datasets/text datasets/RUN-NewsReliability/training_set.json', 'r', encoding='utf-8') as f:\n",
    "    raw_data = json.load(f)\n",
    "\n",
    "# Initialize a list to store records\n",
    "records = []\n",
    "\n",
    "# Iterate through each key (like \"0\", \"1\", etc.)\n",
    "for key, value in raw_data.items():\n",
    "\n",
    "    text = value.get(\"TEXT\", \"\").strip()\n",
    "    title = value.get(\"TITLE\", \"\").strip()\n",
    "    alba = value.get(\"VALUE_ALBA\", \"\")\n",
    "\n",
    "    \n",
    "    # Combine all into a single dict (flattened)\n",
    "    record = {\n",
    "        \"title\": title,\n",
    "        \"text\": text,\n",
    "        \"label\": alba\n",
    "    }\n",
    "    \n",
    "    records.append(record)\n",
    "\n",
    "# Convert to DataFrame\n",
    "df = pd.DataFrame(records)\n",
    "\n",
    "# Show the top rows\n",
    "print(df.head())"
   ]
  },
  {
   "cell_type": "code",
   "execution_count": 111,
   "id": "fe904a08-baf7-469f-beb3-81dcc1ee3d3b",
   "metadata": {},
   "outputs": [
    {
     "data": {
      "text/plain": [
       "label\n",
       "Reliable      89\n",
       "Unreliable    81\n",
       "Name: count, dtype: int64"
      ]
     },
     "execution_count": 111,
     "metadata": {},
     "output_type": "execute_result"
    }
   ],
   "source": [
    "df.label.value_counts()"
   ]
  },
  {
   "cell_type": "markdown",
   "id": "c6f4d161-ce9f-4968-84b6-c062a3b36b72",
   "metadata": {},
   "source": [
    "## 56- Snopes-Claims"
   ]
  },
  {
   "cell_type": "code",
   "execution_count": 115,
   "id": "6f895368-e4a0-42f8-8a94-7fc010456181",
   "metadata": {},
   "outputs": [],
   "source": [
    "import os\n",
    "import json\n",
    "import csv\n",
    "\n",
    "# Set your folder path here\n",
    "folder_path = \"datasets/text datasets/Snopes-claims/Snopes\"\n",
    "\n",
    "# List to hold extracted data\n",
    "extracted_data = []\n",
    "\n",
    "# Loop through all files in the folder\n",
    "for filename in os.listdir(folder_path):\n",
    "    if filename.endswith(\".json\"):\n",
    "        file_path = os.path.join(folder_path, filename)\n",
    "        try:\n",
    "            with open(file_path, 'r', encoding='utf-8') as f:\n",
    "                data = json.load(f)\n",
    "                claim = data.get(\"Claim\", \"\")\n",
    "                description = data.get(\"Description\", \"\")\n",
    "                credibility = data.get(\"Credibility\", \"\")\n",
    "                record = {\n",
    "                    'title' : claim, \n",
    "                    'body' : description, \n",
    "                    'label' : credibility\n",
    "                }\n",
    "                extracted_data.append(record)\n",
    "        except Exception as e:\n",
    "            print(f\"Failed to process {filename}: {e}\")\n",
    "\n",
    "# Convert to DataFrame\n",
    "df = pd.DataFrame(extracted_data)"
   ]
  },
  {
   "cell_type": "code",
   "execution_count": 116,
   "id": "901e27e3-f591-472e-9b2e-8f1e74e4c68b",
   "metadata": {},
   "outputs": [
    {
     "data": {
      "text/html": [
       "<div>\n",
       "<style scoped>\n",
       "    .dataframe tbody tr th:only-of-type {\n",
       "        vertical-align: middle;\n",
       "    }\n",
       "\n",
       "    .dataframe tbody tr th {\n",
       "        vertical-align: top;\n",
       "    }\n",
       "\n",
       "    .dataframe thead th {\n",
       "        text-align: right;\n",
       "    }\n",
       "</style>\n",
       "<table border=\"1\" class=\"dataframe\">\n",
       "  <thead>\n",
       "    <tr style=\"text-align: right;\">\n",
       "      <th></th>\n",
       "      <th>title</th>\n",
       "      <th>body</th>\n",
       "      <th>label</th>\n",
       "    </tr>\n",
       "  </thead>\n",
       "  <tbody>\n",
       "    <tr>\n",
       "      <th>0</th>\n",
       "      <td>The \"Affordable Golf Club Act\" requires all U....</td>\n",
       "      <td>The Obama administration has passed a new law ...</td>\n",
       "      <td>false</td>\n",
       "    </tr>\n",
       "    <tr>\n",
       "      <th>1</th>\n",
       "      <td>The magnitude of the 17 January 1994 Northridg...</td>\n",
       "      <td>It was devastatingly awful. Folks were shocked...</td>\n",
       "      <td>false</td>\n",
       "    </tr>\n",
       "    <tr>\n",
       "      <th>2</th>\n",
       "      <td>Photographs show a man decapitated by a wrough...</td>\n",
       "      <td>Despite assertions to the contrary, it is not ...</td>\n",
       "      <td>true</td>\n",
       "    </tr>\n",
       "    <tr>\n",
       "      <th>3</th>\n",
       "      <td>Australian programmers added armed kangaroos t...</td>\n",
       "      <td>As revealed by Dr. Anne-Marie Grisogono, head ...</td>\n",
       "      <td>true</td>\n",
       "    </tr>\n",
       "    <tr>\n",
       "      <th>4</th>\n",
       "      <td>Posting a legal notice on your Facebook wall w...</td>\n",
       "      <td>First off, the \"problem\" this ineffective solu...</td>\n",
       "      <td>false</td>\n",
       "    </tr>\n",
       "  </tbody>\n",
       "</table>\n",
       "</div>"
      ],
      "text/plain": [
       "                                               title  \\\n",
       "0  The \"Affordable Golf Club Act\" requires all U....   \n",
       "1  The magnitude of the 17 January 1994 Northridg...   \n",
       "2  Photographs show a man decapitated by a wrough...   \n",
       "3  Australian programmers added armed kangaroos t...   \n",
       "4  Posting a legal notice on your Facebook wall w...   \n",
       "\n",
       "                                                body  label  \n",
       "0  The Obama administration has passed a new law ...  false  \n",
       "1  It was devastatingly awful. Folks were shocked...  false  \n",
       "2  Despite assertions to the contrary, it is not ...   true  \n",
       "3  As revealed by Dr. Anne-Marie Grisogono, head ...   true  \n",
       "4  First off, the \"problem\" this ineffective solu...  false  "
      ]
     },
     "execution_count": 116,
     "metadata": {},
     "output_type": "execute_result"
    }
   ],
   "source": [
    "df.head()"
   ]
  },
  {
   "cell_type": "code",
   "execution_count": 117,
   "id": "a693319f-2a30-4c3b-9b4e-7ebc6ab7e461",
   "metadata": {},
   "outputs": [
    {
     "data": {
      "text/plain": [
       "label\n",
       "false           3344\n",
       "true            1249\n",
       "mostly false      92\n",
       "mostly true       28\n",
       "Name: count, dtype: int64"
      ]
     },
     "execution_count": 117,
     "metadata": {},
     "output_type": "execute_result"
    }
   ],
   "source": [
    "df.label.value_counts()"
   ]
  },
  {
   "cell_type": "markdown",
   "id": "7131d1ef-c7c3-472e-b962-01155f5c1527",
   "metadata": {},
   "source": [
    "## 57- Snopes-rumors"
   ]
  },
  {
   "cell_type": "code",
   "execution_count": 120,
   "id": "18a0d893-aece-43bc-945f-52301832f69f",
   "metadata": {},
   "outputs": [],
   "source": [
    "column_names = [\"Claim Text\", \"Veracity\", \"Category\", \"Published Date\"]\n",
    "sr = pd.read_csv('datasets/text datasets/Snopes-rumors.tsv', sep='\\t', names=column_names)"
   ]
  },
  {
   "cell_type": "code",
   "execution_count": 121,
   "id": "771244d5-154b-462b-99b6-9bc59911e4a7",
   "metadata": {},
   "outputs": [
    {
     "data": {
      "text/html": [
       "<div>\n",
       "<style scoped>\n",
       "    .dataframe tbody tr th:only-of-type {\n",
       "        vertical-align: middle;\n",
       "    }\n",
       "\n",
       "    .dataframe tbody tr th {\n",
       "        vertical-align: top;\n",
       "    }\n",
       "\n",
       "    .dataframe thead th {\n",
       "        text-align: right;\n",
       "    }\n",
       "</style>\n",
       "<table border=\"1\" class=\"dataframe\">\n",
       "  <thead>\n",
       "    <tr style=\"text-align: right;\">\n",
       "      <th></th>\n",
       "      <th>Claim Text</th>\n",
       "      <th>Veracity</th>\n",
       "      <th>Category</th>\n",
       "      <th>Published Date</th>\n",
       "    </tr>\n",
       "  </thead>\n",
       "  <tbody>\n",
       "    <tr>\n",
       "      <th>0</th>\n",
       "      <td>Claim Text  Veracity  Category  Published Date</td>\n",
       "      <td>NaN</td>\n",
       "      <td>NaN</td>\n",
       "      <td>NaN</td>\n",
       "    </tr>\n",
       "    <tr>\n",
       "      <th>1</th>\n",
       "      <td>JUULing, or use of a JUUL e-cigarette, has cau...</td>\n",
       "      <td>False</td>\n",
       "      <td>Medical</td>\n",
       "      <td>2018-03-09</td>\n",
       "    </tr>\n",
       "    <tr>\n",
       "      <th>2</th>\n",
       "      <td>Tee markers emblazoned with the U.S. president...</td>\n",
       "      <td>True</td>\n",
       "      <td>Politicians</td>\n",
       "      <td>2018-03-08</td>\n",
       "    </tr>\n",
       "    <tr>\n",
       "      <th>3</th>\n",
       "      <td>The U.S. has a global trade deficit of $800 bi...</td>\n",
       "      <td>False</td>\n",
       "      <td>Politics</td>\n",
       "      <td>2018-03-09</td>\n",
       "    </tr>\n",
       "    <tr>\n",
       "      <th>4</th>\n",
       "      <td>London closed 500 churches and opened 423 new ...</td>\n",
       "      <td>False</td>\n",
       "      <td>Religion</td>\n",
       "      <td>2018-03-08</td>\n",
       "    </tr>\n",
       "  </tbody>\n",
       "</table>\n",
       "</div>"
      ],
      "text/plain": [
       "                                          Claim Text Veracity     Category  \\\n",
       "0     Claim Text  Veracity  Category  Published Date      NaN          NaN   \n",
       "1  JUULing, or use of a JUUL e-cigarette, has cau...    False      Medical   \n",
       "2  Tee markers emblazoned with the U.S. president...     True  Politicians   \n",
       "3  The U.S. has a global trade deficit of $800 bi...    False     Politics   \n",
       "4  London closed 500 churches and opened 423 new ...    False     Religion   \n",
       "\n",
       "  Published Date  \n",
       "0            NaN  \n",
       "1     2018-03-09  \n",
       "2     2018-03-08  \n",
       "3     2018-03-09  \n",
       "4     2018-03-08  "
      ]
     },
     "execution_count": 121,
     "metadata": {},
     "output_type": "execute_result"
    }
   ],
   "source": [
    "sr.head()"
   ]
  },
  {
   "cell_type": "code",
   "execution_count": 122,
   "id": "806f6957-d413-4aa8-aebb-3d165be5fc48",
   "metadata": {},
   "outputs": [
    {
     "data": {
      "text/plain": [
       "Veracity\n",
       "False    5758\n",
       "True     1699\n",
       "Name: count, dtype: int64"
      ]
     },
     "execution_count": 122,
     "metadata": {},
     "output_type": "execute_result"
    }
   ],
   "source": [
    "sr.Veracity.value_counts()"
   ]
  },
  {
   "cell_type": "code",
   "execution_count": 123,
   "id": "5e6f10aa-a41c-4dc0-b7f2-2b1d6be719fe",
   "metadata": {},
   "outputs": [],
   "source": [
    "# skipping 58"
   ]
  },
  {
   "cell_type": "markdown",
   "id": "1dd73b0f-116b-4831-8468-50e7b3fcd5aa",
   "metadata": {},
   "source": [
    "## 59- Spanish-Political-News"
   ]
  },
  {
   "cell_type": "code",
   "execution_count": 125,
   "id": "f7a8c676-da1c-4a23-8088-729e73431795",
   "metadata": {},
   "outputs": [],
   "source": [
    "spn = pd.read_csv('datasets/text datasets/spanish-political-fake-news.csv', sep=';')"
   ]
  },
  {
   "cell_type": "code",
   "execution_count": 126,
   "id": "c38b6eaa-86eb-417c-9132-c5668fa00cac",
   "metadata": {},
   "outputs": [
    {
     "data": {
      "text/html": [
       "<div>\n",
       "<style scoped>\n",
       "    .dataframe tbody tr th:only-of-type {\n",
       "        vertical-align: middle;\n",
       "    }\n",
       "\n",
       "    .dataframe tbody tr th {\n",
       "        vertical-align: top;\n",
       "    }\n",
       "\n",
       "    .dataframe thead th {\n",
       "        text-align: right;\n",
       "    }\n",
       "</style>\n",
       "<table border=\"1\" class=\"dataframe\">\n",
       "  <thead>\n",
       "    <tr style=\"text-align: right;\">\n",
       "      <th></th>\n",
       "      <th>ID</th>\n",
       "      <th>Label</th>\n",
       "      <th>Titulo</th>\n",
       "      <th>Descripcion</th>\n",
       "      <th>Fecha</th>\n",
       "    </tr>\n",
       "  </thead>\n",
       "  <tbody>\n",
       "    <tr>\n",
       "      <th>0</th>\n",
       "      <td>ID</td>\n",
       "      <td>1</td>\n",
       "      <td>Moreno intenta apaciguar el flanco sanitario m...</td>\n",
       "      <td>El presidente abre la puerta a unos comicios e...</td>\n",
       "      <td>19/04/2022</td>\n",
       "    </tr>\n",
       "    <tr>\n",
       "      <th>1</th>\n",
       "      <td>ID</td>\n",
       "      <td>1</td>\n",
       "      <td>La Abogacía del Estado se retira como acusació...</td>\n",
       "      <td>En un escrito, la abogada del Estado Rosa Marí...</td>\n",
       "      <td>17/09/2021</td>\n",
       "    </tr>\n",
       "    <tr>\n",
       "      <th>2</th>\n",
       "      <td>ID</td>\n",
       "      <td>0</td>\n",
       "      <td>Las promesas incumplidas de Pablo Echenique en...</td>\n",
       "      <td>Este lunes y martes la Asamblea de Madrid acog...</td>\n",
       "      <td>12/09/2022</td>\n",
       "    </tr>\n",
       "    <tr>\n",
       "      <th>3</th>\n",
       "      <td>ID</td>\n",
       "      <td>1</td>\n",
       "      <td>Sánchez defiende 'resolver el problema' de la ...</td>\n",
       "      <td>Resulta evidente que la ley ha tenido algunos ...</td>\n",
       "      <td>07/02/2023</td>\n",
       "    </tr>\n",
       "    <tr>\n",
       "      <th>4</th>\n",
       "      <td>ID</td>\n",
       "      <td>1</td>\n",
       "      <td>Ian Gibson cierra la lista electoral de la con...</td>\n",
       "      <td>El hispanista, que ya ocupó un puesto simbólic...</td>\n",
       "      <td>12/04/2023</td>\n",
       "    </tr>\n",
       "  </tbody>\n",
       "</table>\n",
       "</div>"
      ],
      "text/plain": [
       "   ID  Label                                             Titulo  \\\n",
       "0  ID      1  Moreno intenta apaciguar el flanco sanitario m...   \n",
       "1  ID      1  La Abogacía del Estado se retira como acusació...   \n",
       "2  ID      0  Las promesas incumplidas de Pablo Echenique en...   \n",
       "3  ID      1  Sánchez defiende 'resolver el problema' de la ...   \n",
       "4  ID      1  Ian Gibson cierra la lista electoral de la con...   \n",
       "\n",
       "                                         Descripcion       Fecha  \n",
       "0  El presidente abre la puerta a unos comicios e...  19/04/2022  \n",
       "1  En un escrito, la abogada del Estado Rosa Marí...  17/09/2021  \n",
       "2  Este lunes y martes la Asamblea de Madrid acog...  12/09/2022  \n",
       "3  Resulta evidente que la ley ha tenido algunos ...  07/02/2023  \n",
       "4  El hispanista, que ya ocupó un puesto simbólic...  12/04/2023  "
      ]
     },
     "execution_count": 126,
     "metadata": {},
     "output_type": "execute_result"
    }
   ],
   "source": [
    "spn.head()"
   ]
  },
  {
   "cell_type": "code",
   "execution_count": 127,
   "id": "7ff3e094-9771-4840-a7c1-ac14dce99dba",
   "metadata": {},
   "outputs": [
    {
     "data": {
      "text/plain": [
       "Label\n",
       "1    33351\n",
       "0    23880\n",
       "Name: count, dtype: int64"
      ]
     },
     "execution_count": 127,
     "metadata": {},
     "output_type": "execute_result"
    }
   ],
   "source": [
    "spn.Label.value_counts()"
   ]
  },
  {
   "cell_type": "markdown",
   "id": "923d2dcf-5218-49e7-8d07-e4926998f606",
   "metadata": {},
   "source": [
    "## 60- True-and-Fake-News"
   ]
  },
  {
   "cell_type": "code",
   "execution_count": 10,
   "id": "eedd7a49-6774-46e5-8911-3af5f1f1413c",
   "metadata": {},
   "outputs": [],
   "source": [
    "column_names = [\"label\", \"text\"]\n",
    "true_fake_election = pd.read_csv('datasets/text datasets/True-and-Fake-News/DTN_data/2016_election/cnews.train.txt', sep='#', header=None, names=column_names)\n",
    "true_fake_brexit = pd.read_csv('datasets/text datasets/True-and-Fake-News/DTN_data/brexit/cnews.train.txt', sep=\"#\", header=None, names=column_names)"
   ]
  },
  {
   "cell_type": "code",
   "execution_count": 11,
   "id": "6e5271f0-6210-4308-9286-27315677ac1d",
   "metadata": {},
   "outputs": [
    {
     "data": {
      "text/html": [
       "<div>\n",
       "<style scoped>\n",
       "    .dataframe tbody tr th:only-of-type {\n",
       "        vertical-align: middle;\n",
       "    }\n",
       "\n",
       "    .dataframe tbody tr th {\n",
       "        vertical-align: top;\n",
       "    }\n",
       "\n",
       "    .dataframe thead th {\n",
       "        text-align: right;\n",
       "    }\n",
       "</style>\n",
       "<table border=\"1\" class=\"dataframe\">\n",
       "  <thead>\n",
       "    <tr style=\"text-align: right;\">\n",
       "      <th></th>\n",
       "      <th>label</th>\n",
       "      <th>text</th>\n",
       "    </tr>\n",
       "  </thead>\n",
       "  <tbody>\n",
       "    <tr>\n",
       "      <th>0</th>\n",
       "      <td>fake</td>\n",
       "      <td>They\\tpay\\tinterest\\t</td>\n",
       "    </tr>\n",
       "    <tr>\n",
       "      <th>1</th>\n",
       "      <td>fake</td>\n",
       "      <td>Chapman Square\\tis in\\tPortland\\t</td>\n",
       "    </tr>\n",
       "    <tr>\n",
       "      <th>2</th>\n",
       "      <td>fake</td>\n",
       "      <td>State base\\tis at\\tIslamic\\tBlacklisted News I...</td>\n",
       "    </tr>\n",
       "    <tr>\n",
       "      <th>3</th>\n",
       "      <td>fake</td>\n",
       "      <td>Tom Luongo\\tBy\\tOpen Market Committee\\t</td>\n",
       "    </tr>\n",
       "    <tr>\n",
       "      <th>4</th>\n",
       "      <td>fake</td>\n",
       "      <td>one million illegal alien Muslim colonizers\\ti...</td>\n",
       "    </tr>\n",
       "  </tbody>\n",
       "</table>\n",
       "</div>"
      ],
      "text/plain": [
       "  label                                               text\n",
       "0  fake                              They\\tpay\\tinterest\\t\n",
       "1  fake                  Chapman Square\\tis in\\tPortland\\t\n",
       "2  fake  State base\\tis at\\tIslamic\\tBlacklisted News I...\n",
       "3  fake            Tom Luongo\\tBy\\tOpen Market Committee\\t\n",
       "4  fake  one million illegal alien Muslim colonizers\\ti..."
      ]
     },
     "execution_count": 11,
     "metadata": {},
     "output_type": "execute_result"
    }
   ],
   "source": [
    "true_fake_election.head()"
   ]
  },
  {
   "cell_type": "code",
   "execution_count": 13,
   "id": "63e25c19-689e-4ac5-90ea-9921567f8ff9",
   "metadata": {},
   "outputs": [],
   "source": [
    "true_fake_election = true_fake_election.map(lambda x: x.replace('\\t', ' ') if isinstance(x, str) else x)"
   ]
  },
  {
   "cell_type": "code",
   "execution_count": 14,
   "id": "ddc561bf-2ab4-4396-b64e-309666122ab8",
   "metadata": {},
   "outputs": [
    {
     "data": {
      "text/html": [
       "<div>\n",
       "<style scoped>\n",
       "    .dataframe tbody tr th:only-of-type {\n",
       "        vertical-align: middle;\n",
       "    }\n",
       "\n",
       "    .dataframe tbody tr th {\n",
       "        vertical-align: top;\n",
       "    }\n",
       "\n",
       "    .dataframe thead th {\n",
       "        text-align: right;\n",
       "    }\n",
       "</style>\n",
       "<table border=\"1\" class=\"dataframe\">\n",
       "  <thead>\n",
       "    <tr style=\"text-align: right;\">\n",
       "      <th></th>\n",
       "      <th>label</th>\n",
       "      <th>text</th>\n",
       "    </tr>\n",
       "  </thead>\n",
       "  <tbody>\n",
       "    <tr>\n",
       "      <th>0</th>\n",
       "      <td>fake</td>\n",
       "      <td>They pay interest</td>\n",
       "    </tr>\n",
       "    <tr>\n",
       "      <th>1</th>\n",
       "      <td>fake</td>\n",
       "      <td>Chapman Square is in Portland</td>\n",
       "    </tr>\n",
       "    <tr>\n",
       "      <th>2</th>\n",
       "      <td>fake</td>\n",
       "      <td>State base is at Islamic Blacklisted News Iraq...</td>\n",
       "    </tr>\n",
       "    <tr>\n",
       "      <th>3</th>\n",
       "      <td>fake</td>\n",
       "      <td>Tom Luongo By Open Market Committee</td>\n",
       "    </tr>\n",
       "    <tr>\n",
       "      <th>4</th>\n",
       "      <td>fake</td>\n",
       "      <td>one million illegal alien Muslim colonizers is...</td>\n",
       "    </tr>\n",
       "  </tbody>\n",
       "</table>\n",
       "</div>"
      ],
      "text/plain": [
       "  label                                               text\n",
       "0  fake                                 They pay interest \n",
       "1  fake                     Chapman Square is in Portland \n",
       "2  fake  State base is at Islamic Blacklisted News Iraq...\n",
       "3  fake               Tom Luongo By Open Market Committee \n",
       "4  fake  one million illegal alien Muslim colonizers is..."
      ]
     },
     "execution_count": 14,
     "metadata": {},
     "output_type": "execute_result"
    }
   ],
   "source": [
    "true_fake_election.head()"
   ]
  },
  {
   "cell_type": "code",
   "execution_count": 15,
   "id": "ba9eef25-a3d3-443a-836c-8cadd99f0305",
   "metadata": {},
   "outputs": [
    {
     "data": {
      "text/plain": [
       "label\n",
       "fake    750\n",
       "true    750\n",
       "Name: count, dtype: int64"
      ]
     },
     "execution_count": 15,
     "metadata": {},
     "output_type": "execute_result"
    }
   ],
   "source": [
    "true_fake_election.label.value_counts()"
   ]
  },
  {
   "cell_type": "code",
   "execution_count": 16,
   "id": "2b825045-7e68-4b4f-9e9a-e67a834f26ac",
   "metadata": {},
   "outputs": [
    {
     "data": {
      "text/html": [
       "<div>\n",
       "<style scoped>\n",
       "    .dataframe tbody tr th:only-of-type {\n",
       "        vertical-align: middle;\n",
       "    }\n",
       "\n",
       "    .dataframe tbody tr th {\n",
       "        vertical-align: top;\n",
       "    }\n",
       "\n",
       "    .dataframe thead th {\n",
       "        text-align: right;\n",
       "    }\n",
       "</style>\n",
       "<table border=\"1\" class=\"dataframe\">\n",
       "  <thead>\n",
       "    <tr style=\"text-align: right;\">\n",
       "      <th></th>\n",
       "      <th>label</th>\n",
       "      <th>text</th>\n",
       "    </tr>\n",
       "  </thead>\n",
       "  <tbody>\n",
       "    <tr>\n",
       "      <th>0</th>\n",
       "      <td>fake</td>\n",
       "      <td>Bill received assent from Queen blow is devast...</td>\n",
       "    </tr>\n",
       "    <tr>\n",
       "      <th>1</th>\n",
       "      <td>fake</td>\n",
       "      <td>Donald Trump just become America Donald Trump ...</td>\n",
       "    </tr>\n",
       "    <tr>\n",
       "      <th>2</th>\n",
       "      <td>fake</td>\n",
       "      <td>Jean-Claude Juncker has stated pushing Europea...</td>\n",
       "    </tr>\n",
       "    <tr>\n",
       "      <th>3</th>\n",
       "      <td>fake</td>\n",
       "      <td>EU form new alliance alliance is new EU is Maj...</td>\n",
       "    </tr>\n",
       "    <tr>\n",
       "      <th>4</th>\n",
       "      <td>fake</td>\n",
       "      <td>it cut interest rates to new historic low it c...</td>\n",
       "    </tr>\n",
       "  </tbody>\n",
       "</table>\n",
       "</div>"
      ],
      "text/plain": [
       "  label                                               text\n",
       "0  fake  Bill received assent from Queen blow is devast...\n",
       "1  fake  Donald Trump just become America Donald Trump ...\n",
       "2  fake  Jean-Claude Juncker has stated pushing Europea...\n",
       "3  fake  EU form new alliance alliance is new EU is Maj...\n",
       "4  fake  it cut interest rates to new historic low it c..."
      ]
     },
     "execution_count": 16,
     "metadata": {},
     "output_type": "execute_result"
    }
   ],
   "source": [
    "true_fake_brexit = true_fake_brexit.map(lambda x: x.replace('\\t', ' ') if isinstance(x, str) else x)\n",
    "true_fake_brexit.head()"
   ]
  },
  {
   "cell_type": "code",
   "execution_count": 17,
   "id": "72fa1423-9da6-4d53-bb5b-f31cc7157ea0",
   "metadata": {},
   "outputs": [
    {
     "data": {
      "text/plain": [
       "label\n",
       "fake    1000\n",
       "true    1000\n",
       "Name: count, dtype: int64"
      ]
     },
     "execution_count": 17,
     "metadata": {},
     "output_type": "execute_result"
    }
   ],
   "source": [
    "true_fake_brexit.label.value_counts()"
   ]
  },
  {
   "cell_type": "markdown",
   "id": "0d534045-d84e-4080-bedd-6659b7228194",
   "metadata": {},
   "source": [
    "## 61- Truth-seeker-2024"
   ]
  },
  {
   "cell_type": "code",
   "execution_count": 20,
   "id": "11c096ce-bc06-45a2-bcce-536d9a5832d7",
   "metadata": {},
   "outputs": [],
   "source": [
    "truth_seeker = pd.read_csv('datasets/text datasets/TruthSeeker2024/TruthSeeker2023/Truth_Seeker_Model_Dataset.csv', index_col='Unnamed: 0')"
   ]
  },
  {
   "cell_type": "code",
   "execution_count": 21,
   "id": "a920f8e4-b00b-4b3a-ab0d-0ed3d273f1bc",
   "metadata": {},
   "outputs": [
    {
     "data": {
      "text/html": [
       "<div>\n",
       "<style scoped>\n",
       "    .dataframe tbody tr th:only-of-type {\n",
       "        vertical-align: middle;\n",
       "    }\n",
       "\n",
       "    .dataframe tbody tr th {\n",
       "        vertical-align: top;\n",
       "    }\n",
       "\n",
       "    .dataframe thead th {\n",
       "        text-align: right;\n",
       "    }\n",
       "</style>\n",
       "<table border=\"1\" class=\"dataframe\">\n",
       "  <thead>\n",
       "    <tr style=\"text-align: right;\">\n",
       "      <th></th>\n",
       "      <th>author</th>\n",
       "      <th>statement</th>\n",
       "      <th>target</th>\n",
       "      <th>BinaryNumTarget</th>\n",
       "      <th>manual_keywords</th>\n",
       "      <th>tweet</th>\n",
       "      <th>5_label_majority_answer</th>\n",
       "      <th>3_label_majority_answer</th>\n",
       "    </tr>\n",
       "  </thead>\n",
       "  <tbody>\n",
       "    <tr>\n",
       "      <th>0</th>\n",
       "      <td>D.L. Davis</td>\n",
       "      <td>End of eviction moratorium means millions of A...</td>\n",
       "      <td>True</td>\n",
       "      <td>1.0</td>\n",
       "      <td>Americans, eviction moratorium</td>\n",
       "      <td>@POTUS Biden Blunders - 6 Month Update\\n\\nInfl...</td>\n",
       "      <td>Mostly Agree</td>\n",
       "      <td>Agree</td>\n",
       "    </tr>\n",
       "    <tr>\n",
       "      <th>1</th>\n",
       "      <td>D.L. Davis</td>\n",
       "      <td>End of eviction moratorium means millions of A...</td>\n",
       "      <td>True</td>\n",
       "      <td>1.0</td>\n",
       "      <td>Americans, eviction moratorium</td>\n",
       "      <td>@S0SickRick @Stairmaster_ @6d6f636869 Not as m...</td>\n",
       "      <td>NO MAJORITY</td>\n",
       "      <td>Agree</td>\n",
       "    </tr>\n",
       "    <tr>\n",
       "      <th>2</th>\n",
       "      <td>D.L. Davis</td>\n",
       "      <td>End of eviction moratorium means millions of A...</td>\n",
       "      <td>True</td>\n",
       "      <td>1.0</td>\n",
       "      <td>Americans, eviction moratorium</td>\n",
       "      <td>THE SUPREME COURT is siding with super rich pr...</td>\n",
       "      <td>Agree</td>\n",
       "      <td>Agree</td>\n",
       "    </tr>\n",
       "    <tr>\n",
       "      <th>3</th>\n",
       "      <td>D.L. Davis</td>\n",
       "      <td>End of eviction moratorium means millions of A...</td>\n",
       "      <td>True</td>\n",
       "      <td>1.0</td>\n",
       "      <td>Americans, eviction moratorium</td>\n",
       "      <td>@POTUS Biden Blunders\\n\\nBroken campaign promi...</td>\n",
       "      <td>Mostly Agree</td>\n",
       "      <td>Agree</td>\n",
       "    </tr>\n",
       "    <tr>\n",
       "      <th>4</th>\n",
       "      <td>D.L. Davis</td>\n",
       "      <td>End of eviction moratorium means millions of A...</td>\n",
       "      <td>True</td>\n",
       "      <td>1.0</td>\n",
       "      <td>Americans, eviction moratorium</td>\n",
       "      <td>@OhComfy I agree. The confluence of events rig...</td>\n",
       "      <td>Agree</td>\n",
       "      <td>Agree</td>\n",
       "    </tr>\n",
       "  </tbody>\n",
       "</table>\n",
       "</div>"
      ],
      "text/plain": [
       "       author                                          statement  target  \\\n",
       "0  D.L. Davis  End of eviction moratorium means millions of A...    True   \n",
       "1  D.L. Davis  End of eviction moratorium means millions of A...    True   \n",
       "2  D.L. Davis  End of eviction moratorium means millions of A...    True   \n",
       "3  D.L. Davis  End of eviction moratorium means millions of A...    True   \n",
       "4  D.L. Davis  End of eviction moratorium means millions of A...    True   \n",
       "\n",
       "   BinaryNumTarget                 manual_keywords  \\\n",
       "0              1.0  Americans, eviction moratorium   \n",
       "1              1.0  Americans, eviction moratorium   \n",
       "2              1.0  Americans, eviction moratorium   \n",
       "3              1.0  Americans, eviction moratorium   \n",
       "4              1.0  Americans, eviction moratorium   \n",
       "\n",
       "                                               tweet 5_label_majority_answer  \\\n",
       "0  @POTUS Biden Blunders - 6 Month Update\\n\\nInfl...            Mostly Agree   \n",
       "1  @S0SickRick @Stairmaster_ @6d6f636869 Not as m...             NO MAJORITY   \n",
       "2  THE SUPREME COURT is siding with super rich pr...                   Agree   \n",
       "3  @POTUS Biden Blunders\\n\\nBroken campaign promi...            Mostly Agree   \n",
       "4  @OhComfy I agree. The confluence of events rig...                   Agree   \n",
       "\n",
       "  3_label_majority_answer  \n",
       "0                   Agree  \n",
       "1                   Agree  \n",
       "2                   Agree  \n",
       "3                   Agree  \n",
       "4                   Agree  "
      ]
     },
     "execution_count": 21,
     "metadata": {},
     "output_type": "execute_result"
    }
   ],
   "source": [
    "truth_seeker.head()"
   ]
  },
  {
   "cell_type": "code",
   "execution_count": 25,
   "id": "db19f8b5-2379-4a02-b605-3bd5ce539923",
   "metadata": {},
   "outputs": [
    {
     "data": {
      "text/plain": [
       "target\n",
       "True     68930\n",
       "False    65268\n",
       "Name: count, dtype: int64"
      ]
     },
     "execution_count": 25,
     "metadata": {},
     "output_type": "execute_result"
    }
   ],
   "source": [
    "truth_seeker.target.value_counts()"
   ]
  },
  {
   "cell_type": "code",
   "execution_count": 23,
   "id": "1bc8812c-f087-4046-b686-ce8e2e1f5015",
   "metadata": {},
   "outputs": [],
   "source": [
    "# skipped 62"
   ]
  },
  {
   "cell_type": "markdown",
   "id": "d93ddb62-d4ec-400e-aa5a-b153f1c71a76",
   "metadata": {},
   "source": [
    "## 63 - UFN-Urdu-Fake-News"
   ]
  },
  {
   "cell_type": "code",
   "execution_count": 2,
   "id": "1dfa8a95-94ad-45f7-93a0-732412ea74f3",
   "metadata": {},
   "outputs": [
    {
     "name": "stdout",
     "output_type": "stream",
     "text": [
      "                                                text  label\n",
      "0  ہلیری عالمی جنگ III کیوں نہیں اٹھیں گی - پیپے ...      0\n",
      "1  بلی آف اندام نہانی (گندی عورت) کے ذریعہ سیاہ ف...      0\n",
      "2  این بی اے ٹیم نے ترانہ گلوکارہ کو عدالت میں مت...      0\n",
      "3  31 اکتوبر ، 2016 کے ہفتے کے لئے بلیک ایجنڈا کی...      0\n",
      "4  ٹرمپ ٹاور نے گھیرے میں ڈمپ ٹرک پر تشدد کی پیش ...      0\n"
     ]
    }
   ],
   "source": [
    "import os\n",
    "import pandas as pd\n",
    "\n",
    "# Set the parent directory containing folders '0' and '1'\n",
    "parent_dir = 'datasets/text datasets/UFN-Urdu-Fake-News/UFN-Urdu-Fake-News/Urdu-Fake-News-master/UFN/UFN'  # <- Replace this with your actual path\n",
    "\n",
    "data = []\n",
    "\n",
    "# Loop through folders labeled '0' and '1'\n",
    "for label in ['0', '1']:\n",
    "    folder_path = os.path.join(parent_dir, label)\n",
    "    \n",
    "    for filename in os.listdir(folder_path):\n",
    "        file_path = os.path.join(folder_path, filename)\n",
    "        \n",
    "        # Read only text files\n",
    "        if os.path.isfile(file_path) and filename.endswith('.txt'):\n",
    "            with open(file_path, 'r', encoding='utf-8') as file:\n",
    "                text = file.read().replace('\\t', ' ')  # Optional: remove tabs\n",
    "                data.append({'text': text, 'label': int(label)})\n",
    "\n",
    "# Create DataFrame\n",
    "df = pd.DataFrame(data)"
   ]
  },
  {
   "cell_type": "code",
   "execution_count": 3,
   "id": "991cdb71-cd50-477a-bfc4-43231e4fc07d",
   "metadata": {},
   "outputs": [
    {
     "data": {
      "text/html": [
       "<div>\n",
       "<style scoped>\n",
       "    .dataframe tbody tr th:only-of-type {\n",
       "        vertical-align: middle;\n",
       "    }\n",
       "\n",
       "    .dataframe tbody tr th {\n",
       "        vertical-align: top;\n",
       "    }\n",
       "\n",
       "    .dataframe thead th {\n",
       "        text-align: right;\n",
       "    }\n",
       "</style>\n",
       "<table border=\"1\" class=\"dataframe\">\n",
       "  <thead>\n",
       "    <tr style=\"text-align: right;\">\n",
       "      <th></th>\n",
       "      <th>text</th>\n",
       "      <th>label</th>\n",
       "    </tr>\n",
       "  </thead>\n",
       "  <tbody>\n",
       "    <tr>\n",
       "      <th>0</th>\n",
       "      <td>ہلیری عالمی جنگ III کیوں نہیں اٹھیں گی - پیپے ...</td>\n",
       "      <td>0</td>\n",
       "    </tr>\n",
       "    <tr>\n",
       "      <th>1</th>\n",
       "      <td>بلی آف اندام نہانی (گندی عورت) کے ذریعہ سیاہ ف...</td>\n",
       "      <td>0</td>\n",
       "    </tr>\n",
       "    <tr>\n",
       "      <th>2</th>\n",
       "      <td>این بی اے ٹیم نے ترانہ گلوکارہ کو عدالت میں مت...</td>\n",
       "      <td>0</td>\n",
       "    </tr>\n",
       "    <tr>\n",
       "      <th>3</th>\n",
       "      <td>31 اکتوبر ، 2016 کے ہفتے کے لئے بلیک ایجنڈا کی...</td>\n",
       "      <td>0</td>\n",
       "    </tr>\n",
       "    <tr>\n",
       "      <th>4</th>\n",
       "      <td>ٹرمپ ٹاور نے گھیرے میں ڈمپ ٹرک پر تشدد کی پیش ...</td>\n",
       "      <td>0</td>\n",
       "    </tr>\n",
       "  </tbody>\n",
       "</table>\n",
       "</div>"
      ],
      "text/plain": [
       "                                                text  label\n",
       "0  ہلیری عالمی جنگ III کیوں نہیں اٹھیں گی - پیپے ...      0\n",
       "1  بلی آف اندام نہانی (گندی عورت) کے ذریعہ سیاہ ف...      0\n",
       "2  این بی اے ٹیم نے ترانہ گلوکارہ کو عدالت میں مت...      0\n",
       "3  31 اکتوبر ، 2016 کے ہفتے کے لئے بلیک ایجنڈا کی...      0\n",
       "4  ٹرمپ ٹاور نے گھیرے میں ڈمپ ٹرک پر تشدد کی پیش ...      0"
      ]
     },
     "execution_count": 3,
     "metadata": {},
     "output_type": "execute_result"
    }
   ],
   "source": [
    "df.head()"
   ]
  },
  {
   "cell_type": "code",
   "execution_count": 4,
   "id": "7447a430-61ab-4dd6-9c3f-1c9e4e0d5f1a",
   "metadata": {},
   "outputs": [
    {
     "data": {
      "text/plain": [
       "label\n",
       "0    1032\n",
       "1     968\n",
       "Name: count, dtype: int64"
      ]
     },
     "execution_count": 4,
     "metadata": {},
     "output_type": "execute_result"
    }
   ],
   "source": [
    "df.label.value_counts()"
   ]
  },
  {
   "cell_type": "code",
   "execution_count": 5,
   "id": "f1fc65bc-e069-4223-82dd-46c1e760509a",
   "metadata": {},
   "outputs": [],
   "source": [
    "# skipping 64, 65"
   ]
  },
  {
   "cell_type": "markdown",
   "id": "5384074f-89f7-4df1-a511-911033c5350f",
   "metadata": {},
   "source": [
    "## 66. WELFake"
   ]
  },
  {
   "cell_type": "code",
   "execution_count": 8,
   "id": "3c02495e-9601-4c0b-93f7-a46c071e34fb",
   "metadata": {},
   "outputs": [],
   "source": [
    "wel_fake = pd.read_csv('datasets/text datasets/WELFake/WELFake_Dataset.csv', index_col='Unnamed: 0')"
   ]
  },
  {
   "cell_type": "code",
   "execution_count": 9,
   "id": "a82db0f5-b56a-4e93-9721-297e0f187756",
   "metadata": {},
   "outputs": [
    {
     "data": {
      "text/html": [
       "<div>\n",
       "<style scoped>\n",
       "    .dataframe tbody tr th:only-of-type {\n",
       "        vertical-align: middle;\n",
       "    }\n",
       "\n",
       "    .dataframe tbody tr th {\n",
       "        vertical-align: top;\n",
       "    }\n",
       "\n",
       "    .dataframe thead th {\n",
       "        text-align: right;\n",
       "    }\n",
       "</style>\n",
       "<table border=\"1\" class=\"dataframe\">\n",
       "  <thead>\n",
       "    <tr style=\"text-align: right;\">\n",
       "      <th></th>\n",
       "      <th>title</th>\n",
       "      <th>text</th>\n",
       "      <th>label</th>\n",
       "    </tr>\n",
       "  </thead>\n",
       "  <tbody>\n",
       "    <tr>\n",
       "      <th>0</th>\n",
       "      <td>LAW ENFORCEMENT ON HIGH ALERT Following Threat...</td>\n",
       "      <td>No comment is expected from Barack Obama Membe...</td>\n",
       "      <td>1</td>\n",
       "    </tr>\n",
       "    <tr>\n",
       "      <th>1</th>\n",
       "      <td>NaN</td>\n",
       "      <td>Did they post their votes for Hillary already?</td>\n",
       "      <td>1</td>\n",
       "    </tr>\n",
       "    <tr>\n",
       "      <th>2</th>\n",
       "      <td>UNBELIEVABLE! OBAMA’S ATTORNEY GENERAL SAYS MO...</td>\n",
       "      <td>Now, most of the demonstrators gathered last ...</td>\n",
       "      <td>1</td>\n",
       "    </tr>\n",
       "    <tr>\n",
       "      <th>3</th>\n",
       "      <td>Bobby Jindal, raised Hindu, uses story of Chri...</td>\n",
       "      <td>A dozen politically active pastors came here f...</td>\n",
       "      <td>0</td>\n",
       "    </tr>\n",
       "    <tr>\n",
       "      <th>4</th>\n",
       "      <td>SATAN 2: Russia unvelis an image of its terrif...</td>\n",
       "      <td>The RS-28 Sarmat missile, dubbed Satan 2, will...</td>\n",
       "      <td>1</td>\n",
       "    </tr>\n",
       "  </tbody>\n",
       "</table>\n",
       "</div>"
      ],
      "text/plain": [
       "                                               title  \\\n",
       "0  LAW ENFORCEMENT ON HIGH ALERT Following Threat...   \n",
       "1                                                NaN   \n",
       "2  UNBELIEVABLE! OBAMA’S ATTORNEY GENERAL SAYS MO...   \n",
       "3  Bobby Jindal, raised Hindu, uses story of Chri...   \n",
       "4  SATAN 2: Russia unvelis an image of its terrif...   \n",
       "\n",
       "                                                text  label  \n",
       "0  No comment is expected from Barack Obama Membe...      1  \n",
       "1     Did they post their votes for Hillary already?      1  \n",
       "2   Now, most of the demonstrators gathered last ...      1  \n",
       "3  A dozen politically active pastors came here f...      0  \n",
       "4  The RS-28 Sarmat missile, dubbed Satan 2, will...      1  "
      ]
     },
     "execution_count": 9,
     "metadata": {},
     "output_type": "execute_result"
    }
   ],
   "source": [
    "wel_fake.head()"
   ]
  },
  {
   "cell_type": "code",
   "execution_count": 10,
   "id": "a7fa4df6-a785-4486-8528-6aae69a0ee73",
   "metadata": {},
   "outputs": [
    {
     "data": {
      "text/plain": [
       "label\n",
       "1    37106\n",
       "0    35028\n",
       "Name: count, dtype: int64"
      ]
     },
     "execution_count": 10,
     "metadata": {},
     "output_type": "execute_result"
    }
   ],
   "source": [
    "wel_fake.label.value_counts()"
   ]
  },
  {
   "cell_type": "code",
   "execution_count": null,
   "id": "1c3372ca-f8f3-4a86-aa08-10dbeb7a8b2e",
   "metadata": {},
   "outputs": [],
   "source": []
  }
 ],
 "metadata": {
  "kernelspec": {
   "display_name": "Python 3 (ipykernel)",
   "language": "python",
   "name": "python3"
  },
  "language_info": {
   "codemirror_mode": {
    "name": "ipython",
    "version": 3
   },
   "file_extension": ".py",
   "mimetype": "text/x-python",
   "name": "python",
   "nbconvert_exporter": "python",
   "pygments_lexer": "ipython3",
   "version": "3.10.16"
  }
 },
 "nbformat": 4,
 "nbformat_minor": 5
}
