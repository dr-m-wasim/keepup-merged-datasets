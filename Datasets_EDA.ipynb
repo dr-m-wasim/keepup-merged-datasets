{
 "cells": [
  {
   "cell_type": "code",
   "execution_count": 1,
   "id": "84949252-2fee-46c0-8af2-dbfe7544d7bd",
   "metadata": {},
   "outputs": [],
   "source": [
    "import pandas as pd"
   ]
  },
  {
   "cell_type": "code",
   "execution_count": 2,
   "id": "2ce6f9c8-2646-4c52-9d54-99d57ff0d65e",
   "metadata": {},
   "outputs": [],
   "source": [
    "badbot = pd.read_csv('datasets/text datasets/badbot.csv')"
   ]
  },
  {
   "cell_type": "code",
   "execution_count": 4,
   "id": "e483c687-c408-4fe1-b48c-6ca6d7a8a14e",
   "metadata": {},
   "outputs": [
    {
     "name": "stdout",
     "output_type": "stream",
     "text": [
      "<class 'pandas.core.frame.DataFrame'>\n",
      "RangeIndex: 3984 entries, 0 to 3983\n",
      "Data columns (total 6 columns):\n",
      " #   Column    Non-Null Count  Dtype \n",
      "---  ------    --------------  ----- \n",
      " 0   ID        3984 non-null   int64 \n",
      " 1   URLs      3984 non-null   object\n",
      " 2   Headline  3984 non-null   object\n",
      " 3   Body      3984 non-null   object\n",
      " 4   Label     3984 non-null   int64 \n",
      " 5   Category  3984 non-null   object\n",
      "dtypes: int64(2), object(4)\n",
      "memory usage: 186.9+ KB\n"
     ]
    }
   ],
   "source": [
    "badbot.info()"
   ]
  },
  {
   "cell_type": "code",
   "execution_count": 5,
   "id": "1a29f920-d026-402e-9234-94c391b3df49",
   "metadata": {},
   "outputs": [],
   "source": [
    "all_data = pd.read_csv('datasets/text+image/text+image/all_data.csv')"
   ]
  },
  {
   "cell_type": "code",
   "execution_count": 6,
   "id": "cd130dcb-ae7d-4fa7-85e0-6538bc6674a3",
   "metadata": {},
   "outputs": [
    {
     "name": "stdout",
     "output_type": "stream",
     "text": [
      "<class 'pandas.core.frame.DataFrame'>\n",
      "RangeIndex: 20015 entries, 0 to 20014\n",
      "Data columns (total 54 columns):\n",
      " #   Column              Non-Null Count  Dtype  \n",
      "---  ------              --------------  -----  \n",
      " 0   Unnamed: 0.1        20015 non-null  int64  \n",
      " 1   Unnamed: 0          3171 non-null   float64\n",
      " 2   author              20015 non-null  object \n",
      " 3   comments            16844 non-null  float64\n",
      " 4   country             20015 non-null  object \n",
      " 5   crawled             16844 non-null  object \n",
      " 6   domain_rank         20015 non-null  int64  \n",
      " 7   id                  4903 non-null   float64\n",
      " 8   language            16844 non-null  object \n",
      " 9   likes               16844 non-null  float64\n",
      " 10  main_img_url        20015 non-null  object \n",
      " 11  ord_in_thread       16844 non-null  float64\n",
      " 12  participants_count  16844 non-null  float64\n",
      " 13  published           13514 non-null  object \n",
      " 14  replies_count       16844 non-null  float64\n",
      " 15  shares              16844 non-null  float64\n",
      " 16  site_url            16844 non-null  object \n",
      " 17  spam_score          16844 non-null  float64\n",
      " 18  text                20015 non-null  object \n",
      " 19  thread_title        20015 non-null  object \n",
      " 20  title               20015 non-null  object \n",
      " 21  type                20015 non-null  object \n",
      " 22  uuid                16844 non-null  object \n",
      " 23  caps_title          20015 non-null  int64  \n",
      " 24  caps_thread         20015 non-null  int64  \n",
      " 25  caps_text           20015 non-null  int64  \n",
      " 26  title_len           20015 non-null  int64  \n",
      " 27  thread_len          20015 non-null  int64  \n",
      " 28  text_len            20015 non-null  int64  \n",
      " 29  excl_title          20015 non-null  int64  \n",
      " 30  excl_thread         20015 non-null  int64  \n",
      " 31  excl_text           20015 non-null  int64  \n",
      " 32  first_title         20015 non-null  int64  \n",
      " 33  first_thread        20015 non-null  int64  \n",
      " 34  first_text          20015 non-null  int64  \n",
      " 35  second_title        20015 non-null  int64  \n",
      " 36  second_thread       20015 non-null  int64  \n",
      " 37  second_text         20015 non-null  int64  \n",
      " 38  third_title         20015 non-null  int64  \n",
      " 39  third_thread        20015 non-null  int64  \n",
      " 40  third_text          20015 non-null  int64  \n",
      " 41  anger               20015 non-null  int64  \n",
      " 42  anticipation        20015 non-null  int64  \n",
      " 43  disgust             20015 non-null  int64  \n",
      " 44  fear                20015 non-null  int64  \n",
      " 45  joy                 20015 non-null  int64  \n",
      " 46  sadness             20015 non-null  int64  \n",
      " 47  surprise            20015 non-null  int64  \n",
      " 48  trust               20015 non-null  int64  \n",
      " 49  negative            20015 non-null  int64  \n",
      " 50  positive            20015 non-null  int64  \n",
      " 51  first_all           20015 non-null  int64  \n",
      " 52  second_all          20015 non-null  int64  \n",
      " 53  third_all           20015 non-null  int64  \n",
      "dtypes: float64(9), int64(33), object(12)\n",
      "memory usage: 8.2+ MB\n"
     ]
    }
   ],
   "source": [
    "all_data.info()"
   ]
  },
  {
   "cell_type": "code",
   "execution_count": 9,
   "id": "e387736e-ade2-4569-aa13-b373a9f40dc3",
   "metadata": {},
   "outputs": [
    {
     "data": {
      "text/plain": [
       "array(['real', 'fake'], dtype=object)"
      ]
     },
     "execution_count": 9,
     "metadata": {},
     "output_type": "execute_result"
    }
   ],
   "source": [
    "all_data['type'].unique()"
   ]
  },
  {
   "cell_type": "code",
   "execution_count": 14,
   "id": "1ad6a352-1a73-44af-9685-c45a3c8ea428",
   "metadata": {},
   "outputs": [
    {
     "data": {
      "text/plain": [
       "array([1, 0])"
      ]
     },
     "execution_count": 14,
     "metadata": {},
     "output_type": "execute_result"
    }
   ],
   "source": [
    "badbot.Label.unique()"
   ]
  },
  {
   "cell_type": "code",
   "execution_count": 3,
   "id": "763d2858-2c7c-42e5-88c6-043bf6e07379",
   "metadata": {},
   "outputs": [],
   "source": [
    "FNID_liar = pd.read_csv('datasets/text datasets/FNID-dataset/dataset/fake news detection(LIAR)/liar_dev.csv')"
   ]
  },
  {
   "cell_type": "code",
   "execution_count": 8,
   "id": "7b737a55-0251-4e61-ac60-64b7aa5b7a20",
   "metadata": {},
   "outputs": [
    {
     "data": {
      "text/plain": [
       "id                                                                       827\n",
       "date                                               2008-10-27T00:00:00-04:00\n",
       "speaker                                                            Joe Biden\n",
       "statement                  \"One percent of the American people make over ...\n",
       "sources                    ['http://elsa.berkeley.edu/~saez/pikettyqje.pd...\n",
       "paragraph_based_content    ['In an interview making the rounds on the Int...\n",
       "fullText_based_content     In an interview making the rounds on the Inter...\n",
       "label-liar                                                         half-true\n",
       "Name: 0, dtype: object"
      ]
     },
     "execution_count": 8,
     "metadata": {},
     "output_type": "execute_result"
    }
   ],
   "source": [
    "FNID_liar.iloc[0]"
   ]
  },
  {
   "cell_type": "code",
   "execution_count": 9,
   "id": "12d6e385-32d4-4e11-9bae-4df0b5c3de4f",
   "metadata": {},
   "outputs": [
    {
     "data": {
      "text/plain": [
       "'[\\'In an interview making the rounds on the Internet due to its, let’s say, aggressive tone of questioning, Barbara West of WFTV in Orlando grilled Sen. Joe Biden about Sen. Barack Obama’s tax plan and at one point cited Karl Marx to ask whether Obama’s plan to \"spread the wealth around\" amounted to Marxism.\\', \\'She also asked this doozy: \"Sen. Obama now famously told Joe the Plumber he wanted to spread his wealth around. A Gallup poll showed 84 percent of Americans prefer government focus on improving economic conditions and creating more jobs in the U.S. as opposed to taking steps to distribute wealth. Isn’t Sen. Obama’s comment a potentially crushing political blunder?\"\\', \\'\"Absolutely not,\" Biden answered. \"The only person who has spread the wealth around has been George Bush and John McCain’s tax policy. They have devastated the middle class. ... For the first time since the late 20s, 1 percent of the American people make over 21 percent of all the income in America. That wasn’t the way before George Bush became president.\"\\', \\'In highlighting the growing income disparity for the very wealthy, Biden is citing an analysis of U.S. tax returns published in the\\', \\'Quarterly Journal of Economics\\', \\'in 2005. Updated versions of the report show that in 2006 (the most recently available year) the top 1 percent made 22.8 percent of all the income in the United States.\\', \\'And Biden is correct that it hasn’t been that high since 1928.\\', \\'End of story? Not quite.\\', \\'When Biden says \"that wasn’t the way before George Bush became president,\" some context is in order. The increase became evident long before Bush took office.\\', \\'In 2000, the year Bush won election, the top 1 percent made about 21.5 percent of all the income in the United States. So, 21.5 in 2000 to 22.8 in 2006. An increase, but not huge.\\', \\'And the percentage of income captured by the top 1 percent has risen steadily since the 1970s (when it hovered around 9 percent) and through several presidencies. It began to soar in the 1980s, and reached new heights and grew more quickly during the 1990s administration of Bill Clinton, a Democrat. The number dropped in the early 2000s with the burst of the dot.com bubble, and then steadily increased until 2006. So while some of Bush’s policies have favored the rich, economists say it is not fair for Biden to lay the entire rising income gap at Bush’s feet.\\', \\'\"The big picture is that we have seen dramatic increases (in the percentage of income for the top 1 percent) over the last couple decades,\" said Emmanuel Saez, professor of economics at University of California and a co-author of the study.\\', \\'Saez thinks more attention is being focused on the figures now because during the Clinton administration expansion, the bottom 99 percent captured more than half the growth. During the Bush expansion, real incomes for the bottom 99 percent remained fairly stagnant, while the top 1 percent captured 73 percent of the growth.\\', \\'Bottom line, says Gary Burtless, a senior fellow in economic studies at the Brookings Institution, the bottom 99 percent fared better under the Clinton administration than they did under Bush. Under Clinton, the very rich got richer, as they have under Bush. The difference is that under Clinton, the average salary for the bottom 99 percent increased from $35,500 to nearly $42,000; while under Bush the average salary for the bottom 99 percent has actually gone down $1,100.\\', \\'Economists point to several reasons for the growth in disparity between the very rich and everyone else, including the decline of labor unions, the loss of high-paying manufacturing jobs to cheap labor overseas, rising executive pay, and the relative drop of the minimum wage from 1981 to 2007. While goods and services became more expensive, the minimum wage stayed the same.\\', \\'Bush has, however, exacerbated the after-tax income inequality with tax cuts that disproportionately help the rich, economists said. He also has resisted congressional attempts to cut costs for the working poor, such as by opposing an expansion of a popular children’s health insurance program that he says helps some who don’t need it.\\', \\'Biden cites the number accurately for the amount of income captured by the top 1 percent, and he’s technically right when he says \"that wasn’t the way before George Bush became president.\" It went from 21.5 to 22.8. We allow that there is a more stark difference in how well the lower 99 percent fared, which backs up Biden\\\\\\'s overall point about income disparity growing under Bush. It has, some. But the percent of income caputured by the top 1 percent has risen fairly steadily for decades, and we think it\\\\\\'s misleading for Biden to suggest this disparity didn\\\\\\'t exist before Bush. And so we only give him a Half True.\\']'"
      ]
     },
     "execution_count": 9,
     "metadata": {},
     "output_type": "execute_result"
    }
   ],
   "source": [
    "FNID_liar.iloc[0].paragraph_based_content    "
   ]
  },
  {
   "cell_type": "code",
   "execution_count": 7,
   "id": "b040709c-7e58-4579-bcf2-0278cb20a6db",
   "metadata": {},
   "outputs": [
    {
     "data": {
      "text/plain": [
       "'In an interview making the rounds on the Internet due to its, let’s say, aggressive tone of questioning, Barbara West of WFTV in Orlando grilled Sen. Joe Biden about Sen. Barack Obama’s tax plan and at one point cited Karl Marx to ask whether Obama’s plan to \"spread the wealth around\" amounted to Marxism.\\nShe also asked this doozy: \"Sen. Obama now famously told Joe the Plumber he wanted to spread his wealth around. A Gallup poll showed 84 percent of Americans prefer government focus on improving economic conditions and creating more jobs in the U.S. as opposed to taking steps to distribute wealth. Isn’t Sen. Obama’s comment a potentially crushing political blunder?\"\\n\"Absolutely not,\" Biden answered. \"The only person who has spread the wealth around has been George Bush and John McCain’s tax policy. They have devastated the middle class. ... For the first time since the late 20s, 1 percent of the American people make over 21 percent of all the income in America. That wasn’t the way before George Bush became president.\"\\nIn highlighting the growing income disparity for the very wealthy, Biden is citing an analysis of U.S. tax returns published in the\\nQuarterly Journal of Economics\\nin 2005. Updated versions of the report show that in 2006 (the most recently available year) the top 1 percent made 22.8 percent of all the income in the United States.\\nAnd Biden is correct that it hasn’t been that high since 1928.\\nEnd of story? Not quite.\\nWhen Biden says \"that wasn’t the way before George Bush became president,\" some context is in order. The increase became evident long before Bush took office.\\nIn 2000, the year Bush won election, the top 1 percent made about 21.5 percent of all the income in the United States. So, 21.5 in 2000 to 22.8 in 2006. An increase, but not huge.\\nAnd the percentage of income captured by the top 1 percent has risen steadily since the 1970s (when it hovered around 9 percent) and through several presidencies. It began to soar in the 1980s, and reached new heights and grew more quickly during the 1990s administration of Bill Clinton, a Democrat. The number dropped in the early 2000s with the burst of the dot.com bubble, and then steadily increased until 2006. So while some of Bush’s policies have favored the rich, economists say it is not fair for Biden to lay the entire rising income gap at Bush’s feet.\\n\"The big picture is that we have seen dramatic increases (in the percentage of income for the top 1 percent) over the last couple decades,\" said Emmanuel Saez, professor of economics at University of California and a co-author of the study.\\nSaez thinks more attention is being focused on the figures now because during the Clinton administration expansion, the bottom 99 percent captured more than half the growth. During the Bush expansion, real incomes for the bottom 99 percent remained fairly stagnant, while the top 1 percent captured 73 percent of the growth.\\nBottom line, says Gary Burtless, a senior fellow in economic studies at the Brookings Institution, the bottom 99 percent fared better under the Clinton administration than they did under Bush. Under Clinton, the very rich got richer, as they have under Bush. The difference is that under Clinton, the average salary for the bottom 99 percent increased from $35,500 to nearly $42,000; while under Bush the average salary for the bottom 99 percent has actually gone down $1,100.\\nEconomists point to several reasons for the growth in disparity between the very rich and everyone else, including the decline of labor unions, the loss of high-paying manufacturing jobs to cheap labor overseas, rising executive pay, and the relative drop of the minimum wage from 1981 to 2007. While goods and services became more expensive, the minimum wage stayed the same.\\nBush has, however, exacerbated the after-tax income inequality with tax cuts that disproportionately help the rich, economists said. He also has resisted congressional attempts to cut costs for the working poor, such as by opposing an expansion of a popular children’s health insurance program that he says helps some who don’t need it.\\nBiden cites the number accurately for the amount of income captured by the top 1 percent, and he’s technically right when he says \"that wasn’t the way before George Bush became president.\" It went from 21.5 to 22.8. We allow that there is a more stark difference in how well the lower 99 percent fared, which backs up Biden\\'s overall point about income disparity growing under Bush. It has, some. But the percent of income caputured by the top 1 percent has risen fairly steadily for decades, and we think it\\'s misleading for Biden to suggest this disparity didn\\'t exist before Bush. And so we only give him a Half True.'"
      ]
     },
     "execution_count": 7,
     "metadata": {},
     "output_type": "execute_result"
    }
   ],
   "source": [
    "FNID_liar.iloc[0].fullText_based_content"
   ]
  },
  {
   "cell_type": "code",
   "execution_count": 4,
   "id": "d99c23a9-be62-4017-bd67-8ef519ecccc0",
   "metadata": {},
   "outputs": [
    {
     "name": "stdout",
     "output_type": "stream",
     "text": [
      "      source credibility                                              title  \\\n",
      "0  source_18    credible         البرلمان ينعى المناضل الراحل أحمد المستيري   \n",
      "1  source_18    credible  انطلاق اختبارات البكالوريا البيضاء الأسبوع المقبل   \n",
      "2  source_18    credible              تطور صادرات الغلال التونسية بنسب مهمة   \n",
      "3  source_18    credible                تلقيح أكثر من 765 ألف شخص ضد كورونا   \n",
      "4  source_18    credible  المشيشي يفتتح مع نظيره الليبي المنتدى الاقتصاد...   \n",
      "\n",
      "                                                text  \\\n",
      "0  البرلمان ينعى المناضل الراحل أحمد المستيري\\n\\n...   \n",
      "1  انطلاق اختبارات البكالوريا البيضاء الأسبوع الم...   \n",
      "2  تطور صادرات الغلال التونسية بنسب مهمة\\n\\nتطورت...   \n",
      "3  أفادت وزارة الصحة، في بلاغ اليوم الاحد 23 ماي ...   \n",
      "4  افتتح رئيس حكومة الوحدة الوطنية عبد الحميد الد...   \n",
      "\n",
      "               published_date  \n",
      "0  2021-05-23T13:34:01.070000  \n",
      "1  2021-05-23T13:12:12.730000  \n",
      "2  2021-05-23T12:57:30.297000  \n",
      "3  2021-05-23T12:14:58.493000  \n",
      "4  2021-05-23T11:35:24.860000  \n"
     ]
    }
   ],
   "source": [
    "import os\n",
    "import json\n",
    "import pandas as pd\n",
    "\n",
    "# Paths\n",
    "dataset_path = 'datasets/text datasets/AFND/Dataset'\n",
    "sources_file = 'datasets/text datasets/AFND/sources.json'\n",
    "\n",
    "# Load sources credibility info\n",
    "with open(sources_file, 'r') as f:\n",
    "    sources_info = json.load(f)\n",
    "\n",
    "# List to collect all articles\n",
    "articles_data = []\n",
    "\n",
    "# Traverse each source folder in the Dataset directory\n",
    "for source_folder in os.listdir(dataset_path):\n",
    "    source_path = os.path.join(dataset_path, source_folder)\n",
    "\n",
    "    if not os.path.isdir(source_path):\n",
    "        continue\n",
    "\n",
    "    # Get credibility from sources.json\n",
    "    credibility = sources_info.get(source_folder, 'unknown')\n",
    "\n",
    "    # Path to the scrapped_articles.json\n",
    "    articles_file = os.path.join(source_path, 'scraped_articles.json')\n",
    "\n",
    "    if os.path.exists(articles_file):\n",
    "        with open(articles_file, 'r') as f:\n",
    "            try:\n",
    "                data = json.load(f)\n",
    "                articles = data.get('articles', [])\n",
    "            except json.JSONDecodeError:\n",
    "                print(f\"Could not decode JSON for {articles_file}\")\n",
    "                continue\n",
    "\n",
    "            for article in articles:\n",
    "                articles_data.append({\n",
    "                    'source': source_folder,\n",
    "                    'credibility': credibility,\n",
    "                    'title': article.get('title', ''),\n",
    "                    'text': article.get('text', ''),\n",
    "                    'published_date': article.get('published date', '')\n",
    "                })\n",
    "\n",
    "# Convert to DataFrame\n",
    "df = pd.DataFrame(articles_data)\n",
    "\n",
    "# Optional: Save to CSV\n",
    "# df.to_csv('articles_dataset.csv', index=False)\n",
    "\n",
    "# Show preview\n",
    "print(df.head())"
   ]
  },
  {
   "cell_type": "code",
   "execution_count": 5,
   "id": "08360488-a021-4ca5-9be0-b1c2162e01e8",
   "metadata": {},
   "outputs": [
    {
     "name": "stdout",
     "output_type": "stream",
     "text": [
      "       source credibility                                              title  \\\n",
      "0  source_122   undecided  انتقل للإسكندرية القديمة.. بيت صيفي يحمل نسيم ...   \n",
      "1  source_122   undecided              آهلا بالصيف .. حمامات سباحة لكل مساحة   \n",
      "2  source_122   undecided  بعيدًا عن كورونا تجول داخل هذا المنزل الساحر ب...   \n",
      "3  source_122   undecided  قصر الجواهر في ميريدا.. أندلس القرون الوسطى تظ...   \n",
      "4  source_122   undecided  متى تزورنا الكائنات الفضائية؟ أحياء بيننا لكنن...   \n",
      "\n",
      "                                                text  \\\n",
      "0  تصميم بيت صيفى.. مهمة ليست سهلة على مصمم الديك...   \n",
      "1  «أيقونة».. مجلة إلكترونية، من إصدارات «المصري ...   \n",
      "2  هل تحلم بالعيش في شقة ملكية تقع بمدينة أودايبو...   \n",
      "3  هل سمعت عن قصر الجواهر بميريدا؟ .. لفت التراث ...   \n",
      "4  «المخلوقات الفضائية موجودة، ومن الممكن أن تكون...   \n",
      "\n",
      "              published_date  \n",
      "0  2021-05-22T09:28:19+00:00  \n",
      "1  2021-05-18T10:34:29+00:00  \n",
      "2  2021-05-18T10:14:14+00:00  \n",
      "3  2021-05-18T08:42:40+00:00  \n",
      "4  2021-05-16T02:10:29+00:00  \n"
     ]
    }
   ],
   "source": [
    "import os\n",
    "import json\n",
    "import pandas as pd\n",
    "from concurrent.futures import ThreadPoolExecutor, as_completed\n",
    "\n",
    "# Paths\n",
    "dataset_path = 'datasets/text datasets/AFND/Dataset'\n",
    "sources_file = 'datasets/text datasets/AFND/sources.json'\n",
    "\n",
    "# Load sources credibility info\n",
    "with open(sources_file, 'r') as f:\n",
    "    sources_info = json.load(f)\n",
    "\n",
    "# Thread-safe list to collect articles\n",
    "all_articles = []\n",
    "\n",
    "# Function to process one folder\n",
    "def process_source(source_folder):\n",
    "    source_path = os.path.join(dataset_path, source_folder)\n",
    "    articles_file = os.path.join(source_path, 'scraped_articles.json')\n",
    "\n",
    "    if not os.path.exists(articles_file):\n",
    "        return []\n",
    "\n",
    "    try:\n",
    "        with open(articles_file, 'r') as f:\n",
    "            data = json.load(f)\n",
    "            articles = data.get('articles', [])\n",
    "    except Exception as e:\n",
    "        print(f\"Error processing {articles_file}: {e}\")\n",
    "        return []\n",
    "\n",
    "    credibility = sources_info.get(source_folder, 'unknown')\n",
    "    result = []\n",
    "\n",
    "    for article in articles:\n",
    "        result.append({\n",
    "            'source': source_folder,\n",
    "            'credibility': credibility,\n",
    "            'title': article.get('title', ''),\n",
    "            'text': article.get('text', ''),\n",
    "            'published_date': article.get('published date', '')\n",
    "        })\n",
    "\n",
    "    return result\n",
    "\n",
    "# Get list of folders to process\n",
    "source_folders = [\n",
    "    f for f in os.listdir(dataset_path)\n",
    "    if os.path.isdir(os.path.join(dataset_path, f))\n",
    "]\n",
    "\n",
    "# Use ThreadPoolExecutor for multithreading\n",
    "with ThreadPoolExecutor(max_workers=25) as executor:\n",
    "    future_to_source = {executor.submit(process_source, folder): folder for folder in source_folders}\n",
    "    for future in as_completed(future_to_source):\n",
    "        articles = future.result()\n",
    "        all_articles.extend(articles)\n",
    "\n",
    "# Convert to DataFrame\n",
    "df = pd.DataFrame(all_articles)\n",
    "\n",
    "# Optional: Save to CSV\n",
    "# df.to_csv('articles_dataset.csv', index=False)\n",
    "\n",
    "# Show preview\n",
    "print(df.head())\n"
   ]
  },
  {
   "cell_type": "code",
   "execution_count": 7,
   "id": "bf66de4a-184a-4c6d-a020-daced44bfa9a",
   "metadata": {},
   "outputs": [
    {
     "data": {
      "text/plain": [
       "array(['undecided', 'not credible', 'credible'], dtype=object)"
      ]
     },
     "execution_count": 7,
     "metadata": {},
     "output_type": "execute_result"
    }
   ],
   "source": [
    "df.credibility.unique()"
   ]
  },
  {
   "cell_type": "code",
   "execution_count": null,
   "id": "184e1926-6fdb-47c4-9580-062c515f0aaf",
   "metadata": {},
   "outputs": [],
   "source": []
  }
 ],
 "metadata": {
  "kernelspec": {
   "display_name": "Python 3 (ipykernel)",
   "language": "python",
   "name": "python3"
  },
  "language_info": {
   "codemirror_mode": {
    "name": "ipython",
    "version": 3
   },
   "file_extension": ".py",
   "mimetype": "text/x-python",
   "name": "python",
   "nbconvert_exporter": "python",
   "pygments_lexer": "ipython3",
   "version": "3.10.16"
  }
 },
 "nbformat": 4,
 "nbformat_minor": 5
}
